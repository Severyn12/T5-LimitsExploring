{
  "metadata": {
    "colab": {
      "provenance": [],
      "gpuType": "T4"
    },
    "kernelspec": {
      "name": "python3",
      "display_name": "Python 3",
      "language": "python"
    },
    "language_info": {
      "name": "python",
      "version": "3.10.10",
      "mimetype": "text/x-python",
      "codemirror_mode": {
        "name": "ipython",
        "version": 3
      },
      "pygments_lexer": "ipython3",
      "nbconvert_exporter": "python",
      "file_extension": ".py"
    },
    "accelerator": "GPU",
    "widgets": {
      "application/vnd.jupyter.widget-state+json": {
        "cd3250c515b148c598a55efc266cbcc4": {
          "model_module": "@jupyter-widgets/controls",
          "model_name": "HBoxModel",
          "model_module_version": "1.5.0",
          "state": {
            "_dom_classes": [],
            "_model_module": "@jupyter-widgets/controls",
            "_model_module_version": "1.5.0",
            "_model_name": "HBoxModel",
            "_view_count": null,
            "_view_module": "@jupyter-widgets/controls",
            "_view_module_version": "1.5.0",
            "_view_name": "HBoxView",
            "box_style": "",
            "children": [
              "IPY_MODEL_906c2b1d76234286b026f9f9e7e0f306",
              "IPY_MODEL_c171f52a67d24e1aae9380d91a3ed90c",
              "IPY_MODEL_01cd396b419f4acdaddfff011dc12203"
            ],
            "layout": "IPY_MODEL_a33caccc1deb4b7f9c59e0a65ac7fd86"
          }
        },
        "906c2b1d76234286b026f9f9e7e0f306": {
          "model_module": "@jupyter-widgets/controls",
          "model_name": "HTMLModel",
          "model_module_version": "1.5.0",
          "state": {
            "_dom_classes": [],
            "_model_module": "@jupyter-widgets/controls",
            "_model_module_version": "1.5.0",
            "_model_name": "HTMLModel",
            "_view_count": null,
            "_view_module": "@jupyter-widgets/controls",
            "_view_module_version": "1.5.0",
            "_view_name": "HTMLView",
            "description": "",
            "description_tooltip": null,
            "layout": "IPY_MODEL_0503193b14144e9794fbf6027180c497",
            "placeholder": "​",
            "style": "IPY_MODEL_d7bd2287a9f14c2a8026a09355cfbe38",
            "value": "Filter:   0%"
          }
        },
        "c171f52a67d24e1aae9380d91a3ed90c": {
          "model_module": "@jupyter-widgets/controls",
          "model_name": "FloatProgressModel",
          "model_module_version": "1.5.0",
          "state": {
            "_dom_classes": [],
            "_model_module": "@jupyter-widgets/controls",
            "_model_module_version": "1.5.0",
            "_model_name": "FloatProgressModel",
            "_view_count": null,
            "_view_module": "@jupyter-widgets/controls",
            "_view_module_version": "1.5.0",
            "_view_name": "ProgressView",
            "bar_style": "",
            "description": "",
            "description_tooltip": null,
            "layout": "IPY_MODEL_5c792edc148a484694e6af5fd23d5349",
            "max": 1000,
            "min": 0,
            "orientation": "horizontal",
            "style": "IPY_MODEL_9ad7c7eaed6b4c01a3717e34947bad8f",
            "value": 1000
          }
        },
        "01cd396b419f4acdaddfff011dc12203": {
          "model_module": "@jupyter-widgets/controls",
          "model_name": "HTMLModel",
          "model_module_version": "1.5.0",
          "state": {
            "_dom_classes": [],
            "_model_module": "@jupyter-widgets/controls",
            "_model_module_version": "1.5.0",
            "_model_name": "HTMLModel",
            "_view_count": null,
            "_view_module": "@jupyter-widgets/controls",
            "_view_module_version": "1.5.0",
            "_view_name": "HTMLView",
            "description": "",
            "description_tooltip": null,
            "layout": "IPY_MODEL_e6a03a5f6ef44713ac3955ebcc7c9d16",
            "placeholder": "​",
            "style": "IPY_MODEL_39c823a5a9874b9eacc137daf2b0aa14",
            "value": " 0/1000 [00:00&lt;?, ? examples/s]"
          }
        },
        "a33caccc1deb4b7f9c59e0a65ac7fd86": {
          "model_module": "@jupyter-widgets/base",
          "model_name": "LayoutModel",
          "model_module_version": "1.2.0",
          "state": {
            "_model_module": "@jupyter-widgets/base",
            "_model_module_version": "1.2.0",
            "_model_name": "LayoutModel",
            "_view_count": null,
            "_view_module": "@jupyter-widgets/base",
            "_view_module_version": "1.2.0",
            "_view_name": "LayoutView",
            "align_content": null,
            "align_items": null,
            "align_self": null,
            "border": null,
            "bottom": null,
            "display": null,
            "flex": null,
            "flex_flow": null,
            "grid_area": null,
            "grid_auto_columns": null,
            "grid_auto_flow": null,
            "grid_auto_rows": null,
            "grid_column": null,
            "grid_gap": null,
            "grid_row": null,
            "grid_template_areas": null,
            "grid_template_columns": null,
            "grid_template_rows": null,
            "height": null,
            "justify_content": null,
            "justify_items": null,
            "left": null,
            "margin": null,
            "max_height": null,
            "max_width": null,
            "min_height": null,
            "min_width": null,
            "object_fit": null,
            "object_position": null,
            "order": null,
            "overflow": null,
            "overflow_x": null,
            "overflow_y": null,
            "padding": null,
            "right": null,
            "top": null,
            "visibility": "hidden",
            "width": null
          }
        },
        "0503193b14144e9794fbf6027180c497": {
          "model_module": "@jupyter-widgets/base",
          "model_name": "LayoutModel",
          "model_module_version": "1.2.0",
          "state": {
            "_model_module": "@jupyter-widgets/base",
            "_model_module_version": "1.2.0",
            "_model_name": "LayoutModel",
            "_view_count": null,
            "_view_module": "@jupyter-widgets/base",
            "_view_module_version": "1.2.0",
            "_view_name": "LayoutView",
            "align_content": null,
            "align_items": null,
            "align_self": null,
            "border": null,
            "bottom": null,
            "display": null,
            "flex": null,
            "flex_flow": null,
            "grid_area": null,
            "grid_auto_columns": null,
            "grid_auto_flow": null,
            "grid_auto_rows": null,
            "grid_column": null,
            "grid_gap": null,
            "grid_row": null,
            "grid_template_areas": null,
            "grid_template_columns": null,
            "grid_template_rows": null,
            "height": null,
            "justify_content": null,
            "justify_items": null,
            "left": null,
            "margin": null,
            "max_height": null,
            "max_width": null,
            "min_height": null,
            "min_width": null,
            "object_fit": null,
            "object_position": null,
            "order": null,
            "overflow": null,
            "overflow_x": null,
            "overflow_y": null,
            "padding": null,
            "right": null,
            "top": null,
            "visibility": null,
            "width": null
          }
        },
        "d7bd2287a9f14c2a8026a09355cfbe38": {
          "model_module": "@jupyter-widgets/controls",
          "model_name": "DescriptionStyleModel",
          "model_module_version": "1.5.0",
          "state": {
            "_model_module": "@jupyter-widgets/controls",
            "_model_module_version": "1.5.0",
            "_model_name": "DescriptionStyleModel",
            "_view_count": null,
            "_view_module": "@jupyter-widgets/base",
            "_view_module_version": "1.2.0",
            "_view_name": "StyleView",
            "description_width": ""
          }
        },
        "5c792edc148a484694e6af5fd23d5349": {
          "model_module": "@jupyter-widgets/base",
          "model_name": "LayoutModel",
          "model_module_version": "1.2.0",
          "state": {
            "_model_module": "@jupyter-widgets/base",
            "_model_module_version": "1.2.0",
            "_model_name": "LayoutModel",
            "_view_count": null,
            "_view_module": "@jupyter-widgets/base",
            "_view_module_version": "1.2.0",
            "_view_name": "LayoutView",
            "align_content": null,
            "align_items": null,
            "align_self": null,
            "border": null,
            "bottom": null,
            "display": null,
            "flex": null,
            "flex_flow": null,
            "grid_area": null,
            "grid_auto_columns": null,
            "grid_auto_flow": null,
            "grid_auto_rows": null,
            "grid_column": null,
            "grid_gap": null,
            "grid_row": null,
            "grid_template_areas": null,
            "grid_template_columns": null,
            "grid_template_rows": null,
            "height": null,
            "justify_content": null,
            "justify_items": null,
            "left": null,
            "margin": null,
            "max_height": null,
            "max_width": null,
            "min_height": null,
            "min_width": null,
            "object_fit": null,
            "object_position": null,
            "order": null,
            "overflow": null,
            "overflow_x": null,
            "overflow_y": null,
            "padding": null,
            "right": null,
            "top": null,
            "visibility": null,
            "width": null
          }
        },
        "9ad7c7eaed6b4c01a3717e34947bad8f": {
          "model_module": "@jupyter-widgets/controls",
          "model_name": "ProgressStyleModel",
          "model_module_version": "1.5.0",
          "state": {
            "_model_module": "@jupyter-widgets/controls",
            "_model_module_version": "1.5.0",
            "_model_name": "ProgressStyleModel",
            "_view_count": null,
            "_view_module": "@jupyter-widgets/base",
            "_view_module_version": "1.2.0",
            "_view_name": "StyleView",
            "bar_color": null,
            "description_width": ""
          }
        },
        "e6a03a5f6ef44713ac3955ebcc7c9d16": {
          "model_module": "@jupyter-widgets/base",
          "model_name": "LayoutModel",
          "model_module_version": "1.2.0",
          "state": {
            "_model_module": "@jupyter-widgets/base",
            "_model_module_version": "1.2.0",
            "_model_name": "LayoutModel",
            "_view_count": null,
            "_view_module": "@jupyter-widgets/base",
            "_view_module_version": "1.2.0",
            "_view_name": "LayoutView",
            "align_content": null,
            "align_items": null,
            "align_self": null,
            "border": null,
            "bottom": null,
            "display": null,
            "flex": null,
            "flex_flow": null,
            "grid_area": null,
            "grid_auto_columns": null,
            "grid_auto_flow": null,
            "grid_auto_rows": null,
            "grid_column": null,
            "grid_gap": null,
            "grid_row": null,
            "grid_template_areas": null,
            "grid_template_columns": null,
            "grid_template_rows": null,
            "height": null,
            "justify_content": null,
            "justify_items": null,
            "left": null,
            "margin": null,
            "max_height": null,
            "max_width": null,
            "min_height": null,
            "min_width": null,
            "object_fit": null,
            "object_position": null,
            "order": null,
            "overflow": null,
            "overflow_x": null,
            "overflow_y": null,
            "padding": null,
            "right": null,
            "top": null,
            "visibility": null,
            "width": null
          }
        },
        "39c823a5a9874b9eacc137daf2b0aa14": {
          "model_module": "@jupyter-widgets/controls",
          "model_name": "DescriptionStyleModel",
          "model_module_version": "1.5.0",
          "state": {
            "_model_module": "@jupyter-widgets/controls",
            "_model_module_version": "1.5.0",
            "_model_name": "DescriptionStyleModel",
            "_view_count": null,
            "_view_module": "@jupyter-widgets/base",
            "_view_module_version": "1.2.0",
            "_view_name": "StyleView",
            "description_width": ""
          }
        },
        "811b05d1dc0649c29d35c5c995904e77": {
          "model_module": "@jupyter-widgets/controls",
          "model_name": "HBoxModel",
          "model_module_version": "1.5.0",
          "state": {
            "_dom_classes": [],
            "_model_module": "@jupyter-widgets/controls",
            "_model_module_version": "1.5.0",
            "_model_name": "HBoxModel",
            "_view_count": null,
            "_view_module": "@jupyter-widgets/controls",
            "_view_module_version": "1.5.0",
            "_view_name": "HBoxView",
            "box_style": "",
            "children": [
              "IPY_MODEL_bae86780d5514dcbb0864c8075ca0682",
              "IPY_MODEL_c846fb1e8d384cf98d7aa1bde1b108fd",
              "IPY_MODEL_5af8d71520a44788b3374f169cd3b3a3"
            ],
            "layout": "IPY_MODEL_b27b9706584d40d2b85db383fa835d98"
          }
        },
        "bae86780d5514dcbb0864c8075ca0682": {
          "model_module": "@jupyter-widgets/controls",
          "model_name": "HTMLModel",
          "model_module_version": "1.5.0",
          "state": {
            "_dom_classes": [],
            "_model_module": "@jupyter-widgets/controls",
            "_model_module_version": "1.5.0",
            "_model_name": "HTMLModel",
            "_view_count": null,
            "_view_module": "@jupyter-widgets/controls",
            "_view_module_version": "1.5.0",
            "_view_name": "HTMLView",
            "description": "",
            "description_tooltip": null,
            "layout": "IPY_MODEL_f6a4554f164c4984b161cc35349015fb",
            "placeholder": "​",
            "style": "IPY_MODEL_3b38fa57335b40718b54885ae69fee8d",
            "value": "Filter:   0%"
          }
        },
        "c846fb1e8d384cf98d7aa1bde1b108fd": {
          "model_module": "@jupyter-widgets/controls",
          "model_name": "FloatProgressModel",
          "model_module_version": "1.5.0",
          "state": {
            "_dom_classes": [],
            "_model_module": "@jupyter-widgets/controls",
            "_model_module_version": "1.5.0",
            "_model_name": "FloatProgressModel",
            "_view_count": null,
            "_view_module": "@jupyter-widgets/controls",
            "_view_module_version": "1.5.0",
            "_view_name": "ProgressView",
            "bar_style": "",
            "description": "",
            "description_tooltip": null,
            "layout": "IPY_MODEL_2251a55fcf654c679f6464ec848bb6be",
            "max": 300,
            "min": 0,
            "orientation": "horizontal",
            "style": "IPY_MODEL_6d001c64cbef4c08bd5b6fcc55834a08",
            "value": 300
          }
        },
        "5af8d71520a44788b3374f169cd3b3a3": {
          "model_module": "@jupyter-widgets/controls",
          "model_name": "HTMLModel",
          "model_module_version": "1.5.0",
          "state": {
            "_dom_classes": [],
            "_model_module": "@jupyter-widgets/controls",
            "_model_module_version": "1.5.0",
            "_model_name": "HTMLModel",
            "_view_count": null,
            "_view_module": "@jupyter-widgets/controls",
            "_view_module_version": "1.5.0",
            "_view_name": "HTMLView",
            "description": "",
            "description_tooltip": null,
            "layout": "IPY_MODEL_cf2d504cce5d438290fc6854d17458ca",
            "placeholder": "​",
            "style": "IPY_MODEL_86f6a7a28e0044208293d63d0bfecc0e",
            "value": " 0/300 [00:00&lt;?, ? examples/s]"
          }
        },
        "b27b9706584d40d2b85db383fa835d98": {
          "model_module": "@jupyter-widgets/base",
          "model_name": "LayoutModel",
          "model_module_version": "1.2.0",
          "state": {
            "_model_module": "@jupyter-widgets/base",
            "_model_module_version": "1.2.0",
            "_model_name": "LayoutModel",
            "_view_count": null,
            "_view_module": "@jupyter-widgets/base",
            "_view_module_version": "1.2.0",
            "_view_name": "LayoutView",
            "align_content": null,
            "align_items": null,
            "align_self": null,
            "border": null,
            "bottom": null,
            "display": null,
            "flex": null,
            "flex_flow": null,
            "grid_area": null,
            "grid_auto_columns": null,
            "grid_auto_flow": null,
            "grid_auto_rows": null,
            "grid_column": null,
            "grid_gap": null,
            "grid_row": null,
            "grid_template_areas": null,
            "grid_template_columns": null,
            "grid_template_rows": null,
            "height": null,
            "justify_content": null,
            "justify_items": null,
            "left": null,
            "margin": null,
            "max_height": null,
            "max_width": null,
            "min_height": null,
            "min_width": null,
            "object_fit": null,
            "object_position": null,
            "order": null,
            "overflow": null,
            "overflow_x": null,
            "overflow_y": null,
            "padding": null,
            "right": null,
            "top": null,
            "visibility": "hidden",
            "width": null
          }
        },
        "f6a4554f164c4984b161cc35349015fb": {
          "model_module": "@jupyter-widgets/base",
          "model_name": "LayoutModel",
          "model_module_version": "1.2.0",
          "state": {
            "_model_module": "@jupyter-widgets/base",
            "_model_module_version": "1.2.0",
            "_model_name": "LayoutModel",
            "_view_count": null,
            "_view_module": "@jupyter-widgets/base",
            "_view_module_version": "1.2.0",
            "_view_name": "LayoutView",
            "align_content": null,
            "align_items": null,
            "align_self": null,
            "border": null,
            "bottom": null,
            "display": null,
            "flex": null,
            "flex_flow": null,
            "grid_area": null,
            "grid_auto_columns": null,
            "grid_auto_flow": null,
            "grid_auto_rows": null,
            "grid_column": null,
            "grid_gap": null,
            "grid_row": null,
            "grid_template_areas": null,
            "grid_template_columns": null,
            "grid_template_rows": null,
            "height": null,
            "justify_content": null,
            "justify_items": null,
            "left": null,
            "margin": null,
            "max_height": null,
            "max_width": null,
            "min_height": null,
            "min_width": null,
            "object_fit": null,
            "object_position": null,
            "order": null,
            "overflow": null,
            "overflow_x": null,
            "overflow_y": null,
            "padding": null,
            "right": null,
            "top": null,
            "visibility": null,
            "width": null
          }
        },
        "3b38fa57335b40718b54885ae69fee8d": {
          "model_module": "@jupyter-widgets/controls",
          "model_name": "DescriptionStyleModel",
          "model_module_version": "1.5.0",
          "state": {
            "_model_module": "@jupyter-widgets/controls",
            "_model_module_version": "1.5.0",
            "_model_name": "DescriptionStyleModel",
            "_view_count": null,
            "_view_module": "@jupyter-widgets/base",
            "_view_module_version": "1.2.0",
            "_view_name": "StyleView",
            "description_width": ""
          }
        },
        "2251a55fcf654c679f6464ec848bb6be": {
          "model_module": "@jupyter-widgets/base",
          "model_name": "LayoutModel",
          "model_module_version": "1.2.0",
          "state": {
            "_model_module": "@jupyter-widgets/base",
            "_model_module_version": "1.2.0",
            "_model_name": "LayoutModel",
            "_view_count": null,
            "_view_module": "@jupyter-widgets/base",
            "_view_module_version": "1.2.0",
            "_view_name": "LayoutView",
            "align_content": null,
            "align_items": null,
            "align_self": null,
            "border": null,
            "bottom": null,
            "display": null,
            "flex": null,
            "flex_flow": null,
            "grid_area": null,
            "grid_auto_columns": null,
            "grid_auto_flow": null,
            "grid_auto_rows": null,
            "grid_column": null,
            "grid_gap": null,
            "grid_row": null,
            "grid_template_areas": null,
            "grid_template_columns": null,
            "grid_template_rows": null,
            "height": null,
            "justify_content": null,
            "justify_items": null,
            "left": null,
            "margin": null,
            "max_height": null,
            "max_width": null,
            "min_height": null,
            "min_width": null,
            "object_fit": null,
            "object_position": null,
            "order": null,
            "overflow": null,
            "overflow_x": null,
            "overflow_y": null,
            "padding": null,
            "right": null,
            "top": null,
            "visibility": null,
            "width": null
          }
        },
        "6d001c64cbef4c08bd5b6fcc55834a08": {
          "model_module": "@jupyter-widgets/controls",
          "model_name": "ProgressStyleModel",
          "model_module_version": "1.5.0",
          "state": {
            "_model_module": "@jupyter-widgets/controls",
            "_model_module_version": "1.5.0",
            "_model_name": "ProgressStyleModel",
            "_view_count": null,
            "_view_module": "@jupyter-widgets/base",
            "_view_module_version": "1.2.0",
            "_view_name": "StyleView",
            "bar_color": null,
            "description_width": ""
          }
        },
        "cf2d504cce5d438290fc6854d17458ca": {
          "model_module": "@jupyter-widgets/base",
          "model_name": "LayoutModel",
          "model_module_version": "1.2.0",
          "state": {
            "_model_module": "@jupyter-widgets/base",
            "_model_module_version": "1.2.0",
            "_model_name": "LayoutModel",
            "_view_count": null,
            "_view_module": "@jupyter-widgets/base",
            "_view_module_version": "1.2.0",
            "_view_name": "LayoutView",
            "align_content": null,
            "align_items": null,
            "align_self": null,
            "border": null,
            "bottom": null,
            "display": null,
            "flex": null,
            "flex_flow": null,
            "grid_area": null,
            "grid_auto_columns": null,
            "grid_auto_flow": null,
            "grid_auto_rows": null,
            "grid_column": null,
            "grid_gap": null,
            "grid_row": null,
            "grid_template_areas": null,
            "grid_template_columns": null,
            "grid_template_rows": null,
            "height": null,
            "justify_content": null,
            "justify_items": null,
            "left": null,
            "margin": null,
            "max_height": null,
            "max_width": null,
            "min_height": null,
            "min_width": null,
            "object_fit": null,
            "object_position": null,
            "order": null,
            "overflow": null,
            "overflow_x": null,
            "overflow_y": null,
            "padding": null,
            "right": null,
            "top": null,
            "visibility": null,
            "width": null
          }
        },
        "86f6a7a28e0044208293d63d0bfecc0e": {
          "model_module": "@jupyter-widgets/controls",
          "model_name": "DescriptionStyleModel",
          "model_module_version": "1.5.0",
          "state": {
            "_model_module": "@jupyter-widgets/controls",
            "_model_module_version": "1.5.0",
            "_model_name": "DescriptionStyleModel",
            "_view_count": null,
            "_view_module": "@jupyter-widgets/base",
            "_view_module_version": "1.2.0",
            "_view_name": "StyleView",
            "description_width": ""
          }
        },
        "958024150a3d42549dd94b7801883c55": {
          "model_module": "@jupyter-widgets/controls",
          "model_name": "HBoxModel",
          "model_module_version": "1.5.0",
          "state": {
            "_dom_classes": [],
            "_model_module": "@jupyter-widgets/controls",
            "_model_module_version": "1.5.0",
            "_model_name": "HBoxModel",
            "_view_count": null,
            "_view_module": "@jupyter-widgets/controls",
            "_view_module_version": "1.5.0",
            "_view_name": "HBoxView",
            "box_style": "",
            "children": [
              "IPY_MODEL_0ee2703d105e4828b37fe612bfbe033d",
              "IPY_MODEL_6b25e426d76745ea8868eee5946ef599",
              "IPY_MODEL_4598c66b8a53404b837792b65e6f2e03"
            ],
            "layout": "IPY_MODEL_64f787321e5048ae9d573259a891c4f8"
          }
        },
        "0ee2703d105e4828b37fe612bfbe033d": {
          "model_module": "@jupyter-widgets/controls",
          "model_name": "HTMLModel",
          "model_module_version": "1.5.0",
          "state": {
            "_dom_classes": [],
            "_model_module": "@jupyter-widgets/controls",
            "_model_module_version": "1.5.0",
            "_model_name": "HTMLModel",
            "_view_count": null,
            "_view_module": "@jupyter-widgets/controls",
            "_view_module_version": "1.5.0",
            "_view_name": "HTMLView",
            "description": "",
            "description_tooltip": null,
            "layout": "IPY_MODEL_ec5602a0e73b4e1da92ef4a9a64315a7",
            "placeholder": "​",
            "style": "IPY_MODEL_5cee4be70e6142d7b512fd9cbf34580d",
            "value": "Filter:   0%"
          }
        },
        "6b25e426d76745ea8868eee5946ef599": {
          "model_module": "@jupyter-widgets/controls",
          "model_name": "FloatProgressModel",
          "model_module_version": "1.5.0",
          "state": {
            "_dom_classes": [],
            "_model_module": "@jupyter-widgets/controls",
            "_model_module_version": "1.5.0",
            "_model_name": "FloatProgressModel",
            "_view_count": null,
            "_view_module": "@jupyter-widgets/controls",
            "_view_module_version": "1.5.0",
            "_view_name": "ProgressView",
            "bar_style": "",
            "description": "",
            "description_tooltip": null,
            "layout": "IPY_MODEL_47e28a5f0baf4ec2b2cb79719ccb80a1",
            "max": 300,
            "min": 0,
            "orientation": "horizontal",
            "style": "IPY_MODEL_963b36b9fe6e4ae8b0d1d0be90c7bdb9",
            "value": 300
          }
        },
        "4598c66b8a53404b837792b65e6f2e03": {
          "model_module": "@jupyter-widgets/controls",
          "model_name": "HTMLModel",
          "model_module_version": "1.5.0",
          "state": {
            "_dom_classes": [],
            "_model_module": "@jupyter-widgets/controls",
            "_model_module_version": "1.5.0",
            "_model_name": "HTMLModel",
            "_view_count": null,
            "_view_module": "@jupyter-widgets/controls",
            "_view_module_version": "1.5.0",
            "_view_name": "HTMLView",
            "description": "",
            "description_tooltip": null,
            "layout": "IPY_MODEL_2e60b3d2930e41169414bc70996c8a05",
            "placeholder": "​",
            "style": "IPY_MODEL_57d46c3f82114caa942330f92f08d5e3",
            "value": " 0/300 [00:00&lt;?, ? examples/s]"
          }
        },
        "64f787321e5048ae9d573259a891c4f8": {
          "model_module": "@jupyter-widgets/base",
          "model_name": "LayoutModel",
          "model_module_version": "1.2.0",
          "state": {
            "_model_module": "@jupyter-widgets/base",
            "_model_module_version": "1.2.0",
            "_model_name": "LayoutModel",
            "_view_count": null,
            "_view_module": "@jupyter-widgets/base",
            "_view_module_version": "1.2.0",
            "_view_name": "LayoutView",
            "align_content": null,
            "align_items": null,
            "align_self": null,
            "border": null,
            "bottom": null,
            "display": null,
            "flex": null,
            "flex_flow": null,
            "grid_area": null,
            "grid_auto_columns": null,
            "grid_auto_flow": null,
            "grid_auto_rows": null,
            "grid_column": null,
            "grid_gap": null,
            "grid_row": null,
            "grid_template_areas": null,
            "grid_template_columns": null,
            "grid_template_rows": null,
            "height": null,
            "justify_content": null,
            "justify_items": null,
            "left": null,
            "margin": null,
            "max_height": null,
            "max_width": null,
            "min_height": null,
            "min_width": null,
            "object_fit": null,
            "object_position": null,
            "order": null,
            "overflow": null,
            "overflow_x": null,
            "overflow_y": null,
            "padding": null,
            "right": null,
            "top": null,
            "visibility": "hidden",
            "width": null
          }
        },
        "ec5602a0e73b4e1da92ef4a9a64315a7": {
          "model_module": "@jupyter-widgets/base",
          "model_name": "LayoutModel",
          "model_module_version": "1.2.0",
          "state": {
            "_model_module": "@jupyter-widgets/base",
            "_model_module_version": "1.2.0",
            "_model_name": "LayoutModel",
            "_view_count": null,
            "_view_module": "@jupyter-widgets/base",
            "_view_module_version": "1.2.0",
            "_view_name": "LayoutView",
            "align_content": null,
            "align_items": null,
            "align_self": null,
            "border": null,
            "bottom": null,
            "display": null,
            "flex": null,
            "flex_flow": null,
            "grid_area": null,
            "grid_auto_columns": null,
            "grid_auto_flow": null,
            "grid_auto_rows": null,
            "grid_column": null,
            "grid_gap": null,
            "grid_row": null,
            "grid_template_areas": null,
            "grid_template_columns": null,
            "grid_template_rows": null,
            "height": null,
            "justify_content": null,
            "justify_items": null,
            "left": null,
            "margin": null,
            "max_height": null,
            "max_width": null,
            "min_height": null,
            "min_width": null,
            "object_fit": null,
            "object_position": null,
            "order": null,
            "overflow": null,
            "overflow_x": null,
            "overflow_y": null,
            "padding": null,
            "right": null,
            "top": null,
            "visibility": null,
            "width": null
          }
        },
        "5cee4be70e6142d7b512fd9cbf34580d": {
          "model_module": "@jupyter-widgets/controls",
          "model_name": "DescriptionStyleModel",
          "model_module_version": "1.5.0",
          "state": {
            "_model_module": "@jupyter-widgets/controls",
            "_model_module_version": "1.5.0",
            "_model_name": "DescriptionStyleModel",
            "_view_count": null,
            "_view_module": "@jupyter-widgets/base",
            "_view_module_version": "1.2.0",
            "_view_name": "StyleView",
            "description_width": ""
          }
        },
        "47e28a5f0baf4ec2b2cb79719ccb80a1": {
          "model_module": "@jupyter-widgets/base",
          "model_name": "LayoutModel",
          "model_module_version": "1.2.0",
          "state": {
            "_model_module": "@jupyter-widgets/base",
            "_model_module_version": "1.2.0",
            "_model_name": "LayoutModel",
            "_view_count": null,
            "_view_module": "@jupyter-widgets/base",
            "_view_module_version": "1.2.0",
            "_view_name": "LayoutView",
            "align_content": null,
            "align_items": null,
            "align_self": null,
            "border": null,
            "bottom": null,
            "display": null,
            "flex": null,
            "flex_flow": null,
            "grid_area": null,
            "grid_auto_columns": null,
            "grid_auto_flow": null,
            "grid_auto_rows": null,
            "grid_column": null,
            "grid_gap": null,
            "grid_row": null,
            "grid_template_areas": null,
            "grid_template_columns": null,
            "grid_template_rows": null,
            "height": null,
            "justify_content": null,
            "justify_items": null,
            "left": null,
            "margin": null,
            "max_height": null,
            "max_width": null,
            "min_height": null,
            "min_width": null,
            "object_fit": null,
            "object_position": null,
            "order": null,
            "overflow": null,
            "overflow_x": null,
            "overflow_y": null,
            "padding": null,
            "right": null,
            "top": null,
            "visibility": null,
            "width": null
          }
        },
        "963b36b9fe6e4ae8b0d1d0be90c7bdb9": {
          "model_module": "@jupyter-widgets/controls",
          "model_name": "ProgressStyleModel",
          "model_module_version": "1.5.0",
          "state": {
            "_model_module": "@jupyter-widgets/controls",
            "_model_module_version": "1.5.0",
            "_model_name": "ProgressStyleModel",
            "_view_count": null,
            "_view_module": "@jupyter-widgets/base",
            "_view_module_version": "1.2.0",
            "_view_name": "StyleView",
            "bar_color": null,
            "description_width": ""
          }
        },
        "2e60b3d2930e41169414bc70996c8a05": {
          "model_module": "@jupyter-widgets/base",
          "model_name": "LayoutModel",
          "model_module_version": "1.2.0",
          "state": {
            "_model_module": "@jupyter-widgets/base",
            "_model_module_version": "1.2.0",
            "_model_name": "LayoutModel",
            "_view_count": null,
            "_view_module": "@jupyter-widgets/base",
            "_view_module_version": "1.2.0",
            "_view_name": "LayoutView",
            "align_content": null,
            "align_items": null,
            "align_self": null,
            "border": null,
            "bottom": null,
            "display": null,
            "flex": null,
            "flex_flow": null,
            "grid_area": null,
            "grid_auto_columns": null,
            "grid_auto_flow": null,
            "grid_auto_rows": null,
            "grid_column": null,
            "grid_gap": null,
            "grid_row": null,
            "grid_template_areas": null,
            "grid_template_columns": null,
            "grid_template_rows": null,
            "height": null,
            "justify_content": null,
            "justify_items": null,
            "left": null,
            "margin": null,
            "max_height": null,
            "max_width": null,
            "min_height": null,
            "min_width": null,
            "object_fit": null,
            "object_position": null,
            "order": null,
            "overflow": null,
            "overflow_x": null,
            "overflow_y": null,
            "padding": null,
            "right": null,
            "top": null,
            "visibility": null,
            "width": null
          }
        },
        "57d46c3f82114caa942330f92f08d5e3": {
          "model_module": "@jupyter-widgets/controls",
          "model_name": "DescriptionStyleModel",
          "model_module_version": "1.5.0",
          "state": {
            "_model_module": "@jupyter-widgets/controls",
            "_model_module_version": "1.5.0",
            "_model_name": "DescriptionStyleModel",
            "_view_count": null,
            "_view_module": "@jupyter-widgets/base",
            "_view_module_version": "1.2.0",
            "_view_name": "StyleView",
            "description_width": ""
          }
        },
        "7b37c26e0ca14609944bea4d9a237ffc": {
          "model_module": "@jupyter-widgets/controls",
          "model_name": "HBoxModel",
          "model_module_version": "1.5.0",
          "state": {
            "_dom_classes": [],
            "_model_module": "@jupyter-widgets/controls",
            "_model_module_version": "1.5.0",
            "_model_name": "HBoxModel",
            "_view_count": null,
            "_view_module": "@jupyter-widgets/controls",
            "_view_module_version": "1.5.0",
            "_view_name": "HBoxView",
            "box_style": "",
            "children": [
              "IPY_MODEL_485c7b34f73b429586545aca0f708831",
              "IPY_MODEL_4099dfb238df4497b50667e2f97f1e01",
              "IPY_MODEL_b9c0205b7a48459989f033f3e12cf80d"
            ],
            "layout": "IPY_MODEL_00bcb997a5d2423585e43a6e7f0124f5"
          }
        },
        "485c7b34f73b429586545aca0f708831": {
          "model_module": "@jupyter-widgets/controls",
          "model_name": "HTMLModel",
          "model_module_version": "1.5.0",
          "state": {
            "_dom_classes": [],
            "_model_module": "@jupyter-widgets/controls",
            "_model_module_version": "1.5.0",
            "_model_name": "HTMLModel",
            "_view_count": null,
            "_view_module": "@jupyter-widgets/controls",
            "_view_module_version": "1.5.0",
            "_view_name": "HTMLView",
            "description": "",
            "description_tooltip": null,
            "layout": "IPY_MODEL_7c7371bc8a544ad9a1e164009ec11d44",
            "placeholder": "​",
            "style": "IPY_MODEL_4077d5c7a5b44616bcf69c23cc1453a1",
            "value": "Map:  66%"
          }
        },
        "4099dfb238df4497b50667e2f97f1e01": {
          "model_module": "@jupyter-widgets/controls",
          "model_name": "FloatProgressModel",
          "model_module_version": "1.5.0",
          "state": {
            "_dom_classes": [],
            "_model_module": "@jupyter-widgets/controls",
            "_model_module_version": "1.5.0",
            "_model_name": "FloatProgressModel",
            "_view_count": null,
            "_view_module": "@jupyter-widgets/controls",
            "_view_module_version": "1.5.0",
            "_view_name": "ProgressView",
            "bar_style": "",
            "description": "",
            "description_tooltip": null,
            "layout": "IPY_MODEL_4719c271bff84e4d8be2429f615b5b47",
            "max": 856,
            "min": 0,
            "orientation": "horizontal",
            "style": "IPY_MODEL_2eb6ed3792e84e5d81bba4f0d804ee67",
            "value": 856
          }
        },
        "b9c0205b7a48459989f033f3e12cf80d": {
          "model_module": "@jupyter-widgets/controls",
          "model_name": "HTMLModel",
          "model_module_version": "1.5.0",
          "state": {
            "_dom_classes": [],
            "_model_module": "@jupyter-widgets/controls",
            "_model_module_version": "1.5.0",
            "_model_name": "HTMLModel",
            "_view_count": null,
            "_view_module": "@jupyter-widgets/controls",
            "_view_module_version": "1.5.0",
            "_view_name": "HTMLView",
            "description": "",
            "description_tooltip": null,
            "layout": "IPY_MODEL_2c70046ce800401083ebe2e008f2516e",
            "placeholder": "​",
            "style": "IPY_MODEL_76361cc7f4ae4185b9cdcba98beb40e3",
            "value": " 569/856 [00:00&lt;00:00, 4611.45 examples/s]"
          }
        },
        "00bcb997a5d2423585e43a6e7f0124f5": {
          "model_module": "@jupyter-widgets/base",
          "model_name": "LayoutModel",
          "model_module_version": "1.2.0",
          "state": {
            "_model_module": "@jupyter-widgets/base",
            "_model_module_version": "1.2.0",
            "_model_name": "LayoutModel",
            "_view_count": null,
            "_view_module": "@jupyter-widgets/base",
            "_view_module_version": "1.2.0",
            "_view_name": "LayoutView",
            "align_content": null,
            "align_items": null,
            "align_self": null,
            "border": null,
            "bottom": null,
            "display": null,
            "flex": null,
            "flex_flow": null,
            "grid_area": null,
            "grid_auto_columns": null,
            "grid_auto_flow": null,
            "grid_auto_rows": null,
            "grid_column": null,
            "grid_gap": null,
            "grid_row": null,
            "grid_template_areas": null,
            "grid_template_columns": null,
            "grid_template_rows": null,
            "height": null,
            "justify_content": null,
            "justify_items": null,
            "left": null,
            "margin": null,
            "max_height": null,
            "max_width": null,
            "min_height": null,
            "min_width": null,
            "object_fit": null,
            "object_position": null,
            "order": null,
            "overflow": null,
            "overflow_x": null,
            "overflow_y": null,
            "padding": null,
            "right": null,
            "top": null,
            "visibility": "hidden",
            "width": null
          }
        },
        "7c7371bc8a544ad9a1e164009ec11d44": {
          "model_module": "@jupyter-widgets/base",
          "model_name": "LayoutModel",
          "model_module_version": "1.2.0",
          "state": {
            "_model_module": "@jupyter-widgets/base",
            "_model_module_version": "1.2.0",
            "_model_name": "LayoutModel",
            "_view_count": null,
            "_view_module": "@jupyter-widgets/base",
            "_view_module_version": "1.2.0",
            "_view_name": "LayoutView",
            "align_content": null,
            "align_items": null,
            "align_self": null,
            "border": null,
            "bottom": null,
            "display": null,
            "flex": null,
            "flex_flow": null,
            "grid_area": null,
            "grid_auto_columns": null,
            "grid_auto_flow": null,
            "grid_auto_rows": null,
            "grid_column": null,
            "grid_gap": null,
            "grid_row": null,
            "grid_template_areas": null,
            "grid_template_columns": null,
            "grid_template_rows": null,
            "height": null,
            "justify_content": null,
            "justify_items": null,
            "left": null,
            "margin": null,
            "max_height": null,
            "max_width": null,
            "min_height": null,
            "min_width": null,
            "object_fit": null,
            "object_position": null,
            "order": null,
            "overflow": null,
            "overflow_x": null,
            "overflow_y": null,
            "padding": null,
            "right": null,
            "top": null,
            "visibility": null,
            "width": null
          }
        },
        "4077d5c7a5b44616bcf69c23cc1453a1": {
          "model_module": "@jupyter-widgets/controls",
          "model_name": "DescriptionStyleModel",
          "model_module_version": "1.5.0",
          "state": {
            "_model_module": "@jupyter-widgets/controls",
            "_model_module_version": "1.5.0",
            "_model_name": "DescriptionStyleModel",
            "_view_count": null,
            "_view_module": "@jupyter-widgets/base",
            "_view_module_version": "1.2.0",
            "_view_name": "StyleView",
            "description_width": ""
          }
        },
        "4719c271bff84e4d8be2429f615b5b47": {
          "model_module": "@jupyter-widgets/base",
          "model_name": "LayoutModel",
          "model_module_version": "1.2.0",
          "state": {
            "_model_module": "@jupyter-widgets/base",
            "_model_module_version": "1.2.0",
            "_model_name": "LayoutModel",
            "_view_count": null,
            "_view_module": "@jupyter-widgets/base",
            "_view_module_version": "1.2.0",
            "_view_name": "LayoutView",
            "align_content": null,
            "align_items": null,
            "align_self": null,
            "border": null,
            "bottom": null,
            "display": null,
            "flex": null,
            "flex_flow": null,
            "grid_area": null,
            "grid_auto_columns": null,
            "grid_auto_flow": null,
            "grid_auto_rows": null,
            "grid_column": null,
            "grid_gap": null,
            "grid_row": null,
            "grid_template_areas": null,
            "grid_template_columns": null,
            "grid_template_rows": null,
            "height": null,
            "justify_content": null,
            "justify_items": null,
            "left": null,
            "margin": null,
            "max_height": null,
            "max_width": null,
            "min_height": null,
            "min_width": null,
            "object_fit": null,
            "object_position": null,
            "order": null,
            "overflow": null,
            "overflow_x": null,
            "overflow_y": null,
            "padding": null,
            "right": null,
            "top": null,
            "visibility": null,
            "width": null
          }
        },
        "2eb6ed3792e84e5d81bba4f0d804ee67": {
          "model_module": "@jupyter-widgets/controls",
          "model_name": "ProgressStyleModel",
          "model_module_version": "1.5.0",
          "state": {
            "_model_module": "@jupyter-widgets/controls",
            "_model_module_version": "1.5.0",
            "_model_name": "ProgressStyleModel",
            "_view_count": null,
            "_view_module": "@jupyter-widgets/base",
            "_view_module_version": "1.2.0",
            "_view_name": "StyleView",
            "bar_color": null,
            "description_width": ""
          }
        },
        "2c70046ce800401083ebe2e008f2516e": {
          "model_module": "@jupyter-widgets/base",
          "model_name": "LayoutModel",
          "model_module_version": "1.2.0",
          "state": {
            "_model_module": "@jupyter-widgets/base",
            "_model_module_version": "1.2.0",
            "_model_name": "LayoutModel",
            "_view_count": null,
            "_view_module": "@jupyter-widgets/base",
            "_view_module_version": "1.2.0",
            "_view_name": "LayoutView",
            "align_content": null,
            "align_items": null,
            "align_self": null,
            "border": null,
            "bottom": null,
            "display": null,
            "flex": null,
            "flex_flow": null,
            "grid_area": null,
            "grid_auto_columns": null,
            "grid_auto_flow": null,
            "grid_auto_rows": null,
            "grid_column": null,
            "grid_gap": null,
            "grid_row": null,
            "grid_template_areas": null,
            "grid_template_columns": null,
            "grid_template_rows": null,
            "height": null,
            "justify_content": null,
            "justify_items": null,
            "left": null,
            "margin": null,
            "max_height": null,
            "max_width": null,
            "min_height": null,
            "min_width": null,
            "object_fit": null,
            "object_position": null,
            "order": null,
            "overflow": null,
            "overflow_x": null,
            "overflow_y": null,
            "padding": null,
            "right": null,
            "top": null,
            "visibility": null,
            "width": null
          }
        },
        "76361cc7f4ae4185b9cdcba98beb40e3": {
          "model_module": "@jupyter-widgets/controls",
          "model_name": "DescriptionStyleModel",
          "model_module_version": "1.5.0",
          "state": {
            "_model_module": "@jupyter-widgets/controls",
            "_model_module_version": "1.5.0",
            "_model_name": "DescriptionStyleModel",
            "_view_count": null,
            "_view_module": "@jupyter-widgets/base",
            "_view_module_version": "1.2.0",
            "_view_name": "StyleView",
            "description_width": ""
          }
        },
        "fc7c688540474c86b272ff31d18f1ace": {
          "model_module": "@jupyter-widgets/controls",
          "model_name": "HBoxModel",
          "model_module_version": "1.5.0",
          "state": {
            "_dom_classes": [],
            "_model_module": "@jupyter-widgets/controls",
            "_model_module_version": "1.5.0",
            "_model_name": "HBoxModel",
            "_view_count": null,
            "_view_module": "@jupyter-widgets/controls",
            "_view_module_version": "1.5.0",
            "_view_name": "HBoxView",
            "box_style": "",
            "children": [
              "IPY_MODEL_dbd1c27a31dc416ba02d313f862bcb00",
              "IPY_MODEL_c78fdcfe0f9b4de1b97469df262318e6",
              "IPY_MODEL_5aabb7aef38c405088d9f24d4e88930b"
            ],
            "layout": "IPY_MODEL_78825365876942c9813f7ec9f26f9685"
          }
        },
        "dbd1c27a31dc416ba02d313f862bcb00": {
          "model_module": "@jupyter-widgets/controls",
          "model_name": "HTMLModel",
          "model_module_version": "1.5.0",
          "state": {
            "_dom_classes": [],
            "_model_module": "@jupyter-widgets/controls",
            "_model_module_version": "1.5.0",
            "_model_name": "HTMLModel",
            "_view_count": null,
            "_view_module": "@jupyter-widgets/controls",
            "_view_module_version": "1.5.0",
            "_view_name": "HTMLView",
            "description": "",
            "description_tooltip": null,
            "layout": "IPY_MODEL_60d06d22e5fe4725b64be36bf8c7549e",
            "placeholder": "​",
            "style": "IPY_MODEL_71d561948c3f497684ed4429826213e5",
            "value": "Map:   0%"
          }
        },
        "c78fdcfe0f9b4de1b97469df262318e6": {
          "model_module": "@jupyter-widgets/controls",
          "model_name": "FloatProgressModel",
          "model_module_version": "1.5.0",
          "state": {
            "_dom_classes": [],
            "_model_module": "@jupyter-widgets/controls",
            "_model_module_version": "1.5.0",
            "_model_name": "FloatProgressModel",
            "_view_count": null,
            "_view_module": "@jupyter-widgets/controls",
            "_view_module_version": "1.5.0",
            "_view_name": "ProgressView",
            "bar_style": "",
            "description": "",
            "description_tooltip": null,
            "layout": "IPY_MODEL_be611d14724c4aa59123ec923724a9ca",
            "max": 283,
            "min": 0,
            "orientation": "horizontal",
            "style": "IPY_MODEL_827b58e1daa347489700b5a1dae266c5",
            "value": 283
          }
        },
        "5aabb7aef38c405088d9f24d4e88930b": {
          "model_module": "@jupyter-widgets/controls",
          "model_name": "HTMLModel",
          "model_module_version": "1.5.0",
          "state": {
            "_dom_classes": [],
            "_model_module": "@jupyter-widgets/controls",
            "_model_module_version": "1.5.0",
            "_model_name": "HTMLModel",
            "_view_count": null,
            "_view_module": "@jupyter-widgets/controls",
            "_view_module_version": "1.5.0",
            "_view_name": "HTMLView",
            "description": "",
            "description_tooltip": null,
            "layout": "IPY_MODEL_579e08334e7a4925aeb7186e0ccdf62f",
            "placeholder": "​",
            "style": "IPY_MODEL_8b0200b662e641bbb41f28cf9b22cdc7",
            "value": " 0/283 [00:00&lt;?, ? examples/s]"
          }
        },
        "78825365876942c9813f7ec9f26f9685": {
          "model_module": "@jupyter-widgets/base",
          "model_name": "LayoutModel",
          "model_module_version": "1.2.0",
          "state": {
            "_model_module": "@jupyter-widgets/base",
            "_model_module_version": "1.2.0",
            "_model_name": "LayoutModel",
            "_view_count": null,
            "_view_module": "@jupyter-widgets/base",
            "_view_module_version": "1.2.0",
            "_view_name": "LayoutView",
            "align_content": null,
            "align_items": null,
            "align_self": null,
            "border": null,
            "bottom": null,
            "display": null,
            "flex": null,
            "flex_flow": null,
            "grid_area": null,
            "grid_auto_columns": null,
            "grid_auto_flow": null,
            "grid_auto_rows": null,
            "grid_column": null,
            "grid_gap": null,
            "grid_row": null,
            "grid_template_areas": null,
            "grid_template_columns": null,
            "grid_template_rows": null,
            "height": null,
            "justify_content": null,
            "justify_items": null,
            "left": null,
            "margin": null,
            "max_height": null,
            "max_width": null,
            "min_height": null,
            "min_width": null,
            "object_fit": null,
            "object_position": null,
            "order": null,
            "overflow": null,
            "overflow_x": null,
            "overflow_y": null,
            "padding": null,
            "right": null,
            "top": null,
            "visibility": "hidden",
            "width": null
          }
        },
        "60d06d22e5fe4725b64be36bf8c7549e": {
          "model_module": "@jupyter-widgets/base",
          "model_name": "LayoutModel",
          "model_module_version": "1.2.0",
          "state": {
            "_model_module": "@jupyter-widgets/base",
            "_model_module_version": "1.2.0",
            "_model_name": "LayoutModel",
            "_view_count": null,
            "_view_module": "@jupyter-widgets/base",
            "_view_module_version": "1.2.0",
            "_view_name": "LayoutView",
            "align_content": null,
            "align_items": null,
            "align_self": null,
            "border": null,
            "bottom": null,
            "display": null,
            "flex": null,
            "flex_flow": null,
            "grid_area": null,
            "grid_auto_columns": null,
            "grid_auto_flow": null,
            "grid_auto_rows": null,
            "grid_column": null,
            "grid_gap": null,
            "grid_row": null,
            "grid_template_areas": null,
            "grid_template_columns": null,
            "grid_template_rows": null,
            "height": null,
            "justify_content": null,
            "justify_items": null,
            "left": null,
            "margin": null,
            "max_height": null,
            "max_width": null,
            "min_height": null,
            "min_width": null,
            "object_fit": null,
            "object_position": null,
            "order": null,
            "overflow": null,
            "overflow_x": null,
            "overflow_y": null,
            "padding": null,
            "right": null,
            "top": null,
            "visibility": null,
            "width": null
          }
        },
        "71d561948c3f497684ed4429826213e5": {
          "model_module": "@jupyter-widgets/controls",
          "model_name": "DescriptionStyleModel",
          "model_module_version": "1.5.0",
          "state": {
            "_model_module": "@jupyter-widgets/controls",
            "_model_module_version": "1.5.0",
            "_model_name": "DescriptionStyleModel",
            "_view_count": null,
            "_view_module": "@jupyter-widgets/base",
            "_view_module_version": "1.2.0",
            "_view_name": "StyleView",
            "description_width": ""
          }
        },
        "be611d14724c4aa59123ec923724a9ca": {
          "model_module": "@jupyter-widgets/base",
          "model_name": "LayoutModel",
          "model_module_version": "1.2.0",
          "state": {
            "_model_module": "@jupyter-widgets/base",
            "_model_module_version": "1.2.0",
            "_model_name": "LayoutModel",
            "_view_count": null,
            "_view_module": "@jupyter-widgets/base",
            "_view_module_version": "1.2.0",
            "_view_name": "LayoutView",
            "align_content": null,
            "align_items": null,
            "align_self": null,
            "border": null,
            "bottom": null,
            "display": null,
            "flex": null,
            "flex_flow": null,
            "grid_area": null,
            "grid_auto_columns": null,
            "grid_auto_flow": null,
            "grid_auto_rows": null,
            "grid_column": null,
            "grid_gap": null,
            "grid_row": null,
            "grid_template_areas": null,
            "grid_template_columns": null,
            "grid_template_rows": null,
            "height": null,
            "justify_content": null,
            "justify_items": null,
            "left": null,
            "margin": null,
            "max_height": null,
            "max_width": null,
            "min_height": null,
            "min_width": null,
            "object_fit": null,
            "object_position": null,
            "order": null,
            "overflow": null,
            "overflow_x": null,
            "overflow_y": null,
            "padding": null,
            "right": null,
            "top": null,
            "visibility": null,
            "width": null
          }
        },
        "827b58e1daa347489700b5a1dae266c5": {
          "model_module": "@jupyter-widgets/controls",
          "model_name": "ProgressStyleModel",
          "model_module_version": "1.5.0",
          "state": {
            "_model_module": "@jupyter-widgets/controls",
            "_model_module_version": "1.5.0",
            "_model_name": "ProgressStyleModel",
            "_view_count": null,
            "_view_module": "@jupyter-widgets/base",
            "_view_module_version": "1.2.0",
            "_view_name": "StyleView",
            "bar_color": null,
            "description_width": ""
          }
        },
        "579e08334e7a4925aeb7186e0ccdf62f": {
          "model_module": "@jupyter-widgets/base",
          "model_name": "LayoutModel",
          "model_module_version": "1.2.0",
          "state": {
            "_model_module": "@jupyter-widgets/base",
            "_model_module_version": "1.2.0",
            "_model_name": "LayoutModel",
            "_view_count": null,
            "_view_module": "@jupyter-widgets/base",
            "_view_module_version": "1.2.0",
            "_view_name": "LayoutView",
            "align_content": null,
            "align_items": null,
            "align_self": null,
            "border": null,
            "bottom": null,
            "display": null,
            "flex": null,
            "flex_flow": null,
            "grid_area": null,
            "grid_auto_columns": null,
            "grid_auto_flow": null,
            "grid_auto_rows": null,
            "grid_column": null,
            "grid_gap": null,
            "grid_row": null,
            "grid_template_areas": null,
            "grid_template_columns": null,
            "grid_template_rows": null,
            "height": null,
            "justify_content": null,
            "justify_items": null,
            "left": null,
            "margin": null,
            "max_height": null,
            "max_width": null,
            "min_height": null,
            "min_width": null,
            "object_fit": null,
            "object_position": null,
            "order": null,
            "overflow": null,
            "overflow_x": null,
            "overflow_y": null,
            "padding": null,
            "right": null,
            "top": null,
            "visibility": null,
            "width": null
          }
        },
        "8b0200b662e641bbb41f28cf9b22cdc7": {
          "model_module": "@jupyter-widgets/controls",
          "model_name": "DescriptionStyleModel",
          "model_module_version": "1.5.0",
          "state": {
            "_model_module": "@jupyter-widgets/controls",
            "_model_module_version": "1.5.0",
            "_model_name": "DescriptionStyleModel",
            "_view_count": null,
            "_view_module": "@jupyter-widgets/base",
            "_view_module_version": "1.2.0",
            "_view_name": "StyleView",
            "description_width": ""
          }
        },
        "fa774e7166d344dcbe6fddf299738339": {
          "model_module": "@jupyter-widgets/controls",
          "model_name": "HBoxModel",
          "model_module_version": "1.5.0",
          "state": {
            "_dom_classes": [],
            "_model_module": "@jupyter-widgets/controls",
            "_model_module_version": "1.5.0",
            "_model_name": "HBoxModel",
            "_view_count": null,
            "_view_module": "@jupyter-widgets/controls",
            "_view_module_version": "1.5.0",
            "_view_name": "HBoxView",
            "box_style": "",
            "children": [
              "IPY_MODEL_00d37209916f4ba797f7bb3a39f6859c",
              "IPY_MODEL_5045894288f14e3d83a5c1d9d44604f0",
              "IPY_MODEL_62f6e3420be8439db8e0f90cd9e210ca"
            ],
            "layout": "IPY_MODEL_acc7848f009041f987e275045af5b720"
          }
        },
        "00d37209916f4ba797f7bb3a39f6859c": {
          "model_module": "@jupyter-widgets/controls",
          "model_name": "HTMLModel",
          "model_module_version": "1.5.0",
          "state": {
            "_dom_classes": [],
            "_model_module": "@jupyter-widgets/controls",
            "_model_module_version": "1.5.0",
            "_model_name": "HTMLModel",
            "_view_count": null,
            "_view_module": "@jupyter-widgets/controls",
            "_view_module_version": "1.5.0",
            "_view_name": "HTMLView",
            "description": "",
            "description_tooltip": null,
            "layout": "IPY_MODEL_2ae37b2a3a9b4dc8a1d245cfdb985bf9",
            "placeholder": "​",
            "style": "IPY_MODEL_04a6782fb5bb4726b07973fa597b570f",
            "value": "Map:   0%"
          }
        },
        "5045894288f14e3d83a5c1d9d44604f0": {
          "model_module": "@jupyter-widgets/controls",
          "model_name": "FloatProgressModel",
          "model_module_version": "1.5.0",
          "state": {
            "_dom_classes": [],
            "_model_module": "@jupyter-widgets/controls",
            "_model_module_version": "1.5.0",
            "_model_name": "FloatProgressModel",
            "_view_count": null,
            "_view_module": "@jupyter-widgets/controls",
            "_view_module_version": "1.5.0",
            "_view_name": "ProgressView",
            "bar_style": "",
            "description": "",
            "description_tooltip": null,
            "layout": "IPY_MODEL_e9b0bb91fb5f403fbdbbd0eaa5e04b08",
            "max": 262,
            "min": 0,
            "orientation": "horizontal",
            "style": "IPY_MODEL_611cbb10dc964b5284cd2ee50a618184",
            "value": 262
          }
        },
        "62f6e3420be8439db8e0f90cd9e210ca": {
          "model_module": "@jupyter-widgets/controls",
          "model_name": "HTMLModel",
          "model_module_version": "1.5.0",
          "state": {
            "_dom_classes": [],
            "_model_module": "@jupyter-widgets/controls",
            "_model_module_version": "1.5.0",
            "_model_name": "HTMLModel",
            "_view_count": null,
            "_view_module": "@jupyter-widgets/controls",
            "_view_module_version": "1.5.0",
            "_view_name": "HTMLView",
            "description": "",
            "description_tooltip": null,
            "layout": "IPY_MODEL_2c9e39ff47bd4b7f903faaa18b9d33f7",
            "placeholder": "​",
            "style": "IPY_MODEL_47dac86087da40d8b79b8bcc1cd18073",
            "value": " 0/262 [00:00&lt;?, ? examples/s]"
          }
        },
        "acc7848f009041f987e275045af5b720": {
          "model_module": "@jupyter-widgets/base",
          "model_name": "LayoutModel",
          "model_module_version": "1.2.0",
          "state": {
            "_model_module": "@jupyter-widgets/base",
            "_model_module_version": "1.2.0",
            "_model_name": "LayoutModel",
            "_view_count": null,
            "_view_module": "@jupyter-widgets/base",
            "_view_module_version": "1.2.0",
            "_view_name": "LayoutView",
            "align_content": null,
            "align_items": null,
            "align_self": null,
            "border": null,
            "bottom": null,
            "display": null,
            "flex": null,
            "flex_flow": null,
            "grid_area": null,
            "grid_auto_columns": null,
            "grid_auto_flow": null,
            "grid_auto_rows": null,
            "grid_column": null,
            "grid_gap": null,
            "grid_row": null,
            "grid_template_areas": null,
            "grid_template_columns": null,
            "grid_template_rows": null,
            "height": null,
            "justify_content": null,
            "justify_items": null,
            "left": null,
            "margin": null,
            "max_height": null,
            "max_width": null,
            "min_height": null,
            "min_width": null,
            "object_fit": null,
            "object_position": null,
            "order": null,
            "overflow": null,
            "overflow_x": null,
            "overflow_y": null,
            "padding": null,
            "right": null,
            "top": null,
            "visibility": "hidden",
            "width": null
          }
        },
        "2ae37b2a3a9b4dc8a1d245cfdb985bf9": {
          "model_module": "@jupyter-widgets/base",
          "model_name": "LayoutModel",
          "model_module_version": "1.2.0",
          "state": {
            "_model_module": "@jupyter-widgets/base",
            "_model_module_version": "1.2.0",
            "_model_name": "LayoutModel",
            "_view_count": null,
            "_view_module": "@jupyter-widgets/base",
            "_view_module_version": "1.2.0",
            "_view_name": "LayoutView",
            "align_content": null,
            "align_items": null,
            "align_self": null,
            "border": null,
            "bottom": null,
            "display": null,
            "flex": null,
            "flex_flow": null,
            "grid_area": null,
            "grid_auto_columns": null,
            "grid_auto_flow": null,
            "grid_auto_rows": null,
            "grid_column": null,
            "grid_gap": null,
            "grid_row": null,
            "grid_template_areas": null,
            "grid_template_columns": null,
            "grid_template_rows": null,
            "height": null,
            "justify_content": null,
            "justify_items": null,
            "left": null,
            "margin": null,
            "max_height": null,
            "max_width": null,
            "min_height": null,
            "min_width": null,
            "object_fit": null,
            "object_position": null,
            "order": null,
            "overflow": null,
            "overflow_x": null,
            "overflow_y": null,
            "padding": null,
            "right": null,
            "top": null,
            "visibility": null,
            "width": null
          }
        },
        "04a6782fb5bb4726b07973fa597b570f": {
          "model_module": "@jupyter-widgets/controls",
          "model_name": "DescriptionStyleModel",
          "model_module_version": "1.5.0",
          "state": {
            "_model_module": "@jupyter-widgets/controls",
            "_model_module_version": "1.5.0",
            "_model_name": "DescriptionStyleModel",
            "_view_count": null,
            "_view_module": "@jupyter-widgets/base",
            "_view_module_version": "1.2.0",
            "_view_name": "StyleView",
            "description_width": ""
          }
        },
        "e9b0bb91fb5f403fbdbbd0eaa5e04b08": {
          "model_module": "@jupyter-widgets/base",
          "model_name": "LayoutModel",
          "model_module_version": "1.2.0",
          "state": {
            "_model_module": "@jupyter-widgets/base",
            "_model_module_version": "1.2.0",
            "_model_name": "LayoutModel",
            "_view_count": null,
            "_view_module": "@jupyter-widgets/base",
            "_view_module_version": "1.2.0",
            "_view_name": "LayoutView",
            "align_content": null,
            "align_items": null,
            "align_self": null,
            "border": null,
            "bottom": null,
            "display": null,
            "flex": null,
            "flex_flow": null,
            "grid_area": null,
            "grid_auto_columns": null,
            "grid_auto_flow": null,
            "grid_auto_rows": null,
            "grid_column": null,
            "grid_gap": null,
            "grid_row": null,
            "grid_template_areas": null,
            "grid_template_columns": null,
            "grid_template_rows": null,
            "height": null,
            "justify_content": null,
            "justify_items": null,
            "left": null,
            "margin": null,
            "max_height": null,
            "max_width": null,
            "min_height": null,
            "min_width": null,
            "object_fit": null,
            "object_position": null,
            "order": null,
            "overflow": null,
            "overflow_x": null,
            "overflow_y": null,
            "padding": null,
            "right": null,
            "top": null,
            "visibility": null,
            "width": null
          }
        },
        "611cbb10dc964b5284cd2ee50a618184": {
          "model_module": "@jupyter-widgets/controls",
          "model_name": "ProgressStyleModel",
          "model_module_version": "1.5.0",
          "state": {
            "_model_module": "@jupyter-widgets/controls",
            "_model_module_version": "1.5.0",
            "_model_name": "ProgressStyleModel",
            "_view_count": null,
            "_view_module": "@jupyter-widgets/base",
            "_view_module_version": "1.2.0",
            "_view_name": "StyleView",
            "bar_color": null,
            "description_width": ""
          }
        },
        "2c9e39ff47bd4b7f903faaa18b9d33f7": {
          "model_module": "@jupyter-widgets/base",
          "model_name": "LayoutModel",
          "model_module_version": "1.2.0",
          "state": {
            "_model_module": "@jupyter-widgets/base",
            "_model_module_version": "1.2.0",
            "_model_name": "LayoutModel",
            "_view_count": null,
            "_view_module": "@jupyter-widgets/base",
            "_view_module_version": "1.2.0",
            "_view_name": "LayoutView",
            "align_content": null,
            "align_items": null,
            "align_self": null,
            "border": null,
            "bottom": null,
            "display": null,
            "flex": null,
            "flex_flow": null,
            "grid_area": null,
            "grid_auto_columns": null,
            "grid_auto_flow": null,
            "grid_auto_rows": null,
            "grid_column": null,
            "grid_gap": null,
            "grid_row": null,
            "grid_template_areas": null,
            "grid_template_columns": null,
            "grid_template_rows": null,
            "height": null,
            "justify_content": null,
            "justify_items": null,
            "left": null,
            "margin": null,
            "max_height": null,
            "max_width": null,
            "min_height": null,
            "min_width": null,
            "object_fit": null,
            "object_position": null,
            "order": null,
            "overflow": null,
            "overflow_x": null,
            "overflow_y": null,
            "padding": null,
            "right": null,
            "top": null,
            "visibility": null,
            "width": null
          }
        },
        "47dac86087da40d8b79b8bcc1cd18073": {
          "model_module": "@jupyter-widgets/controls",
          "model_name": "DescriptionStyleModel",
          "model_module_version": "1.5.0",
          "state": {
            "_model_module": "@jupyter-widgets/controls",
            "_model_module_version": "1.5.0",
            "_model_name": "DescriptionStyleModel",
            "_view_count": null,
            "_view_module": "@jupyter-widgets/base",
            "_view_module_version": "1.2.0",
            "_view_name": "StyleView",
            "description_width": ""
          }
        },
        "6c990c12bda946bc93eb380a528b2d58": {
          "model_module": "@jupyter-widgets/controls",
          "model_name": "HBoxModel",
          "model_module_version": "1.5.0",
          "state": {
            "_dom_classes": [],
            "_model_module": "@jupyter-widgets/controls",
            "_model_module_version": "1.5.0",
            "_model_name": "HBoxModel",
            "_view_count": null,
            "_view_module": "@jupyter-widgets/controls",
            "_view_module_version": "1.5.0",
            "_view_name": "HBoxView",
            "box_style": "",
            "children": [
              "IPY_MODEL_8f306365eada48c4b421d73751b3bdd6",
              "IPY_MODEL_c6f47967b65b4831ae3e519366b4f400",
              "IPY_MODEL_bf617219d9d947beb3db0f019e208f49"
            ],
            "layout": "IPY_MODEL_04462704fc7e4cbb9b21cce97524dd50"
          }
        },
        "8f306365eada48c4b421d73751b3bdd6": {
          "model_module": "@jupyter-widgets/controls",
          "model_name": "HTMLModel",
          "model_module_version": "1.5.0",
          "state": {
            "_dom_classes": [],
            "_model_module": "@jupyter-widgets/controls",
            "_model_module_version": "1.5.0",
            "_model_name": "HTMLModel",
            "_view_count": null,
            "_view_module": "@jupyter-widgets/controls",
            "_view_module_version": "1.5.0",
            "_view_name": "HTMLView",
            "description": "",
            "description_tooltip": null,
            "layout": "IPY_MODEL_624565263d0d4e43b3d1f0334c898828",
            "placeholder": "​",
            "style": "IPY_MODEL_28255e96e6b7405d957573f10ca646a4",
            "value": "Map: 100%"
          }
        },
        "c6f47967b65b4831ae3e519366b4f400": {
          "model_module": "@jupyter-widgets/controls",
          "model_name": "FloatProgressModel",
          "model_module_version": "1.5.0",
          "state": {
            "_dom_classes": [],
            "_model_module": "@jupyter-widgets/controls",
            "_model_module_version": "1.5.0",
            "_model_name": "FloatProgressModel",
            "_view_count": null,
            "_view_module": "@jupyter-widgets/controls",
            "_view_module_version": "1.5.0",
            "_view_name": "ProgressView",
            "bar_style": "",
            "description": "",
            "description_tooltip": null,
            "layout": "IPY_MODEL_0d5a293d8faa4fc2913fb5745487dbda",
            "max": 856,
            "min": 0,
            "orientation": "horizontal",
            "style": "IPY_MODEL_8bf952cd45f744409e5ef297ae363020",
            "value": 856
          }
        },
        "bf617219d9d947beb3db0f019e208f49": {
          "model_module": "@jupyter-widgets/controls",
          "model_name": "HTMLModel",
          "model_module_version": "1.5.0",
          "state": {
            "_dom_classes": [],
            "_model_module": "@jupyter-widgets/controls",
            "_model_module_version": "1.5.0",
            "_model_name": "HTMLModel",
            "_view_count": null,
            "_view_module": "@jupyter-widgets/controls",
            "_view_module_version": "1.5.0",
            "_view_name": "HTMLView",
            "description": "",
            "description_tooltip": null,
            "layout": "IPY_MODEL_541e28c447ef475987dce02c4bc5793d",
            "placeholder": "​",
            "style": "IPY_MODEL_b550a09873a14f4da220ef8e38aebdd7",
            "value": " 856/856 [00:00&lt;00:00, 1622.36 examples/s]"
          }
        },
        "04462704fc7e4cbb9b21cce97524dd50": {
          "model_module": "@jupyter-widgets/base",
          "model_name": "LayoutModel",
          "model_module_version": "1.2.0",
          "state": {
            "_model_module": "@jupyter-widgets/base",
            "_model_module_version": "1.2.0",
            "_model_name": "LayoutModel",
            "_view_count": null,
            "_view_module": "@jupyter-widgets/base",
            "_view_module_version": "1.2.0",
            "_view_name": "LayoutView",
            "align_content": null,
            "align_items": null,
            "align_self": null,
            "border": null,
            "bottom": null,
            "display": null,
            "flex": null,
            "flex_flow": null,
            "grid_area": null,
            "grid_auto_columns": null,
            "grid_auto_flow": null,
            "grid_auto_rows": null,
            "grid_column": null,
            "grid_gap": null,
            "grid_row": null,
            "grid_template_areas": null,
            "grid_template_columns": null,
            "grid_template_rows": null,
            "height": null,
            "justify_content": null,
            "justify_items": null,
            "left": null,
            "margin": null,
            "max_height": null,
            "max_width": null,
            "min_height": null,
            "min_width": null,
            "object_fit": null,
            "object_position": null,
            "order": null,
            "overflow": null,
            "overflow_x": null,
            "overflow_y": null,
            "padding": null,
            "right": null,
            "top": null,
            "visibility": "hidden",
            "width": null
          }
        },
        "624565263d0d4e43b3d1f0334c898828": {
          "model_module": "@jupyter-widgets/base",
          "model_name": "LayoutModel",
          "model_module_version": "1.2.0",
          "state": {
            "_model_module": "@jupyter-widgets/base",
            "_model_module_version": "1.2.0",
            "_model_name": "LayoutModel",
            "_view_count": null,
            "_view_module": "@jupyter-widgets/base",
            "_view_module_version": "1.2.0",
            "_view_name": "LayoutView",
            "align_content": null,
            "align_items": null,
            "align_self": null,
            "border": null,
            "bottom": null,
            "display": null,
            "flex": null,
            "flex_flow": null,
            "grid_area": null,
            "grid_auto_columns": null,
            "grid_auto_flow": null,
            "grid_auto_rows": null,
            "grid_column": null,
            "grid_gap": null,
            "grid_row": null,
            "grid_template_areas": null,
            "grid_template_columns": null,
            "grid_template_rows": null,
            "height": null,
            "justify_content": null,
            "justify_items": null,
            "left": null,
            "margin": null,
            "max_height": null,
            "max_width": null,
            "min_height": null,
            "min_width": null,
            "object_fit": null,
            "object_position": null,
            "order": null,
            "overflow": null,
            "overflow_x": null,
            "overflow_y": null,
            "padding": null,
            "right": null,
            "top": null,
            "visibility": null,
            "width": null
          }
        },
        "28255e96e6b7405d957573f10ca646a4": {
          "model_module": "@jupyter-widgets/controls",
          "model_name": "DescriptionStyleModel",
          "model_module_version": "1.5.0",
          "state": {
            "_model_module": "@jupyter-widgets/controls",
            "_model_module_version": "1.5.0",
            "_model_name": "DescriptionStyleModel",
            "_view_count": null,
            "_view_module": "@jupyter-widgets/base",
            "_view_module_version": "1.2.0",
            "_view_name": "StyleView",
            "description_width": ""
          }
        },
        "0d5a293d8faa4fc2913fb5745487dbda": {
          "model_module": "@jupyter-widgets/base",
          "model_name": "LayoutModel",
          "model_module_version": "1.2.0",
          "state": {
            "_model_module": "@jupyter-widgets/base",
            "_model_module_version": "1.2.0",
            "_model_name": "LayoutModel",
            "_view_count": null,
            "_view_module": "@jupyter-widgets/base",
            "_view_module_version": "1.2.0",
            "_view_name": "LayoutView",
            "align_content": null,
            "align_items": null,
            "align_self": null,
            "border": null,
            "bottom": null,
            "display": null,
            "flex": null,
            "flex_flow": null,
            "grid_area": null,
            "grid_auto_columns": null,
            "grid_auto_flow": null,
            "grid_auto_rows": null,
            "grid_column": null,
            "grid_gap": null,
            "grid_row": null,
            "grid_template_areas": null,
            "grid_template_columns": null,
            "grid_template_rows": null,
            "height": null,
            "justify_content": null,
            "justify_items": null,
            "left": null,
            "margin": null,
            "max_height": null,
            "max_width": null,
            "min_height": null,
            "min_width": null,
            "object_fit": null,
            "object_position": null,
            "order": null,
            "overflow": null,
            "overflow_x": null,
            "overflow_y": null,
            "padding": null,
            "right": null,
            "top": null,
            "visibility": null,
            "width": null
          }
        },
        "8bf952cd45f744409e5ef297ae363020": {
          "model_module": "@jupyter-widgets/controls",
          "model_name": "ProgressStyleModel",
          "model_module_version": "1.5.0",
          "state": {
            "_model_module": "@jupyter-widgets/controls",
            "_model_module_version": "1.5.0",
            "_model_name": "ProgressStyleModel",
            "_view_count": null,
            "_view_module": "@jupyter-widgets/base",
            "_view_module_version": "1.2.0",
            "_view_name": "StyleView",
            "bar_color": null,
            "description_width": ""
          }
        },
        "541e28c447ef475987dce02c4bc5793d": {
          "model_module": "@jupyter-widgets/base",
          "model_name": "LayoutModel",
          "model_module_version": "1.2.0",
          "state": {
            "_model_module": "@jupyter-widgets/base",
            "_model_module_version": "1.2.0",
            "_model_name": "LayoutModel",
            "_view_count": null,
            "_view_module": "@jupyter-widgets/base",
            "_view_module_version": "1.2.0",
            "_view_name": "LayoutView",
            "align_content": null,
            "align_items": null,
            "align_self": null,
            "border": null,
            "bottom": null,
            "display": null,
            "flex": null,
            "flex_flow": null,
            "grid_area": null,
            "grid_auto_columns": null,
            "grid_auto_flow": null,
            "grid_auto_rows": null,
            "grid_column": null,
            "grid_gap": null,
            "grid_row": null,
            "grid_template_areas": null,
            "grid_template_columns": null,
            "grid_template_rows": null,
            "height": null,
            "justify_content": null,
            "justify_items": null,
            "left": null,
            "margin": null,
            "max_height": null,
            "max_width": null,
            "min_height": null,
            "min_width": null,
            "object_fit": null,
            "object_position": null,
            "order": null,
            "overflow": null,
            "overflow_x": null,
            "overflow_y": null,
            "padding": null,
            "right": null,
            "top": null,
            "visibility": null,
            "width": null
          }
        },
        "b550a09873a14f4da220ef8e38aebdd7": {
          "model_module": "@jupyter-widgets/controls",
          "model_name": "DescriptionStyleModel",
          "model_module_version": "1.5.0",
          "state": {
            "_model_module": "@jupyter-widgets/controls",
            "_model_module_version": "1.5.0",
            "_model_name": "DescriptionStyleModel",
            "_view_count": null,
            "_view_module": "@jupyter-widgets/base",
            "_view_module_version": "1.2.0",
            "_view_name": "StyleView",
            "description_width": ""
          }
        },
        "c0ca4fc9b18f44028a1563872790703f": {
          "model_module": "@jupyter-widgets/controls",
          "model_name": "HBoxModel",
          "model_module_version": "1.5.0",
          "state": {
            "_dom_classes": [],
            "_model_module": "@jupyter-widgets/controls",
            "_model_module_version": "1.5.0",
            "_model_name": "HBoxModel",
            "_view_count": null,
            "_view_module": "@jupyter-widgets/controls",
            "_view_module_version": "1.5.0",
            "_view_name": "HBoxView",
            "box_style": "",
            "children": [
              "IPY_MODEL_9e644688e1aa49b4aa447923d5c7c668",
              "IPY_MODEL_c8eb6ed83dad451186b8cfc0aed8a7ac",
              "IPY_MODEL_a73e67f2a82a4d9382b58d3457ae624b"
            ],
            "layout": "IPY_MODEL_f97050fdcc724967b5170d7e3fd3b1b9"
          }
        },
        "9e644688e1aa49b4aa447923d5c7c668": {
          "model_module": "@jupyter-widgets/controls",
          "model_name": "HTMLModel",
          "model_module_version": "1.5.0",
          "state": {
            "_dom_classes": [],
            "_model_module": "@jupyter-widgets/controls",
            "_model_module_version": "1.5.0",
            "_model_name": "HTMLModel",
            "_view_count": null,
            "_view_module": "@jupyter-widgets/controls",
            "_view_module_version": "1.5.0",
            "_view_name": "HTMLView",
            "description": "",
            "description_tooltip": null,
            "layout": "IPY_MODEL_208ea5b9f3aa44739bcd252703f99bee",
            "placeholder": "​",
            "style": "IPY_MODEL_622315a860bf4024bf97e8da8f13da8c",
            "value": "Map: 100%"
          }
        },
        "c8eb6ed83dad451186b8cfc0aed8a7ac": {
          "model_module": "@jupyter-widgets/controls",
          "model_name": "FloatProgressModel",
          "model_module_version": "1.5.0",
          "state": {
            "_dom_classes": [],
            "_model_module": "@jupyter-widgets/controls",
            "_model_module_version": "1.5.0",
            "_model_name": "FloatProgressModel",
            "_view_count": null,
            "_view_module": "@jupyter-widgets/controls",
            "_view_module_version": "1.5.0",
            "_view_name": "ProgressView",
            "bar_style": "",
            "description": "",
            "description_tooltip": null,
            "layout": "IPY_MODEL_fc12417af2a34cb19265a5520acd955b",
            "max": 283,
            "min": 0,
            "orientation": "horizontal",
            "style": "IPY_MODEL_e29504a5e4dc4cd8b79a6ec24c43bb16",
            "value": 283
          }
        },
        "a73e67f2a82a4d9382b58d3457ae624b": {
          "model_module": "@jupyter-widgets/controls",
          "model_name": "HTMLModel",
          "model_module_version": "1.5.0",
          "state": {
            "_dom_classes": [],
            "_model_module": "@jupyter-widgets/controls",
            "_model_module_version": "1.5.0",
            "_model_name": "HTMLModel",
            "_view_count": null,
            "_view_module": "@jupyter-widgets/controls",
            "_view_module_version": "1.5.0",
            "_view_name": "HTMLView",
            "description": "",
            "description_tooltip": null,
            "layout": "IPY_MODEL_e011f1527cd04145a371398361fc879c",
            "placeholder": "​",
            "style": "IPY_MODEL_248bd41f72c74d7aa70f0437a83f2063",
            "value": " 283/283 [00:00&lt;00:00, 1393.96 examples/s]"
          }
        },
        "f97050fdcc724967b5170d7e3fd3b1b9": {
          "model_module": "@jupyter-widgets/base",
          "model_name": "LayoutModel",
          "model_module_version": "1.2.0",
          "state": {
            "_model_module": "@jupyter-widgets/base",
            "_model_module_version": "1.2.0",
            "_model_name": "LayoutModel",
            "_view_count": null,
            "_view_module": "@jupyter-widgets/base",
            "_view_module_version": "1.2.0",
            "_view_name": "LayoutView",
            "align_content": null,
            "align_items": null,
            "align_self": null,
            "border": null,
            "bottom": null,
            "display": null,
            "flex": null,
            "flex_flow": null,
            "grid_area": null,
            "grid_auto_columns": null,
            "grid_auto_flow": null,
            "grid_auto_rows": null,
            "grid_column": null,
            "grid_gap": null,
            "grid_row": null,
            "grid_template_areas": null,
            "grid_template_columns": null,
            "grid_template_rows": null,
            "height": null,
            "justify_content": null,
            "justify_items": null,
            "left": null,
            "margin": null,
            "max_height": null,
            "max_width": null,
            "min_height": null,
            "min_width": null,
            "object_fit": null,
            "object_position": null,
            "order": null,
            "overflow": null,
            "overflow_x": null,
            "overflow_y": null,
            "padding": null,
            "right": null,
            "top": null,
            "visibility": "hidden",
            "width": null
          }
        },
        "208ea5b9f3aa44739bcd252703f99bee": {
          "model_module": "@jupyter-widgets/base",
          "model_name": "LayoutModel",
          "model_module_version": "1.2.0",
          "state": {
            "_model_module": "@jupyter-widgets/base",
            "_model_module_version": "1.2.0",
            "_model_name": "LayoutModel",
            "_view_count": null,
            "_view_module": "@jupyter-widgets/base",
            "_view_module_version": "1.2.0",
            "_view_name": "LayoutView",
            "align_content": null,
            "align_items": null,
            "align_self": null,
            "border": null,
            "bottom": null,
            "display": null,
            "flex": null,
            "flex_flow": null,
            "grid_area": null,
            "grid_auto_columns": null,
            "grid_auto_flow": null,
            "grid_auto_rows": null,
            "grid_column": null,
            "grid_gap": null,
            "grid_row": null,
            "grid_template_areas": null,
            "grid_template_columns": null,
            "grid_template_rows": null,
            "height": null,
            "justify_content": null,
            "justify_items": null,
            "left": null,
            "margin": null,
            "max_height": null,
            "max_width": null,
            "min_height": null,
            "min_width": null,
            "object_fit": null,
            "object_position": null,
            "order": null,
            "overflow": null,
            "overflow_x": null,
            "overflow_y": null,
            "padding": null,
            "right": null,
            "top": null,
            "visibility": null,
            "width": null
          }
        },
        "622315a860bf4024bf97e8da8f13da8c": {
          "model_module": "@jupyter-widgets/controls",
          "model_name": "DescriptionStyleModel",
          "model_module_version": "1.5.0",
          "state": {
            "_model_module": "@jupyter-widgets/controls",
            "_model_module_version": "1.5.0",
            "_model_name": "DescriptionStyleModel",
            "_view_count": null,
            "_view_module": "@jupyter-widgets/base",
            "_view_module_version": "1.2.0",
            "_view_name": "StyleView",
            "description_width": ""
          }
        },
        "fc12417af2a34cb19265a5520acd955b": {
          "model_module": "@jupyter-widgets/base",
          "model_name": "LayoutModel",
          "model_module_version": "1.2.0",
          "state": {
            "_model_module": "@jupyter-widgets/base",
            "_model_module_version": "1.2.0",
            "_model_name": "LayoutModel",
            "_view_count": null,
            "_view_module": "@jupyter-widgets/base",
            "_view_module_version": "1.2.0",
            "_view_name": "LayoutView",
            "align_content": null,
            "align_items": null,
            "align_self": null,
            "border": null,
            "bottom": null,
            "display": null,
            "flex": null,
            "flex_flow": null,
            "grid_area": null,
            "grid_auto_columns": null,
            "grid_auto_flow": null,
            "grid_auto_rows": null,
            "grid_column": null,
            "grid_gap": null,
            "grid_row": null,
            "grid_template_areas": null,
            "grid_template_columns": null,
            "grid_template_rows": null,
            "height": null,
            "justify_content": null,
            "justify_items": null,
            "left": null,
            "margin": null,
            "max_height": null,
            "max_width": null,
            "min_height": null,
            "min_width": null,
            "object_fit": null,
            "object_position": null,
            "order": null,
            "overflow": null,
            "overflow_x": null,
            "overflow_y": null,
            "padding": null,
            "right": null,
            "top": null,
            "visibility": null,
            "width": null
          }
        },
        "e29504a5e4dc4cd8b79a6ec24c43bb16": {
          "model_module": "@jupyter-widgets/controls",
          "model_name": "ProgressStyleModel",
          "model_module_version": "1.5.0",
          "state": {
            "_model_module": "@jupyter-widgets/controls",
            "_model_module_version": "1.5.0",
            "_model_name": "ProgressStyleModel",
            "_view_count": null,
            "_view_module": "@jupyter-widgets/base",
            "_view_module_version": "1.2.0",
            "_view_name": "StyleView",
            "bar_color": null,
            "description_width": ""
          }
        },
        "e011f1527cd04145a371398361fc879c": {
          "model_module": "@jupyter-widgets/base",
          "model_name": "LayoutModel",
          "model_module_version": "1.2.0",
          "state": {
            "_model_module": "@jupyter-widgets/base",
            "_model_module_version": "1.2.0",
            "_model_name": "LayoutModel",
            "_view_count": null,
            "_view_module": "@jupyter-widgets/base",
            "_view_module_version": "1.2.0",
            "_view_name": "LayoutView",
            "align_content": null,
            "align_items": null,
            "align_self": null,
            "border": null,
            "bottom": null,
            "display": null,
            "flex": null,
            "flex_flow": null,
            "grid_area": null,
            "grid_auto_columns": null,
            "grid_auto_flow": null,
            "grid_auto_rows": null,
            "grid_column": null,
            "grid_gap": null,
            "grid_row": null,
            "grid_template_areas": null,
            "grid_template_columns": null,
            "grid_template_rows": null,
            "height": null,
            "justify_content": null,
            "justify_items": null,
            "left": null,
            "margin": null,
            "max_height": null,
            "max_width": null,
            "min_height": null,
            "min_width": null,
            "object_fit": null,
            "object_position": null,
            "order": null,
            "overflow": null,
            "overflow_x": null,
            "overflow_y": null,
            "padding": null,
            "right": null,
            "top": null,
            "visibility": null,
            "width": null
          }
        },
        "248bd41f72c74d7aa70f0437a83f2063": {
          "model_module": "@jupyter-widgets/controls",
          "model_name": "DescriptionStyleModel",
          "model_module_version": "1.5.0",
          "state": {
            "_model_module": "@jupyter-widgets/controls",
            "_model_module_version": "1.5.0",
            "_model_name": "DescriptionStyleModel",
            "_view_count": null,
            "_view_module": "@jupyter-widgets/base",
            "_view_module_version": "1.2.0",
            "_view_name": "StyleView",
            "description_width": ""
          }
        },
        "34df46aa47ef4b9a8f85b484107e1fc4": {
          "model_module": "@jupyter-widgets/controls",
          "model_name": "HBoxModel",
          "model_module_version": "1.5.0",
          "state": {
            "_dom_classes": [],
            "_model_module": "@jupyter-widgets/controls",
            "_model_module_version": "1.5.0",
            "_model_name": "HBoxModel",
            "_view_count": null,
            "_view_module": "@jupyter-widgets/controls",
            "_view_module_version": "1.5.0",
            "_view_name": "HBoxView",
            "box_style": "",
            "children": [
              "IPY_MODEL_613f117c1925430895e49d91e5c6e1d6",
              "IPY_MODEL_8702bcb18e4a4d7fa36148436c39b49f",
              "IPY_MODEL_7a7f7a0e16c7447fa91d6b6eedcf2226"
            ],
            "layout": "IPY_MODEL_bcd2a56ee2164d49b5ad3308339d1dbc"
          }
        },
        "613f117c1925430895e49d91e5c6e1d6": {
          "model_module": "@jupyter-widgets/controls",
          "model_name": "HTMLModel",
          "model_module_version": "1.5.0",
          "state": {
            "_dom_classes": [],
            "_model_module": "@jupyter-widgets/controls",
            "_model_module_version": "1.5.0",
            "_model_name": "HTMLModel",
            "_view_count": null,
            "_view_module": "@jupyter-widgets/controls",
            "_view_module_version": "1.5.0",
            "_view_name": "HTMLView",
            "description": "",
            "description_tooltip": null,
            "layout": "IPY_MODEL_6d23f6f55e5a4a508e1f849ee770391a",
            "placeholder": "​",
            "style": "IPY_MODEL_cfd98ca377914cfca7965451325a5982",
            "value": "Map: 100%"
          }
        },
        "8702bcb18e4a4d7fa36148436c39b49f": {
          "model_module": "@jupyter-widgets/controls",
          "model_name": "FloatProgressModel",
          "model_module_version": "1.5.0",
          "state": {
            "_dom_classes": [],
            "_model_module": "@jupyter-widgets/controls",
            "_model_module_version": "1.5.0",
            "_model_name": "FloatProgressModel",
            "_view_count": null,
            "_view_module": "@jupyter-widgets/controls",
            "_view_module_version": "1.5.0",
            "_view_name": "ProgressView",
            "bar_style": "",
            "description": "",
            "description_tooltip": null,
            "layout": "IPY_MODEL_7a88e317b4e34bfebeeb321e98cf60ca",
            "max": 262,
            "min": 0,
            "orientation": "horizontal",
            "style": "IPY_MODEL_cc468401208542759d21502f3a858536",
            "value": 262
          }
        },
        "7a7f7a0e16c7447fa91d6b6eedcf2226": {
          "model_module": "@jupyter-widgets/controls",
          "model_name": "HTMLModel",
          "model_module_version": "1.5.0",
          "state": {
            "_dom_classes": [],
            "_model_module": "@jupyter-widgets/controls",
            "_model_module_version": "1.5.0",
            "_model_name": "HTMLModel",
            "_view_count": null,
            "_view_module": "@jupyter-widgets/controls",
            "_view_module_version": "1.5.0",
            "_view_name": "HTMLView",
            "description": "",
            "description_tooltip": null,
            "layout": "IPY_MODEL_5ff6cbbd5b8b4cd8b3495484538dee18",
            "placeholder": "​",
            "style": "IPY_MODEL_c16e88f00d4b4a8498fbebc098c5ac30",
            "value": " 262/262 [00:00&lt;00:00, 1359.17 examples/s]"
          }
        },
        "bcd2a56ee2164d49b5ad3308339d1dbc": {
          "model_module": "@jupyter-widgets/base",
          "model_name": "LayoutModel",
          "model_module_version": "1.2.0",
          "state": {
            "_model_module": "@jupyter-widgets/base",
            "_model_module_version": "1.2.0",
            "_model_name": "LayoutModel",
            "_view_count": null,
            "_view_module": "@jupyter-widgets/base",
            "_view_module_version": "1.2.0",
            "_view_name": "LayoutView",
            "align_content": null,
            "align_items": null,
            "align_self": null,
            "border": null,
            "bottom": null,
            "display": null,
            "flex": null,
            "flex_flow": null,
            "grid_area": null,
            "grid_auto_columns": null,
            "grid_auto_flow": null,
            "grid_auto_rows": null,
            "grid_column": null,
            "grid_gap": null,
            "grid_row": null,
            "grid_template_areas": null,
            "grid_template_columns": null,
            "grid_template_rows": null,
            "height": null,
            "justify_content": null,
            "justify_items": null,
            "left": null,
            "margin": null,
            "max_height": null,
            "max_width": null,
            "min_height": null,
            "min_width": null,
            "object_fit": null,
            "object_position": null,
            "order": null,
            "overflow": null,
            "overflow_x": null,
            "overflow_y": null,
            "padding": null,
            "right": null,
            "top": null,
            "visibility": "hidden",
            "width": null
          }
        },
        "6d23f6f55e5a4a508e1f849ee770391a": {
          "model_module": "@jupyter-widgets/base",
          "model_name": "LayoutModel",
          "model_module_version": "1.2.0",
          "state": {
            "_model_module": "@jupyter-widgets/base",
            "_model_module_version": "1.2.0",
            "_model_name": "LayoutModel",
            "_view_count": null,
            "_view_module": "@jupyter-widgets/base",
            "_view_module_version": "1.2.0",
            "_view_name": "LayoutView",
            "align_content": null,
            "align_items": null,
            "align_self": null,
            "border": null,
            "bottom": null,
            "display": null,
            "flex": null,
            "flex_flow": null,
            "grid_area": null,
            "grid_auto_columns": null,
            "grid_auto_flow": null,
            "grid_auto_rows": null,
            "grid_column": null,
            "grid_gap": null,
            "grid_row": null,
            "grid_template_areas": null,
            "grid_template_columns": null,
            "grid_template_rows": null,
            "height": null,
            "justify_content": null,
            "justify_items": null,
            "left": null,
            "margin": null,
            "max_height": null,
            "max_width": null,
            "min_height": null,
            "min_width": null,
            "object_fit": null,
            "object_position": null,
            "order": null,
            "overflow": null,
            "overflow_x": null,
            "overflow_y": null,
            "padding": null,
            "right": null,
            "top": null,
            "visibility": null,
            "width": null
          }
        },
        "cfd98ca377914cfca7965451325a5982": {
          "model_module": "@jupyter-widgets/controls",
          "model_name": "DescriptionStyleModel",
          "model_module_version": "1.5.0",
          "state": {
            "_model_module": "@jupyter-widgets/controls",
            "_model_module_version": "1.5.0",
            "_model_name": "DescriptionStyleModel",
            "_view_count": null,
            "_view_module": "@jupyter-widgets/base",
            "_view_module_version": "1.2.0",
            "_view_name": "StyleView",
            "description_width": ""
          }
        },
        "7a88e317b4e34bfebeeb321e98cf60ca": {
          "model_module": "@jupyter-widgets/base",
          "model_name": "LayoutModel",
          "model_module_version": "1.2.0",
          "state": {
            "_model_module": "@jupyter-widgets/base",
            "_model_module_version": "1.2.0",
            "_model_name": "LayoutModel",
            "_view_count": null,
            "_view_module": "@jupyter-widgets/base",
            "_view_module_version": "1.2.0",
            "_view_name": "LayoutView",
            "align_content": null,
            "align_items": null,
            "align_self": null,
            "border": null,
            "bottom": null,
            "display": null,
            "flex": null,
            "flex_flow": null,
            "grid_area": null,
            "grid_auto_columns": null,
            "grid_auto_flow": null,
            "grid_auto_rows": null,
            "grid_column": null,
            "grid_gap": null,
            "grid_row": null,
            "grid_template_areas": null,
            "grid_template_columns": null,
            "grid_template_rows": null,
            "height": null,
            "justify_content": null,
            "justify_items": null,
            "left": null,
            "margin": null,
            "max_height": null,
            "max_width": null,
            "min_height": null,
            "min_width": null,
            "object_fit": null,
            "object_position": null,
            "order": null,
            "overflow": null,
            "overflow_x": null,
            "overflow_y": null,
            "padding": null,
            "right": null,
            "top": null,
            "visibility": null,
            "width": null
          }
        },
        "cc468401208542759d21502f3a858536": {
          "model_module": "@jupyter-widgets/controls",
          "model_name": "ProgressStyleModel",
          "model_module_version": "1.5.0",
          "state": {
            "_model_module": "@jupyter-widgets/controls",
            "_model_module_version": "1.5.0",
            "_model_name": "ProgressStyleModel",
            "_view_count": null,
            "_view_module": "@jupyter-widgets/base",
            "_view_module_version": "1.2.0",
            "_view_name": "StyleView",
            "bar_color": null,
            "description_width": ""
          }
        },
        "5ff6cbbd5b8b4cd8b3495484538dee18": {
          "model_module": "@jupyter-widgets/base",
          "model_name": "LayoutModel",
          "model_module_version": "1.2.0",
          "state": {
            "_model_module": "@jupyter-widgets/base",
            "_model_module_version": "1.2.0",
            "_model_name": "LayoutModel",
            "_view_count": null,
            "_view_module": "@jupyter-widgets/base",
            "_view_module_version": "1.2.0",
            "_view_name": "LayoutView",
            "align_content": null,
            "align_items": null,
            "align_self": null,
            "border": null,
            "bottom": null,
            "display": null,
            "flex": null,
            "flex_flow": null,
            "grid_area": null,
            "grid_auto_columns": null,
            "grid_auto_flow": null,
            "grid_auto_rows": null,
            "grid_column": null,
            "grid_gap": null,
            "grid_row": null,
            "grid_template_areas": null,
            "grid_template_columns": null,
            "grid_template_rows": null,
            "height": null,
            "justify_content": null,
            "justify_items": null,
            "left": null,
            "margin": null,
            "max_height": null,
            "max_width": null,
            "min_height": null,
            "min_width": null,
            "object_fit": null,
            "object_position": null,
            "order": null,
            "overflow": null,
            "overflow_x": null,
            "overflow_y": null,
            "padding": null,
            "right": null,
            "top": null,
            "visibility": null,
            "width": null
          }
        },
        "c16e88f00d4b4a8498fbebc098c5ac30": {
          "model_module": "@jupyter-widgets/controls",
          "model_name": "DescriptionStyleModel",
          "model_module_version": "1.5.0",
          "state": {
            "_model_module": "@jupyter-widgets/controls",
            "_model_module_version": "1.5.0",
            "_model_name": "DescriptionStyleModel",
            "_view_count": null,
            "_view_module": "@jupyter-widgets/base",
            "_view_module_version": "1.2.0",
            "_view_name": "StyleView",
            "description_width": ""
          }
        },
        "58cc9d934a604238a29c6657a7c9264c": {
          "model_module": "@jupyter-widgets/controls",
          "model_name": "HBoxModel",
          "model_module_version": "1.5.0",
          "state": {
            "_dom_classes": [],
            "_model_module": "@jupyter-widgets/controls",
            "_model_module_version": "1.5.0",
            "_model_name": "HBoxModel",
            "_view_count": null,
            "_view_module": "@jupyter-widgets/controls",
            "_view_module_version": "1.5.0",
            "_view_name": "HBoxView",
            "box_style": "",
            "children": [
              "IPY_MODEL_f4b3100d31244a239441c240a6adf4bb",
              "IPY_MODEL_f4cdbacd4c6f4b6c853fd432410410fd",
              "IPY_MODEL_b6d2d787d017478c8851a07242b1ed5b"
            ],
            "layout": "IPY_MODEL_e60df786ec714f4e90838fccfb249b57"
          }
        },
        "f4b3100d31244a239441c240a6adf4bb": {
          "model_module": "@jupyter-widgets/controls",
          "model_name": "HTMLModel",
          "model_module_version": "1.5.0",
          "state": {
            "_dom_classes": [],
            "_model_module": "@jupyter-widgets/controls",
            "_model_module_version": "1.5.0",
            "_model_name": "HTMLModel",
            "_view_count": null,
            "_view_module": "@jupyter-widgets/controls",
            "_view_module_version": "1.5.0",
            "_view_name": "HTMLView",
            "description": "",
            "description_tooltip": null,
            "layout": "IPY_MODEL_f62783d0c419440e88e1953337286a0b",
            "placeholder": "​",
            "style": "IPY_MODEL_10b8389d9f604da2a6dc586d6c23814a",
            "value": "100%"
          }
        },
        "f4cdbacd4c6f4b6c853fd432410410fd": {
          "model_module": "@jupyter-widgets/controls",
          "model_name": "FloatProgressModel",
          "model_module_version": "1.5.0",
          "state": {
            "_dom_classes": [],
            "_model_module": "@jupyter-widgets/controls",
            "_model_module_version": "1.5.0",
            "_model_name": "FloatProgressModel",
            "_view_count": null,
            "_view_module": "@jupyter-widgets/controls",
            "_view_module_version": "1.5.0",
            "_view_name": "ProgressView",
            "bar_style": "success",
            "description": "",
            "description_tooltip": null,
            "layout": "IPY_MODEL_50b2f888453a4cd4817e4035e3f1bb80",
            "max": 1,
            "min": 0,
            "orientation": "horizontal",
            "style": "IPY_MODEL_5251d407cd9c428f9e09ff722d0f209c",
            "value": 1
          }
        },
        "b6d2d787d017478c8851a07242b1ed5b": {
          "model_module": "@jupyter-widgets/controls",
          "model_name": "HTMLModel",
          "model_module_version": "1.5.0",
          "state": {
            "_dom_classes": [],
            "_model_module": "@jupyter-widgets/controls",
            "_model_module_version": "1.5.0",
            "_model_name": "HTMLModel",
            "_view_count": null,
            "_view_module": "@jupyter-widgets/controls",
            "_view_module_version": "1.5.0",
            "_view_name": "HTMLView",
            "description": "",
            "description_tooltip": null,
            "layout": "IPY_MODEL_2e5dd16838c844f787670d8e6614ea9c",
            "placeholder": "​",
            "style": "IPY_MODEL_5e1d9c2a663e46eea4a9424586d70bfd",
            "value": " 1/1 [00:00&lt;00:00,  1.43it/s]"
          }
        },
        "e60df786ec714f4e90838fccfb249b57": {
          "model_module": "@jupyter-widgets/base",
          "model_name": "LayoutModel",
          "model_module_version": "1.2.0",
          "state": {
            "_model_module": "@jupyter-widgets/base",
            "_model_module_version": "1.2.0",
            "_model_name": "LayoutModel",
            "_view_count": null,
            "_view_module": "@jupyter-widgets/base",
            "_view_module_version": "1.2.0",
            "_view_name": "LayoutView",
            "align_content": null,
            "align_items": null,
            "align_self": null,
            "border": null,
            "bottom": null,
            "display": null,
            "flex": null,
            "flex_flow": null,
            "grid_area": null,
            "grid_auto_columns": null,
            "grid_auto_flow": null,
            "grid_auto_rows": null,
            "grid_column": null,
            "grid_gap": null,
            "grid_row": null,
            "grid_template_areas": null,
            "grid_template_columns": null,
            "grid_template_rows": null,
            "height": null,
            "justify_content": null,
            "justify_items": null,
            "left": null,
            "margin": null,
            "max_height": null,
            "max_width": null,
            "min_height": null,
            "min_width": null,
            "object_fit": null,
            "object_position": null,
            "order": null,
            "overflow": null,
            "overflow_x": null,
            "overflow_y": null,
            "padding": null,
            "right": null,
            "top": null,
            "visibility": null,
            "width": null
          }
        },
        "f62783d0c419440e88e1953337286a0b": {
          "model_module": "@jupyter-widgets/base",
          "model_name": "LayoutModel",
          "model_module_version": "1.2.0",
          "state": {
            "_model_module": "@jupyter-widgets/base",
            "_model_module_version": "1.2.0",
            "_model_name": "LayoutModel",
            "_view_count": null,
            "_view_module": "@jupyter-widgets/base",
            "_view_module_version": "1.2.0",
            "_view_name": "LayoutView",
            "align_content": null,
            "align_items": null,
            "align_self": null,
            "border": null,
            "bottom": null,
            "display": null,
            "flex": null,
            "flex_flow": null,
            "grid_area": null,
            "grid_auto_columns": null,
            "grid_auto_flow": null,
            "grid_auto_rows": null,
            "grid_column": null,
            "grid_gap": null,
            "grid_row": null,
            "grid_template_areas": null,
            "grid_template_columns": null,
            "grid_template_rows": null,
            "height": null,
            "justify_content": null,
            "justify_items": null,
            "left": null,
            "margin": null,
            "max_height": null,
            "max_width": null,
            "min_height": null,
            "min_width": null,
            "object_fit": null,
            "object_position": null,
            "order": null,
            "overflow": null,
            "overflow_x": null,
            "overflow_y": null,
            "padding": null,
            "right": null,
            "top": null,
            "visibility": null,
            "width": null
          }
        },
        "10b8389d9f604da2a6dc586d6c23814a": {
          "model_module": "@jupyter-widgets/controls",
          "model_name": "DescriptionStyleModel",
          "model_module_version": "1.5.0",
          "state": {
            "_model_module": "@jupyter-widgets/controls",
            "_model_module_version": "1.5.0",
            "_model_name": "DescriptionStyleModel",
            "_view_count": null,
            "_view_module": "@jupyter-widgets/base",
            "_view_module_version": "1.2.0",
            "_view_name": "StyleView",
            "description_width": ""
          }
        },
        "50b2f888453a4cd4817e4035e3f1bb80": {
          "model_module": "@jupyter-widgets/base",
          "model_name": "LayoutModel",
          "model_module_version": "1.2.0",
          "state": {
            "_model_module": "@jupyter-widgets/base",
            "_model_module_version": "1.2.0",
            "_model_name": "LayoutModel",
            "_view_count": null,
            "_view_module": "@jupyter-widgets/base",
            "_view_module_version": "1.2.0",
            "_view_name": "LayoutView",
            "align_content": null,
            "align_items": null,
            "align_self": null,
            "border": null,
            "bottom": null,
            "display": null,
            "flex": null,
            "flex_flow": null,
            "grid_area": null,
            "grid_auto_columns": null,
            "grid_auto_flow": null,
            "grid_auto_rows": null,
            "grid_column": null,
            "grid_gap": null,
            "grid_row": null,
            "grid_template_areas": null,
            "grid_template_columns": null,
            "grid_template_rows": null,
            "height": null,
            "justify_content": null,
            "justify_items": null,
            "left": null,
            "margin": null,
            "max_height": null,
            "max_width": null,
            "min_height": null,
            "min_width": null,
            "object_fit": null,
            "object_position": null,
            "order": null,
            "overflow": null,
            "overflow_x": null,
            "overflow_y": null,
            "padding": null,
            "right": null,
            "top": null,
            "visibility": null,
            "width": null
          }
        },
        "5251d407cd9c428f9e09ff722d0f209c": {
          "model_module": "@jupyter-widgets/controls",
          "model_name": "ProgressStyleModel",
          "model_module_version": "1.5.0",
          "state": {
            "_model_module": "@jupyter-widgets/controls",
            "_model_module_version": "1.5.0",
            "_model_name": "ProgressStyleModel",
            "_view_count": null,
            "_view_module": "@jupyter-widgets/base",
            "_view_module_version": "1.2.0",
            "_view_name": "StyleView",
            "bar_color": null,
            "description_width": ""
          }
        },
        "2e5dd16838c844f787670d8e6614ea9c": {
          "model_module": "@jupyter-widgets/base",
          "model_name": "LayoutModel",
          "model_module_version": "1.2.0",
          "state": {
            "_model_module": "@jupyter-widgets/base",
            "_model_module_version": "1.2.0",
            "_model_name": "LayoutModel",
            "_view_count": null,
            "_view_module": "@jupyter-widgets/base",
            "_view_module_version": "1.2.0",
            "_view_name": "LayoutView",
            "align_content": null,
            "align_items": null,
            "align_self": null,
            "border": null,
            "bottom": null,
            "display": null,
            "flex": null,
            "flex_flow": null,
            "grid_area": null,
            "grid_auto_columns": null,
            "grid_auto_flow": null,
            "grid_auto_rows": null,
            "grid_column": null,
            "grid_gap": null,
            "grid_row": null,
            "grid_template_areas": null,
            "grid_template_columns": null,
            "grid_template_rows": null,
            "height": null,
            "justify_content": null,
            "justify_items": null,
            "left": null,
            "margin": null,
            "max_height": null,
            "max_width": null,
            "min_height": null,
            "min_width": null,
            "object_fit": null,
            "object_position": null,
            "order": null,
            "overflow": null,
            "overflow_x": null,
            "overflow_y": null,
            "padding": null,
            "right": null,
            "top": null,
            "visibility": null,
            "width": null
          }
        },
        "5e1d9c2a663e46eea4a9424586d70bfd": {
          "model_module": "@jupyter-widgets/controls",
          "model_name": "DescriptionStyleModel",
          "model_module_version": "1.5.0",
          "state": {
            "_model_module": "@jupyter-widgets/controls",
            "_model_module_version": "1.5.0",
            "_model_name": "DescriptionStyleModel",
            "_view_count": null,
            "_view_module": "@jupyter-widgets/base",
            "_view_module_version": "1.2.0",
            "_view_name": "StyleView",
            "description_width": ""
          }
        },
        "b6b8ac93c8074eddb4be3937c5601d97": {
          "model_module": "@jupyter-widgets/controls",
          "model_name": "HBoxModel",
          "model_module_version": "1.5.0",
          "state": {
            "_dom_classes": [],
            "_model_module": "@jupyter-widgets/controls",
            "_model_module_version": "1.5.0",
            "_model_name": "HBoxModel",
            "_view_count": null,
            "_view_module": "@jupyter-widgets/controls",
            "_view_module_version": "1.5.0",
            "_view_name": "HBoxView",
            "box_style": "",
            "children": [
              "IPY_MODEL_6e98c66a921e4afd87da4c962a95587f",
              "IPY_MODEL_d45ee2bb01cd45679fd83a75a85da4bc",
              "IPY_MODEL_dfb90779739241ddacc33523e52b0099"
            ],
            "layout": "IPY_MODEL_eb5b2a7fbb4e4475861fc1f12b63b070"
          }
        },
        "6e98c66a921e4afd87da4c962a95587f": {
          "model_module": "@jupyter-widgets/controls",
          "model_name": "HTMLModel",
          "model_module_version": "1.5.0",
          "state": {
            "_dom_classes": [],
            "_model_module": "@jupyter-widgets/controls",
            "_model_module_version": "1.5.0",
            "_model_name": "HTMLModel",
            "_view_count": null,
            "_view_module": "@jupyter-widgets/controls",
            "_view_module_version": "1.5.0",
            "_view_name": "HTMLView",
            "description": "",
            "description_tooltip": null,
            "layout": "IPY_MODEL_35071c06a55d4f4e9edfa558b620ddf7",
            "placeholder": "​",
            "style": "IPY_MODEL_4d962bb44fc8431b8a9db91f414688c2",
            "value": "Filter: 100%"
          }
        },
        "d45ee2bb01cd45679fd83a75a85da4bc": {
          "model_module": "@jupyter-widgets/controls",
          "model_name": "FloatProgressModel",
          "model_module_version": "1.5.0",
          "state": {
            "_dom_classes": [],
            "_model_module": "@jupyter-widgets/controls",
            "_model_module_version": "1.5.0",
            "_model_name": "FloatProgressModel",
            "_view_count": null,
            "_view_module": "@jupyter-widgets/controls",
            "_view_module_version": "1.5.0",
            "_view_name": "ProgressView",
            "bar_style": "",
            "description": "",
            "description_tooltip": null,
            "layout": "IPY_MODEL_8beb4d54eb7d4defb28241252df899b9",
            "max": 10000,
            "min": 0,
            "orientation": "horizontal",
            "style": "IPY_MODEL_77cd95482e02486b8649875f411e52a6",
            "value": 10000
          }
        },
        "dfb90779739241ddacc33523e52b0099": {
          "model_module": "@jupyter-widgets/controls",
          "model_name": "HTMLModel",
          "model_module_version": "1.5.0",
          "state": {
            "_dom_classes": [],
            "_model_module": "@jupyter-widgets/controls",
            "_model_module_version": "1.5.0",
            "_model_name": "HTMLModel",
            "_view_count": null,
            "_view_module": "@jupyter-widgets/controls",
            "_view_module_version": "1.5.0",
            "_view_name": "HTMLView",
            "description": "",
            "description_tooltip": null,
            "layout": "IPY_MODEL_a4e188410b2141eab265bc871eaf6f95",
            "placeholder": "​",
            "style": "IPY_MODEL_e235d02ca8414c528374ff61e934b153",
            "value": " 10000/10000 [00:02&lt;00:00, 5140.50 examples/s]"
          }
        },
        "eb5b2a7fbb4e4475861fc1f12b63b070": {
          "model_module": "@jupyter-widgets/base",
          "model_name": "LayoutModel",
          "model_module_version": "1.2.0",
          "state": {
            "_model_module": "@jupyter-widgets/base",
            "_model_module_version": "1.2.0",
            "_model_name": "LayoutModel",
            "_view_count": null,
            "_view_module": "@jupyter-widgets/base",
            "_view_module_version": "1.2.0",
            "_view_name": "LayoutView",
            "align_content": null,
            "align_items": null,
            "align_self": null,
            "border": null,
            "bottom": null,
            "display": null,
            "flex": null,
            "flex_flow": null,
            "grid_area": null,
            "grid_auto_columns": null,
            "grid_auto_flow": null,
            "grid_auto_rows": null,
            "grid_column": null,
            "grid_gap": null,
            "grid_row": null,
            "grid_template_areas": null,
            "grid_template_columns": null,
            "grid_template_rows": null,
            "height": null,
            "justify_content": null,
            "justify_items": null,
            "left": null,
            "margin": null,
            "max_height": null,
            "max_width": null,
            "min_height": null,
            "min_width": null,
            "object_fit": null,
            "object_position": null,
            "order": null,
            "overflow": null,
            "overflow_x": null,
            "overflow_y": null,
            "padding": null,
            "right": null,
            "top": null,
            "visibility": "hidden",
            "width": null
          }
        },
        "35071c06a55d4f4e9edfa558b620ddf7": {
          "model_module": "@jupyter-widgets/base",
          "model_name": "LayoutModel",
          "model_module_version": "1.2.0",
          "state": {
            "_model_module": "@jupyter-widgets/base",
            "_model_module_version": "1.2.0",
            "_model_name": "LayoutModel",
            "_view_count": null,
            "_view_module": "@jupyter-widgets/base",
            "_view_module_version": "1.2.0",
            "_view_name": "LayoutView",
            "align_content": null,
            "align_items": null,
            "align_self": null,
            "border": null,
            "bottom": null,
            "display": null,
            "flex": null,
            "flex_flow": null,
            "grid_area": null,
            "grid_auto_columns": null,
            "grid_auto_flow": null,
            "grid_auto_rows": null,
            "grid_column": null,
            "grid_gap": null,
            "grid_row": null,
            "grid_template_areas": null,
            "grid_template_columns": null,
            "grid_template_rows": null,
            "height": null,
            "justify_content": null,
            "justify_items": null,
            "left": null,
            "margin": null,
            "max_height": null,
            "max_width": null,
            "min_height": null,
            "min_width": null,
            "object_fit": null,
            "object_position": null,
            "order": null,
            "overflow": null,
            "overflow_x": null,
            "overflow_y": null,
            "padding": null,
            "right": null,
            "top": null,
            "visibility": null,
            "width": null
          }
        },
        "4d962bb44fc8431b8a9db91f414688c2": {
          "model_module": "@jupyter-widgets/controls",
          "model_name": "DescriptionStyleModel",
          "model_module_version": "1.5.0",
          "state": {
            "_model_module": "@jupyter-widgets/controls",
            "_model_module_version": "1.5.0",
            "_model_name": "DescriptionStyleModel",
            "_view_count": null,
            "_view_module": "@jupyter-widgets/base",
            "_view_module_version": "1.2.0",
            "_view_name": "StyleView",
            "description_width": ""
          }
        },
        "8beb4d54eb7d4defb28241252df899b9": {
          "model_module": "@jupyter-widgets/base",
          "model_name": "LayoutModel",
          "model_module_version": "1.2.0",
          "state": {
            "_model_module": "@jupyter-widgets/base",
            "_model_module_version": "1.2.0",
            "_model_name": "LayoutModel",
            "_view_count": null,
            "_view_module": "@jupyter-widgets/base",
            "_view_module_version": "1.2.0",
            "_view_name": "LayoutView",
            "align_content": null,
            "align_items": null,
            "align_self": null,
            "border": null,
            "bottom": null,
            "display": null,
            "flex": null,
            "flex_flow": null,
            "grid_area": null,
            "grid_auto_columns": null,
            "grid_auto_flow": null,
            "grid_auto_rows": null,
            "grid_column": null,
            "grid_gap": null,
            "grid_row": null,
            "grid_template_areas": null,
            "grid_template_columns": null,
            "grid_template_rows": null,
            "height": null,
            "justify_content": null,
            "justify_items": null,
            "left": null,
            "margin": null,
            "max_height": null,
            "max_width": null,
            "min_height": null,
            "min_width": null,
            "object_fit": null,
            "object_position": null,
            "order": null,
            "overflow": null,
            "overflow_x": null,
            "overflow_y": null,
            "padding": null,
            "right": null,
            "top": null,
            "visibility": null,
            "width": null
          }
        },
        "77cd95482e02486b8649875f411e52a6": {
          "model_module": "@jupyter-widgets/controls",
          "model_name": "ProgressStyleModel",
          "model_module_version": "1.5.0",
          "state": {
            "_model_module": "@jupyter-widgets/controls",
            "_model_module_version": "1.5.0",
            "_model_name": "ProgressStyleModel",
            "_view_count": null,
            "_view_module": "@jupyter-widgets/base",
            "_view_module_version": "1.2.0",
            "_view_name": "StyleView",
            "bar_color": null,
            "description_width": ""
          }
        },
        "a4e188410b2141eab265bc871eaf6f95": {
          "model_module": "@jupyter-widgets/base",
          "model_name": "LayoutModel",
          "model_module_version": "1.2.0",
          "state": {
            "_model_module": "@jupyter-widgets/base",
            "_model_module_version": "1.2.0",
            "_model_name": "LayoutModel",
            "_view_count": null,
            "_view_module": "@jupyter-widgets/base",
            "_view_module_version": "1.2.0",
            "_view_name": "LayoutView",
            "align_content": null,
            "align_items": null,
            "align_self": null,
            "border": null,
            "bottom": null,
            "display": null,
            "flex": null,
            "flex_flow": null,
            "grid_area": null,
            "grid_auto_columns": null,
            "grid_auto_flow": null,
            "grid_auto_rows": null,
            "grid_column": null,
            "grid_gap": null,
            "grid_row": null,
            "grid_template_areas": null,
            "grid_template_columns": null,
            "grid_template_rows": null,
            "height": null,
            "justify_content": null,
            "justify_items": null,
            "left": null,
            "margin": null,
            "max_height": null,
            "max_width": null,
            "min_height": null,
            "min_width": null,
            "object_fit": null,
            "object_position": null,
            "order": null,
            "overflow": null,
            "overflow_x": null,
            "overflow_y": null,
            "padding": null,
            "right": null,
            "top": null,
            "visibility": null,
            "width": null
          }
        },
        "e235d02ca8414c528374ff61e934b153": {
          "model_module": "@jupyter-widgets/controls",
          "model_name": "DescriptionStyleModel",
          "model_module_version": "1.5.0",
          "state": {
            "_model_module": "@jupyter-widgets/controls",
            "_model_module_version": "1.5.0",
            "_model_name": "DescriptionStyleModel",
            "_view_count": null,
            "_view_module": "@jupyter-widgets/base",
            "_view_module_version": "1.2.0",
            "_view_name": "StyleView",
            "description_width": ""
          }
        },
        "64770a45b40a4c00bdad9d7350c278fd": {
          "model_module": "@jupyter-widgets/controls",
          "model_name": "HBoxModel",
          "model_module_version": "1.5.0",
          "state": {
            "_dom_classes": [],
            "_model_module": "@jupyter-widgets/controls",
            "_model_module_version": "1.5.0",
            "_model_name": "HBoxModel",
            "_view_count": null,
            "_view_module": "@jupyter-widgets/controls",
            "_view_module_version": "1.5.0",
            "_view_name": "HBoxView",
            "box_style": "",
            "children": [
              "IPY_MODEL_d865c8947ad44df985ca662cd8e43307",
              "IPY_MODEL_c2a7d6ccb1dc4f4093fb98634d6f8c34",
              "IPY_MODEL_1c154467855542d488040a235c763341"
            ],
            "layout": "IPY_MODEL_c0be637489ea42f68c4eb4df4f9d06df"
          }
        },
        "d865c8947ad44df985ca662cd8e43307": {
          "model_module": "@jupyter-widgets/controls",
          "model_name": "HTMLModel",
          "model_module_version": "1.5.0",
          "state": {
            "_dom_classes": [],
            "_model_module": "@jupyter-widgets/controls",
            "_model_module_version": "1.5.0",
            "_model_name": "HTMLModel",
            "_view_count": null,
            "_view_module": "@jupyter-widgets/controls",
            "_view_module_version": "1.5.0",
            "_view_name": "HTMLView",
            "description": "",
            "description_tooltip": null,
            "layout": "IPY_MODEL_af36599023084e5a8fd1612ad237efbe",
            "placeholder": "​",
            "style": "IPY_MODEL_8b4d45aacd4e42b69e5dc6e321a6c9bd",
            "value": "Filter:   0%"
          }
        },
        "c2a7d6ccb1dc4f4093fb98634d6f8c34": {
          "model_module": "@jupyter-widgets/controls",
          "model_name": "FloatProgressModel",
          "model_module_version": "1.5.0",
          "state": {
            "_dom_classes": [],
            "_model_module": "@jupyter-widgets/controls",
            "_model_module_version": "1.5.0",
            "_model_name": "FloatProgressModel",
            "_view_count": null,
            "_view_module": "@jupyter-widgets/controls",
            "_view_module_version": "1.5.0",
            "_view_name": "ProgressView",
            "bar_style": "",
            "description": "",
            "description_tooltip": null,
            "layout": "IPY_MODEL_3db14513e82c4b31ab62cbf9795c94f0",
            "max": 300,
            "min": 0,
            "orientation": "horizontal",
            "style": "IPY_MODEL_41cd0d0e68764779880f522f731727d2",
            "value": 300
          }
        },
        "1c154467855542d488040a235c763341": {
          "model_module": "@jupyter-widgets/controls",
          "model_name": "HTMLModel",
          "model_module_version": "1.5.0",
          "state": {
            "_dom_classes": [],
            "_model_module": "@jupyter-widgets/controls",
            "_model_module_version": "1.5.0",
            "_model_name": "HTMLModel",
            "_view_count": null,
            "_view_module": "@jupyter-widgets/controls",
            "_view_module_version": "1.5.0",
            "_view_name": "HTMLView",
            "description": "",
            "description_tooltip": null,
            "layout": "IPY_MODEL_84c7b06662c740eeb699a3b36cb8f348",
            "placeholder": "​",
            "style": "IPY_MODEL_f6e05b5c039a46958cce09f0a1c8c074",
            "value": " 0/300 [00:00&lt;?, ? examples/s]"
          }
        },
        "c0be637489ea42f68c4eb4df4f9d06df": {
          "model_module": "@jupyter-widgets/base",
          "model_name": "LayoutModel",
          "model_module_version": "1.2.0",
          "state": {
            "_model_module": "@jupyter-widgets/base",
            "_model_module_version": "1.2.0",
            "_model_name": "LayoutModel",
            "_view_count": null,
            "_view_module": "@jupyter-widgets/base",
            "_view_module_version": "1.2.0",
            "_view_name": "LayoutView",
            "align_content": null,
            "align_items": null,
            "align_self": null,
            "border": null,
            "bottom": null,
            "display": null,
            "flex": null,
            "flex_flow": null,
            "grid_area": null,
            "grid_auto_columns": null,
            "grid_auto_flow": null,
            "grid_auto_rows": null,
            "grid_column": null,
            "grid_gap": null,
            "grid_row": null,
            "grid_template_areas": null,
            "grid_template_columns": null,
            "grid_template_rows": null,
            "height": null,
            "justify_content": null,
            "justify_items": null,
            "left": null,
            "margin": null,
            "max_height": null,
            "max_width": null,
            "min_height": null,
            "min_width": null,
            "object_fit": null,
            "object_position": null,
            "order": null,
            "overflow": null,
            "overflow_x": null,
            "overflow_y": null,
            "padding": null,
            "right": null,
            "top": null,
            "visibility": "hidden",
            "width": null
          }
        },
        "af36599023084e5a8fd1612ad237efbe": {
          "model_module": "@jupyter-widgets/base",
          "model_name": "LayoutModel",
          "model_module_version": "1.2.0",
          "state": {
            "_model_module": "@jupyter-widgets/base",
            "_model_module_version": "1.2.0",
            "_model_name": "LayoutModel",
            "_view_count": null,
            "_view_module": "@jupyter-widgets/base",
            "_view_module_version": "1.2.0",
            "_view_name": "LayoutView",
            "align_content": null,
            "align_items": null,
            "align_self": null,
            "border": null,
            "bottom": null,
            "display": null,
            "flex": null,
            "flex_flow": null,
            "grid_area": null,
            "grid_auto_columns": null,
            "grid_auto_flow": null,
            "grid_auto_rows": null,
            "grid_column": null,
            "grid_gap": null,
            "grid_row": null,
            "grid_template_areas": null,
            "grid_template_columns": null,
            "grid_template_rows": null,
            "height": null,
            "justify_content": null,
            "justify_items": null,
            "left": null,
            "margin": null,
            "max_height": null,
            "max_width": null,
            "min_height": null,
            "min_width": null,
            "object_fit": null,
            "object_position": null,
            "order": null,
            "overflow": null,
            "overflow_x": null,
            "overflow_y": null,
            "padding": null,
            "right": null,
            "top": null,
            "visibility": null,
            "width": null
          }
        },
        "8b4d45aacd4e42b69e5dc6e321a6c9bd": {
          "model_module": "@jupyter-widgets/controls",
          "model_name": "DescriptionStyleModel",
          "model_module_version": "1.5.0",
          "state": {
            "_model_module": "@jupyter-widgets/controls",
            "_model_module_version": "1.5.0",
            "_model_name": "DescriptionStyleModel",
            "_view_count": null,
            "_view_module": "@jupyter-widgets/base",
            "_view_module_version": "1.2.0",
            "_view_name": "StyleView",
            "description_width": ""
          }
        },
        "3db14513e82c4b31ab62cbf9795c94f0": {
          "model_module": "@jupyter-widgets/base",
          "model_name": "LayoutModel",
          "model_module_version": "1.2.0",
          "state": {
            "_model_module": "@jupyter-widgets/base",
            "_model_module_version": "1.2.0",
            "_model_name": "LayoutModel",
            "_view_count": null,
            "_view_module": "@jupyter-widgets/base",
            "_view_module_version": "1.2.0",
            "_view_name": "LayoutView",
            "align_content": null,
            "align_items": null,
            "align_self": null,
            "border": null,
            "bottom": null,
            "display": null,
            "flex": null,
            "flex_flow": null,
            "grid_area": null,
            "grid_auto_columns": null,
            "grid_auto_flow": null,
            "grid_auto_rows": null,
            "grid_column": null,
            "grid_gap": null,
            "grid_row": null,
            "grid_template_areas": null,
            "grid_template_columns": null,
            "grid_template_rows": null,
            "height": null,
            "justify_content": null,
            "justify_items": null,
            "left": null,
            "margin": null,
            "max_height": null,
            "max_width": null,
            "min_height": null,
            "min_width": null,
            "object_fit": null,
            "object_position": null,
            "order": null,
            "overflow": null,
            "overflow_x": null,
            "overflow_y": null,
            "padding": null,
            "right": null,
            "top": null,
            "visibility": null,
            "width": null
          }
        },
        "41cd0d0e68764779880f522f731727d2": {
          "model_module": "@jupyter-widgets/controls",
          "model_name": "ProgressStyleModel",
          "model_module_version": "1.5.0",
          "state": {
            "_model_module": "@jupyter-widgets/controls",
            "_model_module_version": "1.5.0",
            "_model_name": "ProgressStyleModel",
            "_view_count": null,
            "_view_module": "@jupyter-widgets/base",
            "_view_module_version": "1.2.0",
            "_view_name": "StyleView",
            "bar_color": null,
            "description_width": ""
          }
        },
        "84c7b06662c740eeb699a3b36cb8f348": {
          "model_module": "@jupyter-widgets/base",
          "model_name": "LayoutModel",
          "model_module_version": "1.2.0",
          "state": {
            "_model_module": "@jupyter-widgets/base",
            "_model_module_version": "1.2.0",
            "_model_name": "LayoutModel",
            "_view_count": null,
            "_view_module": "@jupyter-widgets/base",
            "_view_module_version": "1.2.0",
            "_view_name": "LayoutView",
            "align_content": null,
            "align_items": null,
            "align_self": null,
            "border": null,
            "bottom": null,
            "display": null,
            "flex": null,
            "flex_flow": null,
            "grid_area": null,
            "grid_auto_columns": null,
            "grid_auto_flow": null,
            "grid_auto_rows": null,
            "grid_column": null,
            "grid_gap": null,
            "grid_row": null,
            "grid_template_areas": null,
            "grid_template_columns": null,
            "grid_template_rows": null,
            "height": null,
            "justify_content": null,
            "justify_items": null,
            "left": null,
            "margin": null,
            "max_height": null,
            "max_width": null,
            "min_height": null,
            "min_width": null,
            "object_fit": null,
            "object_position": null,
            "order": null,
            "overflow": null,
            "overflow_x": null,
            "overflow_y": null,
            "padding": null,
            "right": null,
            "top": null,
            "visibility": null,
            "width": null
          }
        },
        "f6e05b5c039a46958cce09f0a1c8c074": {
          "model_module": "@jupyter-widgets/controls",
          "model_name": "DescriptionStyleModel",
          "model_module_version": "1.5.0",
          "state": {
            "_model_module": "@jupyter-widgets/controls",
            "_model_module_version": "1.5.0",
            "_model_name": "DescriptionStyleModel",
            "_view_count": null,
            "_view_module": "@jupyter-widgets/base",
            "_view_module_version": "1.2.0",
            "_view_name": "StyleView",
            "description_width": ""
          }
        },
        "5626805787df4a208d1ab7cd177f69c3": {
          "model_module": "@jupyter-widgets/controls",
          "model_name": "HBoxModel",
          "model_module_version": "1.5.0",
          "state": {
            "_dom_classes": [],
            "_model_module": "@jupyter-widgets/controls",
            "_model_module_version": "1.5.0",
            "_model_name": "HBoxModel",
            "_view_count": null,
            "_view_module": "@jupyter-widgets/controls",
            "_view_module_version": "1.5.0",
            "_view_name": "HBoxView",
            "box_style": "",
            "children": [
              "IPY_MODEL_e2fb3575b8a7416ab4aa5972e00969aa",
              "IPY_MODEL_3218cd6d4e6a445a9e4dba45655df51b",
              "IPY_MODEL_d76e0216de204b6abb7a80816c13200c"
            ],
            "layout": "IPY_MODEL_6db3255362d141189cd028843796c3bd"
          }
        },
        "e2fb3575b8a7416ab4aa5972e00969aa": {
          "model_module": "@jupyter-widgets/controls",
          "model_name": "HTMLModel",
          "model_module_version": "1.5.0",
          "state": {
            "_dom_classes": [],
            "_model_module": "@jupyter-widgets/controls",
            "_model_module_version": "1.5.0",
            "_model_name": "HTMLModel",
            "_view_count": null,
            "_view_module": "@jupyter-widgets/controls",
            "_view_module_version": "1.5.0",
            "_view_name": "HTMLView",
            "description": "",
            "description_tooltip": null,
            "layout": "IPY_MODEL_7ad5c7d5a87142eab0445a3a3ca1b4e4",
            "placeholder": "​",
            "style": "IPY_MODEL_3070d59eea1c4f72af0f6e2556c23b03",
            "value": "Filter:   0%"
          }
        },
        "3218cd6d4e6a445a9e4dba45655df51b": {
          "model_module": "@jupyter-widgets/controls",
          "model_name": "FloatProgressModel",
          "model_module_version": "1.5.0",
          "state": {
            "_dom_classes": [],
            "_model_module": "@jupyter-widgets/controls",
            "_model_module_version": "1.5.0",
            "_model_name": "FloatProgressModel",
            "_view_count": null,
            "_view_module": "@jupyter-widgets/controls",
            "_view_module_version": "1.5.0",
            "_view_name": "ProgressView",
            "bar_style": "",
            "description": "",
            "description_tooltip": null,
            "layout": "IPY_MODEL_d50c69d8a72c41c19dfae6315bdde6e5",
            "max": 300,
            "min": 0,
            "orientation": "horizontal",
            "style": "IPY_MODEL_39c034007de24b5fb6414d687cde2cbd",
            "value": 300
          }
        },
        "d76e0216de204b6abb7a80816c13200c": {
          "model_module": "@jupyter-widgets/controls",
          "model_name": "HTMLModel",
          "model_module_version": "1.5.0",
          "state": {
            "_dom_classes": [],
            "_model_module": "@jupyter-widgets/controls",
            "_model_module_version": "1.5.0",
            "_model_name": "HTMLModel",
            "_view_count": null,
            "_view_module": "@jupyter-widgets/controls",
            "_view_module_version": "1.5.0",
            "_view_name": "HTMLView",
            "description": "",
            "description_tooltip": null,
            "layout": "IPY_MODEL_364f523e68e14e98860ed812c49f653f",
            "placeholder": "​",
            "style": "IPY_MODEL_f74bd1e43e47400196cb1532cf02bbf7",
            "value": " 0/300 [00:00&lt;?, ? examples/s]"
          }
        },
        "6db3255362d141189cd028843796c3bd": {
          "model_module": "@jupyter-widgets/base",
          "model_name": "LayoutModel",
          "model_module_version": "1.2.0",
          "state": {
            "_model_module": "@jupyter-widgets/base",
            "_model_module_version": "1.2.0",
            "_model_name": "LayoutModel",
            "_view_count": null,
            "_view_module": "@jupyter-widgets/base",
            "_view_module_version": "1.2.0",
            "_view_name": "LayoutView",
            "align_content": null,
            "align_items": null,
            "align_self": null,
            "border": null,
            "bottom": null,
            "display": null,
            "flex": null,
            "flex_flow": null,
            "grid_area": null,
            "grid_auto_columns": null,
            "grid_auto_flow": null,
            "grid_auto_rows": null,
            "grid_column": null,
            "grid_gap": null,
            "grid_row": null,
            "grid_template_areas": null,
            "grid_template_columns": null,
            "grid_template_rows": null,
            "height": null,
            "justify_content": null,
            "justify_items": null,
            "left": null,
            "margin": null,
            "max_height": null,
            "max_width": null,
            "min_height": null,
            "min_width": null,
            "object_fit": null,
            "object_position": null,
            "order": null,
            "overflow": null,
            "overflow_x": null,
            "overflow_y": null,
            "padding": null,
            "right": null,
            "top": null,
            "visibility": "hidden",
            "width": null
          }
        },
        "7ad5c7d5a87142eab0445a3a3ca1b4e4": {
          "model_module": "@jupyter-widgets/base",
          "model_name": "LayoutModel",
          "model_module_version": "1.2.0",
          "state": {
            "_model_module": "@jupyter-widgets/base",
            "_model_module_version": "1.2.0",
            "_model_name": "LayoutModel",
            "_view_count": null,
            "_view_module": "@jupyter-widgets/base",
            "_view_module_version": "1.2.0",
            "_view_name": "LayoutView",
            "align_content": null,
            "align_items": null,
            "align_self": null,
            "border": null,
            "bottom": null,
            "display": null,
            "flex": null,
            "flex_flow": null,
            "grid_area": null,
            "grid_auto_columns": null,
            "grid_auto_flow": null,
            "grid_auto_rows": null,
            "grid_column": null,
            "grid_gap": null,
            "grid_row": null,
            "grid_template_areas": null,
            "grid_template_columns": null,
            "grid_template_rows": null,
            "height": null,
            "justify_content": null,
            "justify_items": null,
            "left": null,
            "margin": null,
            "max_height": null,
            "max_width": null,
            "min_height": null,
            "min_width": null,
            "object_fit": null,
            "object_position": null,
            "order": null,
            "overflow": null,
            "overflow_x": null,
            "overflow_y": null,
            "padding": null,
            "right": null,
            "top": null,
            "visibility": null,
            "width": null
          }
        },
        "3070d59eea1c4f72af0f6e2556c23b03": {
          "model_module": "@jupyter-widgets/controls",
          "model_name": "DescriptionStyleModel",
          "model_module_version": "1.5.0",
          "state": {
            "_model_module": "@jupyter-widgets/controls",
            "_model_module_version": "1.5.0",
            "_model_name": "DescriptionStyleModel",
            "_view_count": null,
            "_view_module": "@jupyter-widgets/base",
            "_view_module_version": "1.2.0",
            "_view_name": "StyleView",
            "description_width": ""
          }
        },
        "d50c69d8a72c41c19dfae6315bdde6e5": {
          "model_module": "@jupyter-widgets/base",
          "model_name": "LayoutModel",
          "model_module_version": "1.2.0",
          "state": {
            "_model_module": "@jupyter-widgets/base",
            "_model_module_version": "1.2.0",
            "_model_name": "LayoutModel",
            "_view_count": null,
            "_view_module": "@jupyter-widgets/base",
            "_view_module_version": "1.2.0",
            "_view_name": "LayoutView",
            "align_content": null,
            "align_items": null,
            "align_self": null,
            "border": null,
            "bottom": null,
            "display": null,
            "flex": null,
            "flex_flow": null,
            "grid_area": null,
            "grid_auto_columns": null,
            "grid_auto_flow": null,
            "grid_auto_rows": null,
            "grid_column": null,
            "grid_gap": null,
            "grid_row": null,
            "grid_template_areas": null,
            "grid_template_columns": null,
            "grid_template_rows": null,
            "height": null,
            "justify_content": null,
            "justify_items": null,
            "left": null,
            "margin": null,
            "max_height": null,
            "max_width": null,
            "min_height": null,
            "min_width": null,
            "object_fit": null,
            "object_position": null,
            "order": null,
            "overflow": null,
            "overflow_x": null,
            "overflow_y": null,
            "padding": null,
            "right": null,
            "top": null,
            "visibility": null,
            "width": null
          }
        },
        "39c034007de24b5fb6414d687cde2cbd": {
          "model_module": "@jupyter-widgets/controls",
          "model_name": "ProgressStyleModel",
          "model_module_version": "1.5.0",
          "state": {
            "_model_module": "@jupyter-widgets/controls",
            "_model_module_version": "1.5.0",
            "_model_name": "ProgressStyleModel",
            "_view_count": null,
            "_view_module": "@jupyter-widgets/base",
            "_view_module_version": "1.2.0",
            "_view_name": "StyleView",
            "bar_color": null,
            "description_width": ""
          }
        },
        "364f523e68e14e98860ed812c49f653f": {
          "model_module": "@jupyter-widgets/base",
          "model_name": "LayoutModel",
          "model_module_version": "1.2.0",
          "state": {
            "_model_module": "@jupyter-widgets/base",
            "_model_module_version": "1.2.0",
            "_model_name": "LayoutModel",
            "_view_count": null,
            "_view_module": "@jupyter-widgets/base",
            "_view_module_version": "1.2.0",
            "_view_name": "LayoutView",
            "align_content": null,
            "align_items": null,
            "align_self": null,
            "border": null,
            "bottom": null,
            "display": null,
            "flex": null,
            "flex_flow": null,
            "grid_area": null,
            "grid_auto_columns": null,
            "grid_auto_flow": null,
            "grid_auto_rows": null,
            "grid_column": null,
            "grid_gap": null,
            "grid_row": null,
            "grid_template_areas": null,
            "grid_template_columns": null,
            "grid_template_rows": null,
            "height": null,
            "justify_content": null,
            "justify_items": null,
            "left": null,
            "margin": null,
            "max_height": null,
            "max_width": null,
            "min_height": null,
            "min_width": null,
            "object_fit": null,
            "object_position": null,
            "order": null,
            "overflow": null,
            "overflow_x": null,
            "overflow_y": null,
            "padding": null,
            "right": null,
            "top": null,
            "visibility": null,
            "width": null
          }
        },
        "f74bd1e43e47400196cb1532cf02bbf7": {
          "model_module": "@jupyter-widgets/controls",
          "model_name": "DescriptionStyleModel",
          "model_module_version": "1.5.0",
          "state": {
            "_model_module": "@jupyter-widgets/controls",
            "_model_module_version": "1.5.0",
            "_model_name": "DescriptionStyleModel",
            "_view_count": null,
            "_view_module": "@jupyter-widgets/base",
            "_view_module_version": "1.2.0",
            "_view_name": "StyleView",
            "description_width": ""
          }
        },
        "ba972458842c4910b44f96b42a00a32b": {
          "model_module": "@jupyter-widgets/controls",
          "model_name": "HBoxModel",
          "model_module_version": "1.5.0",
          "state": {
            "_dom_classes": [],
            "_model_module": "@jupyter-widgets/controls",
            "_model_module_version": "1.5.0",
            "_model_name": "HBoxModel",
            "_view_count": null,
            "_view_module": "@jupyter-widgets/controls",
            "_view_module_version": "1.5.0",
            "_view_name": "HBoxView",
            "box_style": "",
            "children": [
              "IPY_MODEL_9cb568e3a45044029461c518400b3986",
              "IPY_MODEL_02fc0faaa04b4494afc32e78695da09c",
              "IPY_MODEL_2a86e20deebd44489ff381d36a1d3319"
            ],
            "layout": "IPY_MODEL_face4efce1d34693956b040d6e8f1b9b"
          }
        },
        "9cb568e3a45044029461c518400b3986": {
          "model_module": "@jupyter-widgets/controls",
          "model_name": "HTMLModel",
          "model_module_version": "1.5.0",
          "state": {
            "_dom_classes": [],
            "_model_module": "@jupyter-widgets/controls",
            "_model_module_version": "1.5.0",
            "_model_name": "HTMLModel",
            "_view_count": null,
            "_view_module": "@jupyter-widgets/controls",
            "_view_module_version": "1.5.0",
            "_view_name": "HTMLView",
            "description": "",
            "description_tooltip": null,
            "layout": "IPY_MODEL_0600d4a6515049ad9d9cff0649c78ef8",
            "placeholder": "​",
            "style": "IPY_MODEL_bda6799173014472904f4bb72d55ed67",
            "value": "Map: 100%"
          }
        },
        "02fc0faaa04b4494afc32e78695da09c": {
          "model_module": "@jupyter-widgets/controls",
          "model_name": "FloatProgressModel",
          "model_module_version": "1.5.0",
          "state": {
            "_dom_classes": [],
            "_model_module": "@jupyter-widgets/controls",
            "_model_module_version": "1.5.0",
            "_model_name": "FloatProgressModel",
            "_view_count": null,
            "_view_module": "@jupyter-widgets/controls",
            "_view_module_version": "1.5.0",
            "_view_name": "ProgressView",
            "bar_style": "",
            "description": "",
            "description_tooltip": null,
            "layout": "IPY_MODEL_0b96b9e358b946b988832825cf598b61",
            "max": 8553,
            "min": 0,
            "orientation": "horizontal",
            "style": "IPY_MODEL_c7f6520d59114462aa169e814c191e3a",
            "value": 8553
          }
        },
        "2a86e20deebd44489ff381d36a1d3319": {
          "model_module": "@jupyter-widgets/controls",
          "model_name": "HTMLModel",
          "model_module_version": "1.5.0",
          "state": {
            "_dom_classes": [],
            "_model_module": "@jupyter-widgets/controls",
            "_model_module_version": "1.5.0",
            "_model_name": "HTMLModel",
            "_view_count": null,
            "_view_module": "@jupyter-widgets/controls",
            "_view_module_version": "1.5.0",
            "_view_name": "HTMLView",
            "description": "",
            "description_tooltip": null,
            "layout": "IPY_MODEL_632c49a4f0de4082951fa633e42fe1ad",
            "placeholder": "​",
            "style": "IPY_MODEL_9f33224f20504c1493a2a8d976c99b69",
            "value": " 8553/8553 [00:43&lt;00:00, 189.35 examples/s]"
          }
        },
        "face4efce1d34693956b040d6e8f1b9b": {
          "model_module": "@jupyter-widgets/base",
          "model_name": "LayoutModel",
          "model_module_version": "1.2.0",
          "state": {
            "_model_module": "@jupyter-widgets/base",
            "_model_module_version": "1.2.0",
            "_model_name": "LayoutModel",
            "_view_count": null,
            "_view_module": "@jupyter-widgets/base",
            "_view_module_version": "1.2.0",
            "_view_name": "LayoutView",
            "align_content": null,
            "align_items": null,
            "align_self": null,
            "border": null,
            "bottom": null,
            "display": null,
            "flex": null,
            "flex_flow": null,
            "grid_area": null,
            "grid_auto_columns": null,
            "grid_auto_flow": null,
            "grid_auto_rows": null,
            "grid_column": null,
            "grid_gap": null,
            "grid_row": null,
            "grid_template_areas": null,
            "grid_template_columns": null,
            "grid_template_rows": null,
            "height": null,
            "justify_content": null,
            "justify_items": null,
            "left": null,
            "margin": null,
            "max_height": null,
            "max_width": null,
            "min_height": null,
            "min_width": null,
            "object_fit": null,
            "object_position": null,
            "order": null,
            "overflow": null,
            "overflow_x": null,
            "overflow_y": null,
            "padding": null,
            "right": null,
            "top": null,
            "visibility": "hidden",
            "width": null
          }
        },
        "0600d4a6515049ad9d9cff0649c78ef8": {
          "model_module": "@jupyter-widgets/base",
          "model_name": "LayoutModel",
          "model_module_version": "1.2.0",
          "state": {
            "_model_module": "@jupyter-widgets/base",
            "_model_module_version": "1.2.0",
            "_model_name": "LayoutModel",
            "_view_count": null,
            "_view_module": "@jupyter-widgets/base",
            "_view_module_version": "1.2.0",
            "_view_name": "LayoutView",
            "align_content": null,
            "align_items": null,
            "align_self": null,
            "border": null,
            "bottom": null,
            "display": null,
            "flex": null,
            "flex_flow": null,
            "grid_area": null,
            "grid_auto_columns": null,
            "grid_auto_flow": null,
            "grid_auto_rows": null,
            "grid_column": null,
            "grid_gap": null,
            "grid_row": null,
            "grid_template_areas": null,
            "grid_template_columns": null,
            "grid_template_rows": null,
            "height": null,
            "justify_content": null,
            "justify_items": null,
            "left": null,
            "margin": null,
            "max_height": null,
            "max_width": null,
            "min_height": null,
            "min_width": null,
            "object_fit": null,
            "object_position": null,
            "order": null,
            "overflow": null,
            "overflow_x": null,
            "overflow_y": null,
            "padding": null,
            "right": null,
            "top": null,
            "visibility": null,
            "width": null
          }
        },
        "bda6799173014472904f4bb72d55ed67": {
          "model_module": "@jupyter-widgets/controls",
          "model_name": "DescriptionStyleModel",
          "model_module_version": "1.5.0",
          "state": {
            "_model_module": "@jupyter-widgets/controls",
            "_model_module_version": "1.5.0",
            "_model_name": "DescriptionStyleModel",
            "_view_count": null,
            "_view_module": "@jupyter-widgets/base",
            "_view_module_version": "1.2.0",
            "_view_name": "StyleView",
            "description_width": ""
          }
        },
        "0b96b9e358b946b988832825cf598b61": {
          "model_module": "@jupyter-widgets/base",
          "model_name": "LayoutModel",
          "model_module_version": "1.2.0",
          "state": {
            "_model_module": "@jupyter-widgets/base",
            "_model_module_version": "1.2.0",
            "_model_name": "LayoutModel",
            "_view_count": null,
            "_view_module": "@jupyter-widgets/base",
            "_view_module_version": "1.2.0",
            "_view_name": "LayoutView",
            "align_content": null,
            "align_items": null,
            "align_self": null,
            "border": null,
            "bottom": null,
            "display": null,
            "flex": null,
            "flex_flow": null,
            "grid_area": null,
            "grid_auto_columns": null,
            "grid_auto_flow": null,
            "grid_auto_rows": null,
            "grid_column": null,
            "grid_gap": null,
            "grid_row": null,
            "grid_template_areas": null,
            "grid_template_columns": null,
            "grid_template_rows": null,
            "height": null,
            "justify_content": null,
            "justify_items": null,
            "left": null,
            "margin": null,
            "max_height": null,
            "max_width": null,
            "min_height": null,
            "min_width": null,
            "object_fit": null,
            "object_position": null,
            "order": null,
            "overflow": null,
            "overflow_x": null,
            "overflow_y": null,
            "padding": null,
            "right": null,
            "top": null,
            "visibility": null,
            "width": null
          }
        },
        "c7f6520d59114462aa169e814c191e3a": {
          "model_module": "@jupyter-widgets/controls",
          "model_name": "ProgressStyleModel",
          "model_module_version": "1.5.0",
          "state": {
            "_model_module": "@jupyter-widgets/controls",
            "_model_module_version": "1.5.0",
            "_model_name": "ProgressStyleModel",
            "_view_count": null,
            "_view_module": "@jupyter-widgets/base",
            "_view_module_version": "1.2.0",
            "_view_name": "StyleView",
            "bar_color": null,
            "description_width": ""
          }
        },
        "632c49a4f0de4082951fa633e42fe1ad": {
          "model_module": "@jupyter-widgets/base",
          "model_name": "LayoutModel",
          "model_module_version": "1.2.0",
          "state": {
            "_model_module": "@jupyter-widgets/base",
            "_model_module_version": "1.2.0",
            "_model_name": "LayoutModel",
            "_view_count": null,
            "_view_module": "@jupyter-widgets/base",
            "_view_module_version": "1.2.0",
            "_view_name": "LayoutView",
            "align_content": null,
            "align_items": null,
            "align_self": null,
            "border": null,
            "bottom": null,
            "display": null,
            "flex": null,
            "flex_flow": null,
            "grid_area": null,
            "grid_auto_columns": null,
            "grid_auto_flow": null,
            "grid_auto_rows": null,
            "grid_column": null,
            "grid_gap": null,
            "grid_row": null,
            "grid_template_areas": null,
            "grid_template_columns": null,
            "grid_template_rows": null,
            "height": null,
            "justify_content": null,
            "justify_items": null,
            "left": null,
            "margin": null,
            "max_height": null,
            "max_width": null,
            "min_height": null,
            "min_width": null,
            "object_fit": null,
            "object_position": null,
            "order": null,
            "overflow": null,
            "overflow_x": null,
            "overflow_y": null,
            "padding": null,
            "right": null,
            "top": null,
            "visibility": null,
            "width": null
          }
        },
        "9f33224f20504c1493a2a8d976c99b69": {
          "model_module": "@jupyter-widgets/controls",
          "model_name": "DescriptionStyleModel",
          "model_module_version": "1.5.0",
          "state": {
            "_model_module": "@jupyter-widgets/controls",
            "_model_module_version": "1.5.0",
            "_model_name": "DescriptionStyleModel",
            "_view_count": null,
            "_view_module": "@jupyter-widgets/base",
            "_view_module_version": "1.2.0",
            "_view_name": "StyleView",
            "description_width": ""
          }
        },
        "936d7981764b42d9aa55b0e8048c4074": {
          "model_module": "@jupyter-widgets/controls",
          "model_name": "HBoxModel",
          "model_module_version": "1.5.0",
          "state": {
            "_dom_classes": [],
            "_model_module": "@jupyter-widgets/controls",
            "_model_module_version": "1.5.0",
            "_model_name": "HBoxModel",
            "_view_count": null,
            "_view_module": "@jupyter-widgets/controls",
            "_view_module_version": "1.5.0",
            "_view_name": "HBoxView",
            "box_style": "",
            "children": [
              "IPY_MODEL_3dd51b25917a40dc9459f9bf87a734a0",
              "IPY_MODEL_f46d88414c1c452eb695d6756822a61e",
              "IPY_MODEL_18bfcfbc06044997926d95c9f47fac78"
            ],
            "layout": "IPY_MODEL_3242328691d04ebd82033ad6f063a18e"
          }
        },
        "3dd51b25917a40dc9459f9bf87a734a0": {
          "model_module": "@jupyter-widgets/controls",
          "model_name": "HTMLModel",
          "model_module_version": "1.5.0",
          "state": {
            "_dom_classes": [],
            "_model_module": "@jupyter-widgets/controls",
            "_model_module_version": "1.5.0",
            "_model_name": "HTMLModel",
            "_view_count": null,
            "_view_module": "@jupyter-widgets/controls",
            "_view_module_version": "1.5.0",
            "_view_name": "HTMLView",
            "description": "",
            "description_tooltip": null,
            "layout": "IPY_MODEL_79a215b4d65443d49bd4740a1fe3b405",
            "placeholder": "​",
            "style": "IPY_MODEL_5143cc9c65e54b99aa0766d70dd1caeb",
            "value": "Map: 100%"
          }
        },
        "f46d88414c1c452eb695d6756822a61e": {
          "model_module": "@jupyter-widgets/controls",
          "model_name": "FloatProgressModel",
          "model_module_version": "1.5.0",
          "state": {
            "_dom_classes": [],
            "_model_module": "@jupyter-widgets/controls",
            "_model_module_version": "1.5.0",
            "_model_name": "FloatProgressModel",
            "_view_count": null,
            "_view_module": "@jupyter-widgets/controls",
            "_view_module_version": "1.5.0",
            "_view_name": "ProgressView",
            "bar_style": "",
            "description": "",
            "description_tooltip": null,
            "layout": "IPY_MODEL_362e107b16a241739fc1385c3ecb42ea",
            "max": 256,
            "min": 0,
            "orientation": "horizontal",
            "style": "IPY_MODEL_a2238fef44ca4578a2cba312be18d369",
            "value": 256
          }
        },
        "18bfcfbc06044997926d95c9f47fac78": {
          "model_module": "@jupyter-widgets/controls",
          "model_name": "HTMLModel",
          "model_module_version": "1.5.0",
          "state": {
            "_dom_classes": [],
            "_model_module": "@jupyter-widgets/controls",
            "_model_module_version": "1.5.0",
            "_model_name": "HTMLModel",
            "_view_count": null,
            "_view_module": "@jupyter-widgets/controls",
            "_view_module_version": "1.5.0",
            "_view_name": "HTMLView",
            "description": "",
            "description_tooltip": null,
            "layout": "IPY_MODEL_72ce08fb75cd49028d10ea692c1b6767",
            "placeholder": "​",
            "style": "IPY_MODEL_520f77229b094d40876d0e6d5cd51cce",
            "value": " 256/256 [00:01&lt;00:00, 252.00 examples/s]"
          }
        },
        "3242328691d04ebd82033ad6f063a18e": {
          "model_module": "@jupyter-widgets/base",
          "model_name": "LayoutModel",
          "model_module_version": "1.2.0",
          "state": {
            "_model_module": "@jupyter-widgets/base",
            "_model_module_version": "1.2.0",
            "_model_name": "LayoutModel",
            "_view_count": null,
            "_view_module": "@jupyter-widgets/base",
            "_view_module_version": "1.2.0",
            "_view_name": "LayoutView",
            "align_content": null,
            "align_items": null,
            "align_self": null,
            "border": null,
            "bottom": null,
            "display": null,
            "flex": null,
            "flex_flow": null,
            "grid_area": null,
            "grid_auto_columns": null,
            "grid_auto_flow": null,
            "grid_auto_rows": null,
            "grid_column": null,
            "grid_gap": null,
            "grid_row": null,
            "grid_template_areas": null,
            "grid_template_columns": null,
            "grid_template_rows": null,
            "height": null,
            "justify_content": null,
            "justify_items": null,
            "left": null,
            "margin": null,
            "max_height": null,
            "max_width": null,
            "min_height": null,
            "min_width": null,
            "object_fit": null,
            "object_position": null,
            "order": null,
            "overflow": null,
            "overflow_x": null,
            "overflow_y": null,
            "padding": null,
            "right": null,
            "top": null,
            "visibility": "hidden",
            "width": null
          }
        },
        "79a215b4d65443d49bd4740a1fe3b405": {
          "model_module": "@jupyter-widgets/base",
          "model_name": "LayoutModel",
          "model_module_version": "1.2.0",
          "state": {
            "_model_module": "@jupyter-widgets/base",
            "_model_module_version": "1.2.0",
            "_model_name": "LayoutModel",
            "_view_count": null,
            "_view_module": "@jupyter-widgets/base",
            "_view_module_version": "1.2.0",
            "_view_name": "LayoutView",
            "align_content": null,
            "align_items": null,
            "align_self": null,
            "border": null,
            "bottom": null,
            "display": null,
            "flex": null,
            "flex_flow": null,
            "grid_area": null,
            "grid_auto_columns": null,
            "grid_auto_flow": null,
            "grid_auto_rows": null,
            "grid_column": null,
            "grid_gap": null,
            "grid_row": null,
            "grid_template_areas": null,
            "grid_template_columns": null,
            "grid_template_rows": null,
            "height": null,
            "justify_content": null,
            "justify_items": null,
            "left": null,
            "margin": null,
            "max_height": null,
            "max_width": null,
            "min_height": null,
            "min_width": null,
            "object_fit": null,
            "object_position": null,
            "order": null,
            "overflow": null,
            "overflow_x": null,
            "overflow_y": null,
            "padding": null,
            "right": null,
            "top": null,
            "visibility": null,
            "width": null
          }
        },
        "5143cc9c65e54b99aa0766d70dd1caeb": {
          "model_module": "@jupyter-widgets/controls",
          "model_name": "DescriptionStyleModel",
          "model_module_version": "1.5.0",
          "state": {
            "_model_module": "@jupyter-widgets/controls",
            "_model_module_version": "1.5.0",
            "_model_name": "DescriptionStyleModel",
            "_view_count": null,
            "_view_module": "@jupyter-widgets/base",
            "_view_module_version": "1.2.0",
            "_view_name": "StyleView",
            "description_width": ""
          }
        },
        "362e107b16a241739fc1385c3ecb42ea": {
          "model_module": "@jupyter-widgets/base",
          "model_name": "LayoutModel",
          "model_module_version": "1.2.0",
          "state": {
            "_model_module": "@jupyter-widgets/base",
            "_model_module_version": "1.2.0",
            "_model_name": "LayoutModel",
            "_view_count": null,
            "_view_module": "@jupyter-widgets/base",
            "_view_module_version": "1.2.0",
            "_view_name": "LayoutView",
            "align_content": null,
            "align_items": null,
            "align_self": null,
            "border": null,
            "bottom": null,
            "display": null,
            "flex": null,
            "flex_flow": null,
            "grid_area": null,
            "grid_auto_columns": null,
            "grid_auto_flow": null,
            "grid_auto_rows": null,
            "grid_column": null,
            "grid_gap": null,
            "grid_row": null,
            "grid_template_areas": null,
            "grid_template_columns": null,
            "grid_template_rows": null,
            "height": null,
            "justify_content": null,
            "justify_items": null,
            "left": null,
            "margin": null,
            "max_height": null,
            "max_width": null,
            "min_height": null,
            "min_width": null,
            "object_fit": null,
            "object_position": null,
            "order": null,
            "overflow": null,
            "overflow_x": null,
            "overflow_y": null,
            "padding": null,
            "right": null,
            "top": null,
            "visibility": null,
            "width": null
          }
        },
        "a2238fef44ca4578a2cba312be18d369": {
          "model_module": "@jupyter-widgets/controls",
          "model_name": "ProgressStyleModel",
          "model_module_version": "1.5.0",
          "state": {
            "_model_module": "@jupyter-widgets/controls",
            "_model_module_version": "1.5.0",
            "_model_name": "ProgressStyleModel",
            "_view_count": null,
            "_view_module": "@jupyter-widgets/base",
            "_view_module_version": "1.2.0",
            "_view_name": "StyleView",
            "bar_color": null,
            "description_width": ""
          }
        },
        "72ce08fb75cd49028d10ea692c1b6767": {
          "model_module": "@jupyter-widgets/base",
          "model_name": "LayoutModel",
          "model_module_version": "1.2.0",
          "state": {
            "_model_module": "@jupyter-widgets/base",
            "_model_module_version": "1.2.0",
            "_model_name": "LayoutModel",
            "_view_count": null,
            "_view_module": "@jupyter-widgets/base",
            "_view_module_version": "1.2.0",
            "_view_name": "LayoutView",
            "align_content": null,
            "align_items": null,
            "align_self": null,
            "border": null,
            "bottom": null,
            "display": null,
            "flex": null,
            "flex_flow": null,
            "grid_area": null,
            "grid_auto_columns": null,
            "grid_auto_flow": null,
            "grid_auto_rows": null,
            "grid_column": null,
            "grid_gap": null,
            "grid_row": null,
            "grid_template_areas": null,
            "grid_template_columns": null,
            "grid_template_rows": null,
            "height": null,
            "justify_content": null,
            "justify_items": null,
            "left": null,
            "margin": null,
            "max_height": null,
            "max_width": null,
            "min_height": null,
            "min_width": null,
            "object_fit": null,
            "object_position": null,
            "order": null,
            "overflow": null,
            "overflow_x": null,
            "overflow_y": null,
            "padding": null,
            "right": null,
            "top": null,
            "visibility": null,
            "width": null
          }
        },
        "520f77229b094d40876d0e6d5cd51cce": {
          "model_module": "@jupyter-widgets/controls",
          "model_name": "DescriptionStyleModel",
          "model_module_version": "1.5.0",
          "state": {
            "_model_module": "@jupyter-widgets/controls",
            "_model_module_version": "1.5.0",
            "_model_name": "DescriptionStyleModel",
            "_view_count": null,
            "_view_module": "@jupyter-widgets/base",
            "_view_module_version": "1.2.0",
            "_view_name": "StyleView",
            "description_width": ""
          }
        },
        "a8b77be17c84411ba99d124c532fbb5e": {
          "model_module": "@jupyter-widgets/controls",
          "model_name": "HBoxModel",
          "model_module_version": "1.5.0",
          "state": {
            "_dom_classes": [],
            "_model_module": "@jupyter-widgets/controls",
            "_model_module_version": "1.5.0",
            "_model_name": "HBoxModel",
            "_view_count": null,
            "_view_module": "@jupyter-widgets/controls",
            "_view_module_version": "1.5.0",
            "_view_name": "HBoxView",
            "box_style": "",
            "children": [
              "IPY_MODEL_915b55555e1a4b219cd508be6acc5051",
              "IPY_MODEL_989580c97c784bf1af508c2dbe73d3d0",
              "IPY_MODEL_db77615739694b998bfa606f973850d1"
            ],
            "layout": "IPY_MODEL_c85fb3457c8f47119d0b40e6481e1813"
          }
        },
        "915b55555e1a4b219cd508be6acc5051": {
          "model_module": "@jupyter-widgets/controls",
          "model_name": "HTMLModel",
          "model_module_version": "1.5.0",
          "state": {
            "_dom_classes": [],
            "_model_module": "@jupyter-widgets/controls",
            "_model_module_version": "1.5.0",
            "_model_name": "HTMLModel",
            "_view_count": null,
            "_view_module": "@jupyter-widgets/controls",
            "_view_module_version": "1.5.0",
            "_view_name": "HTMLView",
            "description": "",
            "description_tooltip": null,
            "layout": "IPY_MODEL_cf2b7019576d4257852196a75e6a65f0",
            "placeholder": "​",
            "style": "IPY_MODEL_6b25e6a5e89f467e84b62114f3fbe5e8",
            "value": "Map: 100%"
          }
        },
        "989580c97c784bf1af508c2dbe73d3d0": {
          "model_module": "@jupyter-widgets/controls",
          "model_name": "FloatProgressModel",
          "model_module_version": "1.5.0",
          "state": {
            "_dom_classes": [],
            "_model_module": "@jupyter-widgets/controls",
            "_model_module_version": "1.5.0",
            "_model_name": "FloatProgressModel",
            "_view_count": null,
            "_view_module": "@jupyter-widgets/controls",
            "_view_module_version": "1.5.0",
            "_view_name": "ProgressView",
            "bar_style": "",
            "description": "",
            "description_tooltip": null,
            "layout": "IPY_MODEL_96b56d68dbd54b7589eb2b8d35e7c2d9",
            "max": 258,
            "min": 0,
            "orientation": "horizontal",
            "style": "IPY_MODEL_fb92a14779764be4a8d950a48cc3e690",
            "value": 258
          }
        },
        "db77615739694b998bfa606f973850d1": {
          "model_module": "@jupyter-widgets/controls",
          "model_name": "HTMLModel",
          "model_module_version": "1.5.0",
          "state": {
            "_dom_classes": [],
            "_model_module": "@jupyter-widgets/controls",
            "_model_module_version": "1.5.0",
            "_model_name": "HTMLModel",
            "_view_count": null,
            "_view_module": "@jupyter-widgets/controls",
            "_view_module_version": "1.5.0",
            "_view_name": "HTMLView",
            "description": "",
            "description_tooltip": null,
            "layout": "IPY_MODEL_65a646f7849d4f28a3d73316bd53c6b1",
            "placeholder": "​",
            "style": "IPY_MODEL_de6efca553e64402b2df01af8ec20616",
            "value": " 258/258 [00:01&lt;00:00, 218.20 examples/s]"
          }
        },
        "c85fb3457c8f47119d0b40e6481e1813": {
          "model_module": "@jupyter-widgets/base",
          "model_name": "LayoutModel",
          "model_module_version": "1.2.0",
          "state": {
            "_model_module": "@jupyter-widgets/base",
            "_model_module_version": "1.2.0",
            "_model_name": "LayoutModel",
            "_view_count": null,
            "_view_module": "@jupyter-widgets/base",
            "_view_module_version": "1.2.0",
            "_view_name": "LayoutView",
            "align_content": null,
            "align_items": null,
            "align_self": null,
            "border": null,
            "bottom": null,
            "display": null,
            "flex": null,
            "flex_flow": null,
            "grid_area": null,
            "grid_auto_columns": null,
            "grid_auto_flow": null,
            "grid_auto_rows": null,
            "grid_column": null,
            "grid_gap": null,
            "grid_row": null,
            "grid_template_areas": null,
            "grid_template_columns": null,
            "grid_template_rows": null,
            "height": null,
            "justify_content": null,
            "justify_items": null,
            "left": null,
            "margin": null,
            "max_height": null,
            "max_width": null,
            "min_height": null,
            "min_width": null,
            "object_fit": null,
            "object_position": null,
            "order": null,
            "overflow": null,
            "overflow_x": null,
            "overflow_y": null,
            "padding": null,
            "right": null,
            "top": null,
            "visibility": "hidden",
            "width": null
          }
        },
        "cf2b7019576d4257852196a75e6a65f0": {
          "model_module": "@jupyter-widgets/base",
          "model_name": "LayoutModel",
          "model_module_version": "1.2.0",
          "state": {
            "_model_module": "@jupyter-widgets/base",
            "_model_module_version": "1.2.0",
            "_model_name": "LayoutModel",
            "_view_count": null,
            "_view_module": "@jupyter-widgets/base",
            "_view_module_version": "1.2.0",
            "_view_name": "LayoutView",
            "align_content": null,
            "align_items": null,
            "align_self": null,
            "border": null,
            "bottom": null,
            "display": null,
            "flex": null,
            "flex_flow": null,
            "grid_area": null,
            "grid_auto_columns": null,
            "grid_auto_flow": null,
            "grid_auto_rows": null,
            "grid_column": null,
            "grid_gap": null,
            "grid_row": null,
            "grid_template_areas": null,
            "grid_template_columns": null,
            "grid_template_rows": null,
            "height": null,
            "justify_content": null,
            "justify_items": null,
            "left": null,
            "margin": null,
            "max_height": null,
            "max_width": null,
            "min_height": null,
            "min_width": null,
            "object_fit": null,
            "object_position": null,
            "order": null,
            "overflow": null,
            "overflow_x": null,
            "overflow_y": null,
            "padding": null,
            "right": null,
            "top": null,
            "visibility": null,
            "width": null
          }
        },
        "6b25e6a5e89f467e84b62114f3fbe5e8": {
          "model_module": "@jupyter-widgets/controls",
          "model_name": "DescriptionStyleModel",
          "model_module_version": "1.5.0",
          "state": {
            "_model_module": "@jupyter-widgets/controls",
            "_model_module_version": "1.5.0",
            "_model_name": "DescriptionStyleModel",
            "_view_count": null,
            "_view_module": "@jupyter-widgets/base",
            "_view_module_version": "1.2.0",
            "_view_name": "StyleView",
            "description_width": ""
          }
        },
        "96b56d68dbd54b7589eb2b8d35e7c2d9": {
          "model_module": "@jupyter-widgets/base",
          "model_name": "LayoutModel",
          "model_module_version": "1.2.0",
          "state": {
            "_model_module": "@jupyter-widgets/base",
            "_model_module_version": "1.2.0",
            "_model_name": "LayoutModel",
            "_view_count": null,
            "_view_module": "@jupyter-widgets/base",
            "_view_module_version": "1.2.0",
            "_view_name": "LayoutView",
            "align_content": null,
            "align_items": null,
            "align_self": null,
            "border": null,
            "bottom": null,
            "display": null,
            "flex": null,
            "flex_flow": null,
            "grid_area": null,
            "grid_auto_columns": null,
            "grid_auto_flow": null,
            "grid_auto_rows": null,
            "grid_column": null,
            "grid_gap": null,
            "grid_row": null,
            "grid_template_areas": null,
            "grid_template_columns": null,
            "grid_template_rows": null,
            "height": null,
            "justify_content": null,
            "justify_items": null,
            "left": null,
            "margin": null,
            "max_height": null,
            "max_width": null,
            "min_height": null,
            "min_width": null,
            "object_fit": null,
            "object_position": null,
            "order": null,
            "overflow": null,
            "overflow_x": null,
            "overflow_y": null,
            "padding": null,
            "right": null,
            "top": null,
            "visibility": null,
            "width": null
          }
        },
        "fb92a14779764be4a8d950a48cc3e690": {
          "model_module": "@jupyter-widgets/controls",
          "model_name": "ProgressStyleModel",
          "model_module_version": "1.5.0",
          "state": {
            "_model_module": "@jupyter-widgets/controls",
            "_model_module_version": "1.5.0",
            "_model_name": "ProgressStyleModel",
            "_view_count": null,
            "_view_module": "@jupyter-widgets/base",
            "_view_module_version": "1.2.0",
            "_view_name": "StyleView",
            "bar_color": null,
            "description_width": ""
          }
        },
        "65a646f7849d4f28a3d73316bd53c6b1": {
          "model_module": "@jupyter-widgets/base",
          "model_name": "LayoutModel",
          "model_module_version": "1.2.0",
          "state": {
            "_model_module": "@jupyter-widgets/base",
            "_model_module_version": "1.2.0",
            "_model_name": "LayoutModel",
            "_view_count": null,
            "_view_module": "@jupyter-widgets/base",
            "_view_module_version": "1.2.0",
            "_view_name": "LayoutView",
            "align_content": null,
            "align_items": null,
            "align_self": null,
            "border": null,
            "bottom": null,
            "display": null,
            "flex": null,
            "flex_flow": null,
            "grid_area": null,
            "grid_auto_columns": null,
            "grid_auto_flow": null,
            "grid_auto_rows": null,
            "grid_column": null,
            "grid_gap": null,
            "grid_row": null,
            "grid_template_areas": null,
            "grid_template_columns": null,
            "grid_template_rows": null,
            "height": null,
            "justify_content": null,
            "justify_items": null,
            "left": null,
            "margin": null,
            "max_height": null,
            "max_width": null,
            "min_height": null,
            "min_width": null,
            "object_fit": null,
            "object_position": null,
            "order": null,
            "overflow": null,
            "overflow_x": null,
            "overflow_y": null,
            "padding": null,
            "right": null,
            "top": null,
            "visibility": null,
            "width": null
          }
        },
        "de6efca553e64402b2df01af8ec20616": {
          "model_module": "@jupyter-widgets/controls",
          "model_name": "DescriptionStyleModel",
          "model_module_version": "1.5.0",
          "state": {
            "_model_module": "@jupyter-widgets/controls",
            "_model_module_version": "1.5.0",
            "_model_name": "DescriptionStyleModel",
            "_view_count": null,
            "_view_module": "@jupyter-widgets/base",
            "_view_module_version": "1.2.0",
            "_view_name": "StyleView",
            "description_width": ""
          }
        },
        "07965d481ef8441496cf4fc128e42e71": {
          "model_module": "@jupyter-widgets/controls",
          "model_name": "HBoxModel",
          "model_module_version": "1.5.0",
          "state": {
            "_dom_classes": [],
            "_model_module": "@jupyter-widgets/controls",
            "_model_module_version": "1.5.0",
            "_model_name": "HBoxModel",
            "_view_count": null,
            "_view_module": "@jupyter-widgets/controls",
            "_view_module_version": "1.5.0",
            "_view_name": "HBoxView",
            "box_style": "",
            "children": [
              "IPY_MODEL_13ee727e51044eea84a2841958b4e957",
              "IPY_MODEL_5f452786ec2b4a1c8b1ee552749187a9",
              "IPY_MODEL_3762508e992e41e7979c0fa59e4122d6"
            ],
            "layout": "IPY_MODEL_ef328cb911cb4a57a1c1c437d43d0a37"
          }
        },
        "13ee727e51044eea84a2841958b4e957": {
          "model_module": "@jupyter-widgets/controls",
          "model_name": "HTMLModel",
          "model_module_version": "1.5.0",
          "state": {
            "_dom_classes": [],
            "_model_module": "@jupyter-widgets/controls",
            "_model_module_version": "1.5.0",
            "_model_name": "HTMLModel",
            "_view_count": null,
            "_view_module": "@jupyter-widgets/controls",
            "_view_module_version": "1.5.0",
            "_view_name": "HTMLView",
            "description": "",
            "description_tooltip": null,
            "layout": "IPY_MODEL_0a86720bf9914a4d9007be0c85354845",
            "placeholder": "​",
            "style": "IPY_MODEL_d889e4d97c3943bdb64c840f7555f96a",
            "value": "Map: 100%"
          }
        },
        "5f452786ec2b4a1c8b1ee552749187a9": {
          "model_module": "@jupyter-widgets/controls",
          "model_name": "FloatProgressModel",
          "model_module_version": "1.5.0",
          "state": {
            "_dom_classes": [],
            "_model_module": "@jupyter-widgets/controls",
            "_model_module_version": "1.5.0",
            "_model_name": "FloatProgressModel",
            "_view_count": null,
            "_view_module": "@jupyter-widgets/controls",
            "_view_module_version": "1.5.0",
            "_view_name": "ProgressView",
            "bar_style": "",
            "description": "",
            "description_tooltip": null,
            "layout": "IPY_MODEL_5f0aa944f14049bb844daa1d3bd0d76d",
            "max": 258,
            "min": 0,
            "orientation": "horizontal",
            "style": "IPY_MODEL_189266d642584d1a9491b1139a657728",
            "value": 258
          }
        },
        "3762508e992e41e7979c0fa59e4122d6": {
          "model_module": "@jupyter-widgets/controls",
          "model_name": "HTMLModel",
          "model_module_version": "1.5.0",
          "state": {
            "_dom_classes": [],
            "_model_module": "@jupyter-widgets/controls",
            "_model_module_version": "1.5.0",
            "_model_name": "HTMLModel",
            "_view_count": null,
            "_view_module": "@jupyter-widgets/controls",
            "_view_module_version": "1.5.0",
            "_view_name": "HTMLView",
            "description": "",
            "description_tooltip": null,
            "layout": "IPY_MODEL_36502836751d49c586ee8c890e3ae38d",
            "placeholder": "​",
            "style": "IPY_MODEL_a2183c178ad542b5875d82a0ae97623a",
            "value": " 258/258 [00:02&lt;00:00, 123.12 examples/s]"
          }
        },
        "ef328cb911cb4a57a1c1c437d43d0a37": {
          "model_module": "@jupyter-widgets/base",
          "model_name": "LayoutModel",
          "model_module_version": "1.2.0",
          "state": {
            "_model_module": "@jupyter-widgets/base",
            "_model_module_version": "1.2.0",
            "_model_name": "LayoutModel",
            "_view_count": null,
            "_view_module": "@jupyter-widgets/base",
            "_view_module_version": "1.2.0",
            "_view_name": "LayoutView",
            "align_content": null,
            "align_items": null,
            "align_self": null,
            "border": null,
            "bottom": null,
            "display": null,
            "flex": null,
            "flex_flow": null,
            "grid_area": null,
            "grid_auto_columns": null,
            "grid_auto_flow": null,
            "grid_auto_rows": null,
            "grid_column": null,
            "grid_gap": null,
            "grid_row": null,
            "grid_template_areas": null,
            "grid_template_columns": null,
            "grid_template_rows": null,
            "height": null,
            "justify_content": null,
            "justify_items": null,
            "left": null,
            "margin": null,
            "max_height": null,
            "max_width": null,
            "min_height": null,
            "min_width": null,
            "object_fit": null,
            "object_position": null,
            "order": null,
            "overflow": null,
            "overflow_x": null,
            "overflow_y": null,
            "padding": null,
            "right": null,
            "top": null,
            "visibility": "hidden",
            "width": null
          }
        },
        "0a86720bf9914a4d9007be0c85354845": {
          "model_module": "@jupyter-widgets/base",
          "model_name": "LayoutModel",
          "model_module_version": "1.2.0",
          "state": {
            "_model_module": "@jupyter-widgets/base",
            "_model_module_version": "1.2.0",
            "_model_name": "LayoutModel",
            "_view_count": null,
            "_view_module": "@jupyter-widgets/base",
            "_view_module_version": "1.2.0",
            "_view_name": "LayoutView",
            "align_content": null,
            "align_items": null,
            "align_self": null,
            "border": null,
            "bottom": null,
            "display": null,
            "flex": null,
            "flex_flow": null,
            "grid_area": null,
            "grid_auto_columns": null,
            "grid_auto_flow": null,
            "grid_auto_rows": null,
            "grid_column": null,
            "grid_gap": null,
            "grid_row": null,
            "grid_template_areas": null,
            "grid_template_columns": null,
            "grid_template_rows": null,
            "height": null,
            "justify_content": null,
            "justify_items": null,
            "left": null,
            "margin": null,
            "max_height": null,
            "max_width": null,
            "min_height": null,
            "min_width": null,
            "object_fit": null,
            "object_position": null,
            "order": null,
            "overflow": null,
            "overflow_x": null,
            "overflow_y": null,
            "padding": null,
            "right": null,
            "top": null,
            "visibility": null,
            "width": null
          }
        },
        "d889e4d97c3943bdb64c840f7555f96a": {
          "model_module": "@jupyter-widgets/controls",
          "model_name": "DescriptionStyleModel",
          "model_module_version": "1.5.0",
          "state": {
            "_model_module": "@jupyter-widgets/controls",
            "_model_module_version": "1.5.0",
            "_model_name": "DescriptionStyleModel",
            "_view_count": null,
            "_view_module": "@jupyter-widgets/base",
            "_view_module_version": "1.2.0",
            "_view_name": "StyleView",
            "description_width": ""
          }
        },
        "5f0aa944f14049bb844daa1d3bd0d76d": {
          "model_module": "@jupyter-widgets/base",
          "model_name": "LayoutModel",
          "model_module_version": "1.2.0",
          "state": {
            "_model_module": "@jupyter-widgets/base",
            "_model_module_version": "1.2.0",
            "_model_name": "LayoutModel",
            "_view_count": null,
            "_view_module": "@jupyter-widgets/base",
            "_view_module_version": "1.2.0",
            "_view_name": "LayoutView",
            "align_content": null,
            "align_items": null,
            "align_self": null,
            "border": null,
            "bottom": null,
            "display": null,
            "flex": null,
            "flex_flow": null,
            "grid_area": null,
            "grid_auto_columns": null,
            "grid_auto_flow": null,
            "grid_auto_rows": null,
            "grid_column": null,
            "grid_gap": null,
            "grid_row": null,
            "grid_template_areas": null,
            "grid_template_columns": null,
            "grid_template_rows": null,
            "height": null,
            "justify_content": null,
            "justify_items": null,
            "left": null,
            "margin": null,
            "max_height": null,
            "max_width": null,
            "min_height": null,
            "min_width": null,
            "object_fit": null,
            "object_position": null,
            "order": null,
            "overflow": null,
            "overflow_x": null,
            "overflow_y": null,
            "padding": null,
            "right": null,
            "top": null,
            "visibility": null,
            "width": null
          }
        },
        "189266d642584d1a9491b1139a657728": {
          "model_module": "@jupyter-widgets/controls",
          "model_name": "ProgressStyleModel",
          "model_module_version": "1.5.0",
          "state": {
            "_model_module": "@jupyter-widgets/controls",
            "_model_module_version": "1.5.0",
            "_model_name": "ProgressStyleModel",
            "_view_count": null,
            "_view_module": "@jupyter-widgets/base",
            "_view_module_version": "1.2.0",
            "_view_name": "StyleView",
            "bar_color": null,
            "description_width": ""
          }
        },
        "36502836751d49c586ee8c890e3ae38d": {
          "model_module": "@jupyter-widgets/base",
          "model_name": "LayoutModel",
          "model_module_version": "1.2.0",
          "state": {
            "_model_module": "@jupyter-widgets/base",
            "_model_module_version": "1.2.0",
            "_model_name": "LayoutModel",
            "_view_count": null,
            "_view_module": "@jupyter-widgets/base",
            "_view_module_version": "1.2.0",
            "_view_name": "LayoutView",
            "align_content": null,
            "align_items": null,
            "align_self": null,
            "border": null,
            "bottom": null,
            "display": null,
            "flex": null,
            "flex_flow": null,
            "grid_area": null,
            "grid_auto_columns": null,
            "grid_auto_flow": null,
            "grid_auto_rows": null,
            "grid_column": null,
            "grid_gap": null,
            "grid_row": null,
            "grid_template_areas": null,
            "grid_template_columns": null,
            "grid_template_rows": null,
            "height": null,
            "justify_content": null,
            "justify_items": null,
            "left": null,
            "margin": null,
            "max_height": null,
            "max_width": null,
            "min_height": null,
            "min_width": null,
            "object_fit": null,
            "object_position": null,
            "order": null,
            "overflow": null,
            "overflow_x": null,
            "overflow_y": null,
            "padding": null,
            "right": null,
            "top": null,
            "visibility": null,
            "width": null
          }
        },
        "a2183c178ad542b5875d82a0ae97623a": {
          "model_module": "@jupyter-widgets/controls",
          "model_name": "DescriptionStyleModel",
          "model_module_version": "1.5.0",
          "state": {
            "_model_module": "@jupyter-widgets/controls",
            "_model_module_version": "1.5.0",
            "_model_name": "DescriptionStyleModel",
            "_view_count": null,
            "_view_module": "@jupyter-widgets/base",
            "_view_module_version": "1.2.0",
            "_view_name": "StyleView",
            "description_width": ""
          }
        }
      }
    }
  },
  "nbformat_minor": 0,
  "nbformat": 4,
  "cells": [
    {
      "cell_type": "markdown",
      "source": [
        "# Article Title Generation Model with T5"
      ],
      "metadata": {
        "id": "Smr0ok1lbXQJ"
      }
    },
    {
      "cell_type": "markdown",
      "source": [
        "## Libraries and dataset"
      ],
      "metadata": {
        "id": "5LDHJ9e3bgQf"
      }
    },
    {
      "cell_type": "code",
      "source": [
        "import pandas as pd\n",
        "import matplotlib.pyplot as plt"
      ],
      "metadata": {
        "id": "aStH13u7_JVy",
        "execution": {
          "iopub.status.busy": "2023-06-02T06:48:53.302092Z",
          "iopub.execute_input": "2023-06-02T06:48:53.302822Z",
          "iopub.status.idle": "2023-06-02T06:48:53.307221Z",
          "shell.execute_reply.started": "2023-06-02T06:48:53.302788Z",
          "shell.execute_reply": "2023-06-02T06:48:53.306156Z"
        },
        "trusted": true
      },
      "execution_count": null,
      "outputs": []
    },
    {
      "cell_type": "code",
      "source": [
        "!pip install datasets transformers rouge-score nltk"
      ],
      "metadata": {
        "id": "h-YJrELPW3sC",
        "colab": {
          "base_uri": "https://localhost:8080/"
        },
        "outputId": "e704144a-b79c-4ba5-e415-279ec147bd95",
        "execution": {
          "iopub.status.busy": "2023-06-02T06:48:53.738772Z",
          "iopub.execute_input": "2023-06-02T06:48:53.739131Z",
          "iopub.status.idle": "2023-06-02T06:49:06.369887Z",
          "shell.execute_reply.started": "2023-06-02T06:48:53.739102Z",
          "shell.execute_reply": "2023-06-02T06:49:06.368664Z"
        },
        "trusted": true
      },
      "execution_count": null,
      "outputs": [
        {
          "output_type": "stream",
          "name": "stdout",
          "text": [
            "Looking in indexes: https://pypi.org/simple, https://us-python.pkg.dev/colab-wheels/public/simple/\n",
            "Collecting datasets\n",
            "  Downloading datasets-2.12.0-py3-none-any.whl (474 kB)\n",
            "\u001b[2K     \u001b[90m━━━━━━━━━━━━━━━━━━━━━━━━━━━━━━━━━━━━━━\u001b[0m \u001b[32m474.6/474.6 kB\u001b[0m \u001b[31m18.9 MB/s\u001b[0m eta \u001b[36m0:00:00\u001b[0m\n",
            "\u001b[?25hCollecting transformers\n",
            "  Downloading transformers-4.29.2-py3-none-any.whl (7.1 MB)\n",
            "\u001b[2K     \u001b[90m━━━━━━━━━━━━━━━━━━━━━━━━━━━━━━━━━━━━━━━━\u001b[0m \u001b[32m7.1/7.1 MB\u001b[0m \u001b[31m64.3 MB/s\u001b[0m eta \u001b[36m0:00:00\u001b[0m\n",
            "\u001b[?25hCollecting rouge-score\n",
            "  Downloading rouge_score-0.1.2.tar.gz (17 kB)\n",
            "  Preparing metadata (setup.py) ... \u001b[?25l\u001b[?25hdone\n",
            "Requirement already satisfied: nltk in /usr/local/lib/python3.10/dist-packages (3.8.1)\n",
            "Requirement already satisfied: numpy>=1.17 in /usr/local/lib/python3.10/dist-packages (from datasets) (1.22.4)\n",
            "Requirement already satisfied: pyarrow>=8.0.0 in /usr/local/lib/python3.10/dist-packages (from datasets) (9.0.0)\n",
            "Collecting dill<0.3.7,>=0.3.0 (from datasets)\n",
            "  Downloading dill-0.3.6-py3-none-any.whl (110 kB)\n",
            "\u001b[2K     \u001b[90m━━━━━━━━━━━━━━━━━━━━━━━━━━━━━━━━━━━━━━━\u001b[0m \u001b[32m110.5/110.5 kB\u001b[0m \u001b[31m9.0 MB/s\u001b[0m eta \u001b[36m0:00:00\u001b[0m\n",
            "\u001b[?25hRequirement already satisfied: pandas in /usr/local/lib/python3.10/dist-packages (from datasets) (1.5.3)\n",
            "Requirement already satisfied: requests>=2.19.0 in /usr/local/lib/python3.10/dist-packages (from datasets) (2.27.1)\n",
            "Requirement already satisfied: tqdm>=4.62.1 in /usr/local/lib/python3.10/dist-packages (from datasets) (4.65.0)\n",
            "Collecting xxhash (from datasets)\n",
            "  Downloading xxhash-3.2.0-cp310-cp310-manylinux_2_17_x86_64.manylinux2014_x86_64.whl (212 kB)\n",
            "\u001b[2K     \u001b[90m━━━━━━━━━━━━━━━━━━━━━━━━━━━━━━━━━━━━━━\u001b[0m \u001b[32m212.5/212.5 kB\u001b[0m \u001b[31m26.3 MB/s\u001b[0m eta \u001b[36m0:00:00\u001b[0m\n",
            "\u001b[?25hCollecting multiprocess (from datasets)\n",
            "  Downloading multiprocess-0.70.14-py310-none-any.whl (134 kB)\n",
            "\u001b[2K     \u001b[90m━━━━━━━━━━━━━━━━━━━━━━━━━━━━━━━━━━━━━━\u001b[0m \u001b[32m134.3/134.3 kB\u001b[0m \u001b[31m17.4 MB/s\u001b[0m eta \u001b[36m0:00:00\u001b[0m\n",
            "\u001b[?25hRequirement already satisfied: fsspec[http]>=2021.11.1 in /usr/local/lib/python3.10/dist-packages (from datasets) (2023.4.0)\n",
            "Collecting aiohttp (from datasets)\n",
            "  Downloading aiohttp-3.8.4-cp310-cp310-manylinux_2_17_x86_64.manylinux2014_x86_64.whl (1.0 MB)\n",
            "\u001b[2K     \u001b[90m━━━━━━━━━━━━━━━━━━━━━━━━━━━━━━━━━━━━━━━━\u001b[0m \u001b[32m1.0/1.0 MB\u001b[0m \u001b[31m80.5 MB/s\u001b[0m eta \u001b[36m0:00:00\u001b[0m\n",
            "\u001b[?25hCollecting huggingface-hub<1.0.0,>=0.11.0 (from datasets)\n",
            "  Downloading huggingface_hub-0.15.1-py3-none-any.whl (236 kB)\n",
            "\u001b[2K     \u001b[90m━━━━━━━━━━━━━━━━━━━━━━━━━━━━━━━━━━━━━━\u001b[0m \u001b[32m236.8/236.8 kB\u001b[0m \u001b[31m34.1 MB/s\u001b[0m eta \u001b[36m0:00:00\u001b[0m\n",
            "\u001b[?25hRequirement already satisfied: packaging in /usr/local/lib/python3.10/dist-packages (from datasets) (23.1)\n",
            "Collecting responses<0.19 (from datasets)\n",
            "  Downloading responses-0.18.0-py3-none-any.whl (38 kB)\n",
            "Requirement already satisfied: pyyaml>=5.1 in /usr/local/lib/python3.10/dist-packages (from datasets) (6.0)\n",
            "Requirement already satisfied: filelock in /usr/local/lib/python3.10/dist-packages (from transformers) (3.12.0)\n",
            "Requirement already satisfied: regex!=2019.12.17 in /usr/local/lib/python3.10/dist-packages (from transformers) (2022.10.31)\n",
            "Collecting tokenizers!=0.11.3,<0.14,>=0.11.1 (from transformers)\n",
            "  Downloading tokenizers-0.13.3-cp310-cp310-manylinux_2_17_x86_64.manylinux2014_x86_64.whl (7.8 MB)\n",
            "\u001b[2K     \u001b[90m━━━━━━━━━━━━━━━━━━━━━━━━━━━━━━━━━━━━━━━━\u001b[0m \u001b[32m7.8/7.8 MB\u001b[0m \u001b[31m114.8 MB/s\u001b[0m eta \u001b[36m0:00:00\u001b[0m\n",
            "\u001b[?25hRequirement already satisfied: absl-py in /usr/local/lib/python3.10/dist-packages (from rouge-score) (1.4.0)\n",
            "Requirement already satisfied: six>=1.14.0 in /usr/local/lib/python3.10/dist-packages (from rouge-score) (1.16.0)\n",
            "Requirement already satisfied: click in /usr/local/lib/python3.10/dist-packages (from nltk) (8.1.3)\n",
            "Requirement already satisfied: joblib in /usr/local/lib/python3.10/dist-packages (from nltk) (1.2.0)\n",
            "Requirement already satisfied: attrs>=17.3.0 in /usr/local/lib/python3.10/dist-packages (from aiohttp->datasets) (23.1.0)\n",
            "Requirement already satisfied: charset-normalizer<4.0,>=2.0 in /usr/local/lib/python3.10/dist-packages (from aiohttp->datasets) (2.0.12)\n",
            "Collecting multidict<7.0,>=4.5 (from aiohttp->datasets)\n",
            "  Downloading multidict-6.0.4-cp310-cp310-manylinux_2_17_x86_64.manylinux2014_x86_64.whl (114 kB)\n",
            "\u001b[2K     \u001b[90m━━━━━━━━━━━━━━━━━━━━━━━━━━━━━━━━━━━━━━\u001b[0m \u001b[32m114.5/114.5 kB\u001b[0m \u001b[31m18.2 MB/s\u001b[0m eta \u001b[36m0:00:00\u001b[0m\n",
            "\u001b[?25hCollecting async-timeout<5.0,>=4.0.0a3 (from aiohttp->datasets)\n",
            "  Downloading async_timeout-4.0.2-py3-none-any.whl (5.8 kB)\n",
            "Collecting yarl<2.0,>=1.0 (from aiohttp->datasets)\n",
            "  Downloading yarl-1.9.2-cp310-cp310-manylinux_2_17_x86_64.manylinux2014_x86_64.whl (268 kB)\n",
            "\u001b[2K     \u001b[90m━━━━━━━━━━━━━━━━━━━━━━━━━━━━━━━━━━━━━━\u001b[0m \u001b[32m268.8/268.8 kB\u001b[0m \u001b[31m38.0 MB/s\u001b[0m eta \u001b[36m0:00:00\u001b[0m\n",
            "\u001b[?25hCollecting frozenlist>=1.1.1 (from aiohttp->datasets)\n",
            "  Downloading frozenlist-1.3.3-cp310-cp310-manylinux_2_5_x86_64.manylinux1_x86_64.manylinux_2_17_x86_64.manylinux2014_x86_64.whl (149 kB)\n",
            "\u001b[2K     \u001b[90m━━━━━━━━━━━━━━━━━━━━━━━━━━━━━━━━━━━━━━\u001b[0m \u001b[32m149.6/149.6 kB\u001b[0m \u001b[31m25.1 MB/s\u001b[0m eta \u001b[36m0:00:00\u001b[0m\n",
            "\u001b[?25hCollecting aiosignal>=1.1.2 (from aiohttp->datasets)\n",
            "  Downloading aiosignal-1.3.1-py3-none-any.whl (7.6 kB)\n",
            "Requirement already satisfied: typing-extensions>=3.7.4.3 in /usr/local/lib/python3.10/dist-packages (from huggingface-hub<1.0.0,>=0.11.0->datasets) (4.5.0)\n",
            "Requirement already satisfied: urllib3<1.27,>=1.21.1 in /usr/local/lib/python3.10/dist-packages (from requests>=2.19.0->datasets) (1.26.15)\n",
            "Requirement already satisfied: certifi>=2017.4.17 in /usr/local/lib/python3.10/dist-packages (from requests>=2.19.0->datasets) (2022.12.7)\n",
            "Requirement already satisfied: idna<4,>=2.5 in /usr/local/lib/python3.10/dist-packages (from requests>=2.19.0->datasets) (3.4)\n",
            "Requirement already satisfied: python-dateutil>=2.8.1 in /usr/local/lib/python3.10/dist-packages (from pandas->datasets) (2.8.2)\n",
            "Requirement already satisfied: pytz>=2020.1 in /usr/local/lib/python3.10/dist-packages (from pandas->datasets) (2022.7.1)\n",
            "Building wheels for collected packages: rouge-score\n",
            "  Building wheel for rouge-score (setup.py) ... \u001b[?25l\u001b[?25hdone\n",
            "  Created wheel for rouge-score: filename=rouge_score-0.1.2-py3-none-any.whl size=24934 sha256=14ad980ccfd672a4fb810d2d50996d07633a12ea34cebb73fba03d0d20e66dd2\n",
            "  Stored in directory: /root/.cache/pip/wheels/5f/dd/89/461065a73be61a532ff8599a28e9beef17985c9e9c31e541b4\n",
            "Successfully built rouge-score\n",
            "Installing collected packages: tokenizers, xxhash, multidict, frozenlist, dill, async-timeout, yarl, rouge-score, responses, multiprocess, huggingface-hub, aiosignal, transformers, aiohttp, datasets\n",
            "Successfully installed aiohttp-3.8.4 aiosignal-1.3.1 async-timeout-4.0.2 datasets-2.12.0 dill-0.3.6 frozenlist-1.3.3 huggingface-hub-0.15.1 multidict-6.0.4 multiprocess-0.70.14 responses-0.18.0 rouge-score-0.1.2 tokenizers-0.13.3 transformers-4.29.2 xxhash-3.2.0 yarl-1.9.2\n"
          ]
        }
      ]
    },
    {
      "cell_type": "code",
      "source": [
        "!kaggle"
      ],
      "metadata": {
        "colab": {
          "base_uri": "https://localhost:8080/"
        },
        "id": "3-misdLS9xub",
        "outputId": "866afd4e-69b2-4d68-a167-47d8545244a7"
      },
      "execution_count": null,
      "outputs": [
        {
          "output_type": "stream",
          "name": "stdout",
          "text": [
            "Traceback (most recent call last):\n",
            "  File \"/usr/local/bin/kaggle\", line 5, in <module>\n",
            "    from kaggle.cli import main\n",
            "  File \"/usr/local/lib/python3.10/dist-packages/kaggle/__init__.py\", line 23, in <module>\n",
            "    api.authenticate()\n",
            "  File \"/usr/local/lib/python3.10/dist-packages/kaggle/api/kaggle_api_extended.py\", line 164, in authenticate\n",
            "    raise IOError('Could not find {}. Make sure it\\'s located in'\n",
            "OSError: Could not find kaggle.json. Make sure it's located in /root/.kaggle. Or use the environment method.\n"
          ]
        }
      ]
    },
    {
      "cell_type": "code",
      "source": [
        "!cp kaggle.json ~/.kaggle/kaggle.json"
      ],
      "metadata": {
        "id": "eMx2_ikHdYLV"
      },
      "execution_count": null,
      "outputs": []
    },
    {
      "cell_type": "code",
      "source": [
        "!kaggle datasets download -d fabiochiusano/medium-articles"
      ],
      "metadata": {
        "id": "Kvn3IDwpcUH1",
        "colab": {
          "base_uri": "https://localhost:8080/"
        },
        "outputId": "9bba3136-45a6-4b87-8a77-6bbaed6593d3"
      },
      "execution_count": null,
      "outputs": [
        {
          "output_type": "stream",
          "name": "stdout",
          "text": [
            "Warning: Your Kaggle API key is readable by other users on this system! To fix this, you can run 'chmod 600 /root/.kaggle/kaggle.json'\n",
            "Downloading medium-articles.zip to /content\n",
            "100% 368M/369M [00:21<00:00, 22.4MB/s]\n",
            "100% 369M/369M [00:21<00:00, 18.1MB/s]\n"
          ]
        }
      ]
    },
    {
      "cell_type": "markdown",
      "source": [
        "## Load the dataset"
      ],
      "metadata": {
        "id": "EVH49J6Dbd7l"
      }
    },
    {
      "cell_type": "code",
      "source": [
        "import transformers\n",
        "import numpy as np\n",
        "import torch\n",
        "from datasets import load_dataset, load_metric"
      ],
      "metadata": {
        "id": "lxA4ie8ZXTUu",
        "execution": {
          "iopub.status.busy": "2023-06-02T07:17:09.311431Z",
          "iopub.execute_input": "2023-06-02T07:17:09.311854Z",
          "iopub.status.idle": "2023-06-02T07:17:09.319561Z",
          "shell.execute_reply.started": "2023-06-02T07:17:09.311821Z",
          "shell.execute_reply": "2023-06-02T07:17:09.318546Z"
        },
        "trusted": true
      },
      "execution_count": null,
      "outputs": []
    },
    {
      "cell_type": "code",
      "source": [
        "medium_datasets = load_dataset(\"csv\", data_files=\"medium-articles.zip\")\n",
        "qa_dataset = load_dataset(\"squad\")\n"
      ],
      "metadata": {
        "id": "qo9DNKuHdsl-",
        "colab": {
          "base_uri": "https://localhost:8080/",
          "height": 87,
          "referenced_widgets": [
            "58cc9d934a604238a29c6657a7c9264c",
            "f4b3100d31244a239441c240a6adf4bb",
            "f4cdbacd4c6f4b6c853fd432410410fd",
            "b6d2d787d017478c8851a07242b1ed5b",
            "e60df786ec714f4e90838fccfb249b57",
            "f62783d0c419440e88e1953337286a0b",
            "10b8389d9f604da2a6dc586d6c23814a",
            "50b2f888453a4cd4817e4035e3f1bb80",
            "5251d407cd9c428f9e09ff722d0f209c",
            "2e5dd16838c844f787670d8e6614ea9c",
            "5e1d9c2a663e46eea4a9424586d70bfd"
          ]
        },
        "outputId": "d5439307-db2c-4372-c3d1-620dda562262",
        "execution": {
          "iopub.status.busy": "2023-06-02T06:49:06.382136Z",
          "iopub.execute_input": "2023-06-02T06:49:06.382489Z",
          "iopub.status.idle": "2023-06-02T06:49:07.941407Z",
          "shell.execute_reply.started": "2023-06-02T06:49:06.382457Z",
          "shell.execute_reply": "2023-06-02T06:49:07.940536Z"
        },
        "trusted": true
      },
      "execution_count": null,
      "outputs": [
        {
          "output_type": "stream",
          "name": "stderr",
          "text": [
            "WARNING:datasets.builder:Found cached dataset csv (/root/.cache/huggingface/datasets/csv/default-1fd544a5d1afe95b/0.0.0/6954658bab30a358235fa864b05cf819af0e179325c740e4bc853bcc7ec513e1)\n"
          ]
        },
        {
          "output_type": "display_data",
          "data": {
            "text/plain": [
              "  0%|          | 0/1 [00:00<?, ?it/s]"
            ],
            "application/vnd.jupyter.widget-view+json": {
              "version_major": 2,
              "version_minor": 0,
              "model_id": "58cc9d934a604238a29c6657a7c9264c"
            }
          },
          "metadata": {}
        }
      ]
    },
    {
      "cell_type": "markdown",
      "source": [
        "## Dataset train/validation/test split"
      ],
      "metadata": {
        "id": "meFMYGPrbkwp"
      }
    },
    {
      "cell_type": "markdown",
      "source": [
        "### Text summarization dataset"
      ],
      "metadata": {
        "id": "cmLop8KjX9qY"
      }
    },
    {
      "cell_type": "code",
      "source": [
        "datasets_train_test = medium_datasets[\"train\"].train_test_split(test_size=300)\n",
        "datasets_train_validation = datasets_train_test[\"train\"].train_test_split(test_size=300)\n",
        "\n",
        "medium_datasets[\"train\"] = datasets_train_validation[\"train\"]\n",
        "medium_datasets[\"validation\"] = datasets_train_validation[\"test\"]\n",
        "medium_datasets[\"test\"] = datasets_train_test[\"test\"]\n",
        "\n",
        "medium_datasets"
      ],
      "metadata": {
        "id": "FPsvfzq-uAKc",
        "colab": {
          "base_uri": "https://localhost:8080/"
        },
        "outputId": "061048bd-03af-4b48-c55f-378a17c2d011"
      },
      "execution_count": null,
      "outputs": [
        {
          "output_type": "execute_result",
          "data": {
            "text/plain": [
              "DatasetDict({\n",
              "    train: Dataset({\n",
              "        features: ['title', 'text', 'url', 'authors', 'timestamp', 'tags'],\n",
              "        num_rows: 191768\n",
              "    })\n",
              "    validation: Dataset({\n",
              "        features: ['title', 'text', 'url', 'authors', 'timestamp', 'tags'],\n",
              "        num_rows: 300\n",
              "    })\n",
              "    test: Dataset({\n",
              "        features: ['title', 'text', 'url', 'authors', 'timestamp', 'tags'],\n",
              "        num_rows: 300\n",
              "    })\n",
              "})"
            ]
          },
          "metadata": {},
          "execution_count": 4
        }
      ]
    },
    {
      "cell_type": "code",
      "source": [
        "n_samples_train = len(medium_datasets[\"train\"])\n",
        "n_samples_validation = len(medium_datasets[\"validation\"])\n",
        "n_samples_test = len(medium_datasets[\"test\"])\n",
        "n_samples_total = n_samples_train + n_samples_validation + n_samples_test\n",
        "\n",
        "print(f\"- Training set: {n_samples_train*100/n_samples_total:.2f}%\")\n",
        "print(f\"- Validation set: {n_samples_validation*100/n_samples_total:.2f}%\")\n",
        "print(f\"- Test set: {n_samples_test*100/n_samples_total:.2f}%\")"
      ],
      "metadata": {
        "id": "4R2UP-FovZBe",
        "colab": {
          "base_uri": "https://localhost:8080/"
        },
        "outputId": "648fc4ac-94ae-420d-fe9a-d6440e08b62d"
      },
      "execution_count": null,
      "outputs": [
        {
          "output_type": "stream",
          "name": "stdout",
          "text": [
            "- Training set: 99.69%\n",
            "- Validation set: 0.16%\n",
            "- Test set: 0.16%\n"
          ]
        }
      ]
    },
    {
      "cell_type": "code",
      "source": [
        "medium_datasets[\"train\"]"
      ],
      "metadata": {
        "id": "q1uvogqGIusX",
        "colab": {
          "base_uri": "https://localhost:8080/"
        },
        "outputId": "1d735cae-9c61-4dd4-ede0-a0fde23d61db"
      },
      "execution_count": null,
      "outputs": [
        {
          "output_type": "execute_result",
          "data": {
            "text/plain": [
              "Dataset({\n",
              "    features: ['title', 'text', 'url', 'authors', 'timestamp', 'tags'],\n",
              "    num_rows: 191768\n",
              "})"
            ]
          },
          "metadata": {},
          "execution_count": 6
        }
      ]
    },
    {
      "cell_type": "code",
      "source": [
        "medium_datasets[\"train\"] = medium_datasets[\"train\"].shuffle().select(range(10000))\n",
        "medium_datasets[\"validation\"] = medium_datasets[\"validation\"].shuffle().select(range(300))\n",
        "medium_datasets[\"test\"] = medium_datasets[\"test\"].shuffle().select(range(300))\n",
        "\n",
        "medium_datasets"
      ],
      "metadata": {
        "id": "xYW2j-_l4FwR",
        "colab": {
          "base_uri": "https://localhost:8080/"
        },
        "outputId": "af9631a4-74a2-471c-cecc-cb369c96439c"
      },
      "execution_count": null,
      "outputs": [
        {
          "output_type": "execute_result",
          "data": {
            "text/plain": [
              "DatasetDict({\n",
              "    train: Dataset({\n",
              "        features: ['title', 'text', 'url', 'authors', 'timestamp', 'tags'],\n",
              "        num_rows: 10000\n",
              "    })\n",
              "    validation: Dataset({\n",
              "        features: ['title', 'text', 'url', 'authors', 'timestamp', 'tags'],\n",
              "        num_rows: 300\n",
              "    })\n",
              "    test: Dataset({\n",
              "        features: ['title', 'text', 'url', 'authors', 'timestamp', 'tags'],\n",
              "        num_rows: 300\n",
              "    })\n",
              "})"
            ]
          },
          "metadata": {},
          "execution_count": 7
        }
      ]
    },
    {
      "cell_type": "markdown",
      "source": [
        "### Question-answering dataset"
      ],
      "metadata": {
        "id": "_ueieCf6YHiJ"
      }
    },
    {
      "cell_type": "code",
      "source": [
        "datasets_train_test = qa_dataset[\"train\"].train_test_split(test_size=5070)\n",
        "qa_dataset[\"train\"] = datasets_train_test[\"train\"]\n",
        "qa_dataset[\"test\"] = datasets_train_test[\"test\"]\n",
        "\n",
        "qa_dataset"
      ],
      "metadata": {
        "id": "NhD9eshgYM7j",
        "colab": {
          "base_uri": "https://localhost:8080/"
        },
        "outputId": "e43ec5b9-2d2f-4ad7-9b02-bf0b6134457f",
        "execution": {
          "iopub.status.busy": "2023-06-02T06:49:07.944210Z",
          "iopub.execute_input": "2023-06-02T06:49:07.944875Z",
          "iopub.status.idle": "2023-06-02T06:49:08.001955Z",
          "shell.execute_reply.started": "2023-06-02T06:49:07.944839Z",
          "shell.execute_reply": "2023-06-02T06:49:08.000894Z"
        },
        "trusted": true
      },
      "execution_count": null,
      "outputs": [
        {
          "execution_count": 6,
          "output_type": "execute_result",
          "data": {
            "text/plain": "DatasetDict({\n    train: Dataset({\n        features: ['id', 'title', 'context', 'question', 'answers'],\n        num_rows: 82529\n    })\n    validation: Dataset({\n        features: ['id', 'title', 'context', 'question', 'answers'],\n        num_rows: 10570\n    })\n    test: Dataset({\n        features: ['id', 'title', 'context', 'question', 'answers'],\n        num_rows: 5070\n    })\n})"
          },
          "metadata": {}
        }
      ]
    },
    {
      "cell_type": "code",
      "source": [
        "n_samples_train = len(qa_dataset[\"train\"])\n",
        "n_samples_validation = len(qa_dataset[\"validation\"])\n",
        "n_samples_test = len(qa_dataset[\"test\"])\n",
        "n_samples_total = n_samples_train + n_samples_validation + n_samples_test\n",
        "\n",
        "print(f\"- Training set: {n_samples_train*100/n_samples_total:.2f}%\")\n",
        "print(f\"- Validation set: {n_samples_validation*100/n_samples_total:.2f}%\")\n",
        "print(f\"- Test set: {n_samples_test*100/n_samples_total:.2f}%\")"
      ],
      "metadata": {
        "colab": {
          "base_uri": "https://localhost:8080/"
        },
        "id": "0mRhTD6rUFQw",
        "outputId": "0eaa0e4e-68bc-4768-a545-65c2fecbf40b",
        "execution": {
          "iopub.status.busy": "2023-06-02T06:49:08.003408Z",
          "iopub.execute_input": "2023-06-02T06:49:08.005042Z",
          "iopub.status.idle": "2023-06-02T06:49:08.013365Z",
          "shell.execute_reply.started": "2023-06-02T06:49:08.005007Z",
          "shell.execute_reply": "2023-06-02T06:49:08.012422Z"
        },
        "trusted": true
      },
      "execution_count": null,
      "outputs": [
        {
          "name": "stdout",
          "text": "- Training set: 84.07%\n- Validation set: 10.77%\n- Test set: 5.16%\n",
          "output_type": "stream"
        }
      ]
    },
    {
      "cell_type": "code",
      "source": [
        "qa_dataset[\"train\"] = qa_dataset[\"train\"].shuffle().select(range(5300))\n",
        "qa_dataset[\"validation\"] = qa_dataset[\"validation\"].shuffle().select(range(300))\n",
        "qa_dataset[\"test\"] = qa_dataset[\"test\"].shuffle().select(range(300))\n",
        "\n",
        "qa_dataset"
      ],
      "metadata": {
        "colab": {
          "base_uri": "https://localhost:8080/"
        },
        "id": "lVPtnS6xU3aH",
        "outputId": "f78da7be-1cf4-4a20-eba0-722e59d1d01b",
        "execution": {
          "iopub.status.busy": "2023-06-02T06:49:08.014845Z",
          "iopub.execute_input": "2023-06-02T06:49:08.015275Z",
          "iopub.status.idle": "2023-06-02T06:49:08.090502Z",
          "shell.execute_reply.started": "2023-06-02T06:49:08.015233Z",
          "shell.execute_reply": "2023-06-02T06:49:08.089607Z"
        },
        "trusted": true
      },
      "execution_count": null,
      "outputs": [
        {
          "execution_count": 8,
          "output_type": "execute_result",
          "data": {
            "text/plain": "DatasetDict({\n    train: Dataset({\n        features: ['id', 'title', 'context', 'question', 'answers'],\n        num_rows: 5300\n    })\n    validation: Dataset({\n        features: ['id', 'title', 'context', 'question', 'answers'],\n        num_rows: 300\n    })\n    test: Dataset({\n        features: ['id', 'title', 'context', 'question', 'answers'],\n        num_rows: 300\n    })\n})"
          },
          "metadata": {}
        }
      ]
    },
    {
      "cell_type": "code",
      "source": [
        "qa_dataset['train'][1]"
      ],
      "metadata": {
        "colab": {
          "base_uri": "https://localhost:8080/"
        },
        "id": "SypXYQCUXNzG",
        "outputId": "e4350e47-74df-4283-f386-7ef18343dad7",
        "execution": {
          "iopub.status.busy": "2023-06-02T06:49:08.092668Z",
          "iopub.execute_input": "2023-06-02T06:49:08.093274Z",
          "iopub.status.idle": "2023-06-02T06:49:08.101351Z",
          "shell.execute_reply.started": "2023-06-02T06:49:08.093240Z",
          "shell.execute_reply": "2023-06-02T06:49:08.100279Z"
        },
        "trusted": true
      },
      "execution_count": null,
      "outputs": [
        {
          "execution_count": 9,
          "output_type": "execute_result",
          "data": {
            "text/plain": "{'id': '5709bd0d200fba14003682a0',\n 'title': 'United_States_dollar',\n 'context': 'The word \"dollar\" is one of the words in the first paragraph of Section 9 of Article 1 of the U.S. Constitution. In that context, \"dollars\" is a reference to the Spanish milled dollar, a coin that had a monetary value of 8 Spanish units of currency, or reales. In 1792 the U.S. Congress adopted legislation titled An act establishing a mint, and regulating the Coins of the United States. Section 9 of that act authorized the production of various coins, including \"DOLLARS OR UNITS—each to be of the value of a Spanish milled dollar as the same is now current, and to contain three hundred and seventy-one grains and four sixteenth parts of a grain of pure, or four hundred and sixteen grains of standard silver\". Section 20 of the act provided, \"That the money of account of the United States shall be expressed in dollars, or units... and that all accounts in the public offices and all proceedings in the courts of the United States shall be kept and had in conformity to this regulation\". In other words, this act designated the United States dollar as the unit of currency of the United States.',\n 'question': 'How many grains of standard silver were meant to be in a single dollar?',\n 'answers': {'text': ['four hundred and sixteen'], 'answer_start': [662]}}"
          },
          "metadata": {}
        }
      ]
    },
    {
      "cell_type": "markdown",
      "source": [
        "## Data preprocessing"
      ],
      "metadata": {
        "id": "NMlba5F2bqTQ"
      }
    },
    {
      "cell_type": "code",
      "source": [
        "import nltk\n",
        "nltk.download('punkt')\n",
        "import string\n",
        "from transformers import AutoTokenizer"
      ],
      "metadata": {
        "id": "4w4QyMc2wF4z",
        "colab": {
          "base_uri": "https://localhost:8080/"
        },
        "outputId": "f8f50001-57dd-46f7-de99-35f5269636c7",
        "execution": {
          "iopub.status.busy": "2023-06-02T06:49:08.103367Z",
          "iopub.execute_input": "2023-06-02T06:49:08.103729Z",
          "iopub.status.idle": "2023-06-02T06:49:08.372249Z",
          "shell.execute_reply.started": "2023-06-02T06:49:08.103672Z",
          "shell.execute_reply": "2023-06-02T06:49:08.371291Z"
        },
        "trusted": true
      },
      "execution_count": null,
      "outputs": [
        {
          "output_type": "stream",
          "name": "stderr",
          "text": [
            "[nltk_data] Downloading package punkt to /root/nltk_data...\n",
            "[nltk_data]   Package punkt is already up-to-date!\n"
          ]
        }
      ]
    },
    {
      "cell_type": "code",
      "source": [
        "model_checkpoint = \"t5-base\"\n",
        "\n",
        "tokenizer = AutoTokenizer.from_pretrained(model_checkpoint)"
      ],
      "metadata": {
        "id": "fXE4liMzxJVu",
        "colab": {
          "base_uri": "https://localhost:8080/"
        },
        "outputId": "4235a59f-dc8a-4280-d74b-22cbda63af1f",
        "execution": {
          "iopub.status.busy": "2023-06-02T06:49:08.373854Z",
          "iopub.execute_input": "2023-06-02T06:49:08.374178Z",
          "iopub.status.idle": "2023-06-02T06:49:09.335202Z",
          "shell.execute_reply.started": "2023-06-02T06:49:08.374145Z",
          "shell.execute_reply": "2023-06-02T06:49:09.334071Z"
        },
        "trusted": true
      },
      "execution_count": null,
      "outputs": [
        {
          "output_type": "stream",
          "name": "stderr",
          "text": [
            "/usr/local/lib/python3.10/dist-packages/transformers/models/t5/tokenization_t5_fast.py:155: FutureWarning: This tokenizer was incorrectly instantiated with a model max length of 512 which will be corrected in Transformers v5.\n",
            "For now, this behavior is kept to avoid breaking backwards compatibility when padding/encoding with `truncation is True`.\n",
            "- Be aware that you SHOULD NOT rely on t5-base automatically truncating your input to 512 when padding/encoding.\n",
            "- If you want to encode/pad to sequences longer than 512 you can either instantiate this tokenizer with `model_max_length` or pass `max_length` when encoding/padding.\n",
            "- To avoid this warning, please instantiate this tokenizer with `model_max_length` set to your preferred value.\n",
            "  warnings.warn(\n"
          ]
        }
      ]
    },
    {
      "cell_type": "code",
      "source": [
        "prefix = \"summarize: \"\n",
        "\n",
        "max_input_length = 800\n",
        "max_target_length = 64\n",
        "\n",
        "def clean_text(text):\n",
        "    sentences = nltk.sent_tokenize(text.strip())\n",
        "    sentences_cleaned = [s for sent in sentences for s in sent.split(\"\\n\")]\n",
        "    sentences_cleaned_no_titles = [sent for sent in sentences_cleaned\n",
        "                                     if len(sent) > 0 and\n",
        "                                     sent[-1] in string.punctuation]\n",
        "    text_cleaned = \"\\n\".join(sentences_cleaned_no_titles)\n",
        "    return text_cleaned\n",
        "\n",
        "def preprocess_summarize_data(examples):\n",
        "    texts_cleaned = [clean_text(text) for text in examples[\"text\"]]\n",
        "    inputs = [prefix + text for text in texts_cleaned]\n",
        "    model_inputs = tokenizer(inputs, max_length=max_input_length, truncation=True)\n",
        "\n",
        "    with tokenizer.as_target_tokenizer():\n",
        "        labels = tokenizer(examples[\"title\"], max_length=max_target_length, \n",
        "                           truncation=True)\n",
        "\n",
        "    model_inputs[\"labels\"] = labels[\"input_ids\"]\n",
        "    return model_inputs\n",
        "\n",
        "def encode_examples_qa(example):\n",
        "    example['input_text'] = 'question: %s  context: %s' % (example[\"question\"], example[\"context\"])\n",
        "    example['target_text'] = '%s' % example['answers']['text'][0]\n",
        "    return example\n",
        "\n",
        "def feat_converter_qa(example_batch):\n",
        "    model_inputs = tokenizer(example_batch['input_text'], max_length=max_input_length, truncation=True)\n",
        "\n",
        "    with tokenizer.as_target_tokenizer():\n",
        "        labels = tokenizer(example_batch[\"target_text\"], max_length=max_target_length, \n",
        "                       truncation=True)\n",
        "    model_inputs[\"labels\"] = labels[\"input_ids\"]\n",
        "    return model_inputs"
      ],
      "metadata": {
        "id": "AksRL_QyyYZj",
        "execution": {
          "iopub.status.busy": "2023-06-02T06:49:09.338501Z",
          "iopub.execute_input": "2023-06-02T06:49:09.338878Z",
          "iopub.status.idle": "2023-06-02T06:49:09.352277Z",
          "shell.execute_reply.started": "2023-06-02T06:49:09.338844Z",
          "shell.execute_reply": "2023-06-02T06:49:09.351134Z"
        },
        "trusted": true
      },
      "execution_count": null,
      "outputs": []
    },
    {
      "cell_type": "code",
      "source": [
        "medium_datasets_cleaned = medium_datasets.filter(lambda example: (len(example['text']) >= 500) and (len(example['title']) >= 20))\n",
        "summarize_tokenized_datasets = medium_datasets_cleaned.map(preprocess_summarize_data, batched=True)\n",
        "summarize_tokenized_datasets"
      ],
      "metadata": {
        "id": "tsEaq2Um3HcD",
        "colab": {
          "base_uri": "https://localhost:8080/",
          "height": 379,
          "referenced_widgets": [
            "b6b8ac93c8074eddb4be3937c5601d97",
            "6e98c66a921e4afd87da4c962a95587f",
            "d45ee2bb01cd45679fd83a75a85da4bc",
            "dfb90779739241ddacc33523e52b0099",
            "eb5b2a7fbb4e4475861fc1f12b63b070",
            "35071c06a55d4f4e9edfa558b620ddf7",
            "4d962bb44fc8431b8a9db91f414688c2",
            "8beb4d54eb7d4defb28241252df899b9",
            "77cd95482e02486b8649875f411e52a6",
            "a4e188410b2141eab265bc871eaf6f95",
            "e235d02ca8414c528374ff61e934b153",
            "64770a45b40a4c00bdad9d7350c278fd",
            "d865c8947ad44df985ca662cd8e43307",
            "c2a7d6ccb1dc4f4093fb98634d6f8c34",
            "1c154467855542d488040a235c763341",
            "c0be637489ea42f68c4eb4df4f9d06df",
            "af36599023084e5a8fd1612ad237efbe",
            "8b4d45aacd4e42b69e5dc6e321a6c9bd",
            "3db14513e82c4b31ab62cbf9795c94f0",
            "41cd0d0e68764779880f522f731727d2",
            "84c7b06662c740eeb699a3b36cb8f348",
            "f6e05b5c039a46958cce09f0a1c8c074",
            "5626805787df4a208d1ab7cd177f69c3",
            "e2fb3575b8a7416ab4aa5972e00969aa",
            "3218cd6d4e6a445a9e4dba45655df51b",
            "d76e0216de204b6abb7a80816c13200c",
            "6db3255362d141189cd028843796c3bd",
            "7ad5c7d5a87142eab0445a3a3ca1b4e4",
            "3070d59eea1c4f72af0f6e2556c23b03",
            "d50c69d8a72c41c19dfae6315bdde6e5",
            "39c034007de24b5fb6414d687cde2cbd",
            "364f523e68e14e98860ed812c49f653f",
            "f74bd1e43e47400196cb1532cf02bbf7",
            "ba972458842c4910b44f96b42a00a32b",
            "9cb568e3a45044029461c518400b3986",
            "02fc0faaa04b4494afc32e78695da09c",
            "2a86e20deebd44489ff381d36a1d3319",
            "face4efce1d34693956b040d6e8f1b9b",
            "0600d4a6515049ad9d9cff0649c78ef8",
            "bda6799173014472904f4bb72d55ed67",
            "0b96b9e358b946b988832825cf598b61",
            "c7f6520d59114462aa169e814c191e3a",
            "632c49a4f0de4082951fa633e42fe1ad",
            "9f33224f20504c1493a2a8d976c99b69",
            "936d7981764b42d9aa55b0e8048c4074",
            "3dd51b25917a40dc9459f9bf87a734a0",
            "f46d88414c1c452eb695d6756822a61e",
            "18bfcfbc06044997926d95c9f47fac78",
            "3242328691d04ebd82033ad6f063a18e",
            "79a215b4d65443d49bd4740a1fe3b405",
            "5143cc9c65e54b99aa0766d70dd1caeb",
            "362e107b16a241739fc1385c3ecb42ea",
            "a2238fef44ca4578a2cba312be18d369",
            "72ce08fb75cd49028d10ea692c1b6767",
            "520f77229b094d40876d0e6d5cd51cce",
            "a8b77be17c84411ba99d124c532fbb5e",
            "915b55555e1a4b219cd508be6acc5051",
            "989580c97c784bf1af508c2dbe73d3d0",
            "db77615739694b998bfa606f973850d1",
            "c85fb3457c8f47119d0b40e6481e1813",
            "cf2b7019576d4257852196a75e6a65f0",
            "6b25e6a5e89f467e84b62114f3fbe5e8",
            "96b56d68dbd54b7589eb2b8d35e7c2d9",
            "fb92a14779764be4a8d950a48cc3e690",
            "65a646f7849d4f28a3d73316bd53c6b1",
            "de6efca553e64402b2df01af8ec20616"
          ]
        },
        "outputId": "d3ec98c0-dc8e-4a99-c525-12245c9d0a68"
      },
      "execution_count": null,
      "outputs": [
        {
          "output_type": "display_data",
          "data": {
            "text/plain": [
              "Filter:   0%|          | 0/10000 [00:00<?, ? examples/s]"
            ],
            "application/vnd.jupyter.widget-view+json": {
              "version_major": 2,
              "version_minor": 0,
              "model_id": "b6b8ac93c8074eddb4be3937c5601d97"
            }
          },
          "metadata": {}
        },
        {
          "output_type": "display_data",
          "data": {
            "text/plain": [
              "Filter:   0%|          | 0/300 [00:00<?, ? examples/s]"
            ],
            "application/vnd.jupyter.widget-view+json": {
              "version_major": 2,
              "version_minor": 0,
              "model_id": "64770a45b40a4c00bdad9d7350c278fd"
            }
          },
          "metadata": {}
        },
        {
          "output_type": "display_data",
          "data": {
            "text/plain": [
              "Filter:   0%|          | 0/300 [00:00<?, ? examples/s]"
            ],
            "application/vnd.jupyter.widget-view+json": {
              "version_major": 2,
              "version_minor": 0,
              "model_id": "5626805787df4a208d1ab7cd177f69c3"
            }
          },
          "metadata": {}
        },
        {
          "output_type": "display_data",
          "data": {
            "text/plain": [
              "Map:   0%|          | 0/8553 [00:00<?, ? examples/s]"
            ],
            "application/vnd.jupyter.widget-view+json": {
              "version_major": 2,
              "version_minor": 0,
              "model_id": "ba972458842c4910b44f96b42a00a32b"
            }
          },
          "metadata": {}
        },
        {
          "output_type": "stream",
          "name": "stderr",
          "text": [
            "/usr/local/lib/python3.10/dist-packages/transformers/tokenization_utils_base.py:3606: UserWarning: `as_target_tokenizer` is deprecated and will be removed in v5 of Transformers. You can tokenize your labels by using the argument `text_target` of the regular `__call__` method (either in the same call as your input texts if you use the same keyword arguments, or in a separate call.\n",
            "  warnings.warn(\n"
          ]
        },
        {
          "output_type": "display_data",
          "data": {
            "text/plain": [
              "Map:   0%|          | 0/256 [00:00<?, ? examples/s]"
            ],
            "application/vnd.jupyter.widget-view+json": {
              "version_major": 2,
              "version_minor": 0,
              "model_id": "936d7981764b42d9aa55b0e8048c4074"
            }
          },
          "metadata": {}
        },
        {
          "output_type": "display_data",
          "data": {
            "text/plain": [
              "Map:   0%|          | 0/258 [00:00<?, ? examples/s]"
            ],
            "application/vnd.jupyter.widget-view+json": {
              "version_major": 2,
              "version_minor": 0,
              "model_id": "a8b77be17c84411ba99d124c532fbb5e"
            }
          },
          "metadata": {}
        },
        {
          "output_type": "execute_result",
          "data": {
            "text/plain": [
              "DatasetDict({\n",
              "    train: Dataset({\n",
              "        features: ['title', 'text', 'url', 'authors', 'timestamp', 'tags', 'input_ids', 'attention_mask', 'labels'],\n",
              "        num_rows: 8553\n",
              "    })\n",
              "    validation: Dataset({\n",
              "        features: ['title', 'text', 'url', 'authors', 'timestamp', 'tags', 'input_ids', 'attention_mask', 'labels'],\n",
              "        num_rows: 256\n",
              "    })\n",
              "    test: Dataset({\n",
              "        features: ['title', 'text', 'url', 'authors', 'timestamp', 'tags', 'input_ids', 'attention_mask', 'labels'],\n",
              "        num_rows: 258\n",
              "    })\n",
              "})"
            ]
          },
          "metadata": {},
          "execution_count": 11
        }
      ]
    },
    {
      "cell_type": "code",
      "source": [
        "qa_dataset_cleaned = qa_dataset.filter(lambda example: (len(example['context']) >= 400) and (len(example['title']) >= 5))\n",
        "qa_tokenized_datasets_en = qa_dataset_cleaned.map(encode_examples_qa)\n",
        "qa_tokenized_datasets = qa_tokenized_datasets_en.map(feat_converter_qa, batched=True)\n",
        "\n",
        "qa_tokenized_datasets"
      ],
      "metadata": {
        "colab": {
          "base_uri": "https://localhost:8080/",
          "height": 275,
          "referenced_widgets": [
            "cd3250c515b148c598a55efc266cbcc4",
            "906c2b1d76234286b026f9f9e7e0f306",
            "c171f52a67d24e1aae9380d91a3ed90c",
            "01cd396b419f4acdaddfff011dc12203",
            "a33caccc1deb4b7f9c59e0a65ac7fd86",
            "0503193b14144e9794fbf6027180c497",
            "d7bd2287a9f14c2a8026a09355cfbe38",
            "5c792edc148a484694e6af5fd23d5349",
            "9ad7c7eaed6b4c01a3717e34947bad8f",
            "e6a03a5f6ef44713ac3955ebcc7c9d16",
            "39c823a5a9874b9eacc137daf2b0aa14",
            "811b05d1dc0649c29d35c5c995904e77",
            "bae86780d5514dcbb0864c8075ca0682",
            "c846fb1e8d384cf98d7aa1bde1b108fd",
            "5af8d71520a44788b3374f169cd3b3a3",
            "b27b9706584d40d2b85db383fa835d98",
            "f6a4554f164c4984b161cc35349015fb",
            "3b38fa57335b40718b54885ae69fee8d",
            "2251a55fcf654c679f6464ec848bb6be",
            "6d001c64cbef4c08bd5b6fcc55834a08",
            "cf2d504cce5d438290fc6854d17458ca",
            "86f6a7a28e0044208293d63d0bfecc0e",
            "958024150a3d42549dd94b7801883c55",
            "0ee2703d105e4828b37fe612bfbe033d",
            "6b25e426d76745ea8868eee5946ef599",
            "4598c66b8a53404b837792b65e6f2e03",
            "64f787321e5048ae9d573259a891c4f8",
            "ec5602a0e73b4e1da92ef4a9a64315a7",
            "5cee4be70e6142d7b512fd9cbf34580d",
            "47e28a5f0baf4ec2b2cb79719ccb80a1",
            "963b36b9fe6e4ae8b0d1d0be90c7bdb9",
            "2e60b3d2930e41169414bc70996c8a05",
            "57d46c3f82114caa942330f92f08d5e3",
            "7b37c26e0ca14609944bea4d9a237ffc",
            "485c7b34f73b429586545aca0f708831",
            "4099dfb238df4497b50667e2f97f1e01",
            "b9c0205b7a48459989f033f3e12cf80d",
            "00bcb997a5d2423585e43a6e7f0124f5",
            "7c7371bc8a544ad9a1e164009ec11d44",
            "4077d5c7a5b44616bcf69c23cc1453a1",
            "4719c271bff84e4d8be2429f615b5b47",
            "2eb6ed3792e84e5d81bba4f0d804ee67",
            "2c70046ce800401083ebe2e008f2516e",
            "76361cc7f4ae4185b9cdcba98beb40e3",
            "fc7c688540474c86b272ff31d18f1ace",
            "dbd1c27a31dc416ba02d313f862bcb00",
            "c78fdcfe0f9b4de1b97469df262318e6",
            "5aabb7aef38c405088d9f24d4e88930b",
            "78825365876942c9813f7ec9f26f9685",
            "60d06d22e5fe4725b64be36bf8c7549e",
            "71d561948c3f497684ed4429826213e5",
            "be611d14724c4aa59123ec923724a9ca",
            "827b58e1daa347489700b5a1dae266c5",
            "579e08334e7a4925aeb7186e0ccdf62f",
            "8b0200b662e641bbb41f28cf9b22cdc7",
            "fa774e7166d344dcbe6fddf299738339",
            "00d37209916f4ba797f7bb3a39f6859c",
            "5045894288f14e3d83a5c1d9d44604f0",
            "62f6e3420be8439db8e0f90cd9e210ca",
            "acc7848f009041f987e275045af5b720",
            "2ae37b2a3a9b4dc8a1d245cfdb985bf9",
            "04a6782fb5bb4726b07973fa597b570f",
            "e9b0bb91fb5f403fbdbbd0eaa5e04b08",
            "611cbb10dc964b5284cd2ee50a618184",
            "2c9e39ff47bd4b7f903faaa18b9d33f7",
            "47dac86087da40d8b79b8bcc1cd18073",
            "6c990c12bda946bc93eb380a528b2d58",
            "8f306365eada48c4b421d73751b3bdd6",
            "c6f47967b65b4831ae3e519366b4f400",
            "bf617219d9d947beb3db0f019e208f49",
            "04462704fc7e4cbb9b21cce97524dd50",
            "624565263d0d4e43b3d1f0334c898828",
            "28255e96e6b7405d957573f10ca646a4",
            "0d5a293d8faa4fc2913fb5745487dbda",
            "8bf952cd45f744409e5ef297ae363020",
            "541e28c447ef475987dce02c4bc5793d",
            "b550a09873a14f4da220ef8e38aebdd7",
            "c0ca4fc9b18f44028a1563872790703f",
            "9e644688e1aa49b4aa447923d5c7c668",
            "c8eb6ed83dad451186b8cfc0aed8a7ac",
            "a73e67f2a82a4d9382b58d3457ae624b",
            "f97050fdcc724967b5170d7e3fd3b1b9",
            "208ea5b9f3aa44739bcd252703f99bee",
            "622315a860bf4024bf97e8da8f13da8c",
            "fc12417af2a34cb19265a5520acd955b",
            "e29504a5e4dc4cd8b79a6ec24c43bb16",
            "e011f1527cd04145a371398361fc879c",
            "248bd41f72c74d7aa70f0437a83f2063",
            "34df46aa47ef4b9a8f85b484107e1fc4",
            "613f117c1925430895e49d91e5c6e1d6",
            "8702bcb18e4a4d7fa36148436c39b49f",
            "7a7f7a0e16c7447fa91d6b6eedcf2226",
            "bcd2a56ee2164d49b5ad3308339d1dbc",
            "6d23f6f55e5a4a508e1f849ee770391a",
            "cfd98ca377914cfca7965451325a5982",
            "7a88e317b4e34bfebeeb321e98cf60ca",
            "cc468401208542759d21502f3a858536",
            "5ff6cbbd5b8b4cd8b3495484538dee18",
            "c16e88f00d4b4a8498fbebc098c5ac30",
            "efbda220f5b246fdbd8a189d1e5ca5e7",
            "a8aa9450a6384c468f5e804a7efcc18b",
            "ecc254f0eff8462aa496ddd93be0d5c1",
            "beec929b4f1243f8bab0da56ffd194f3",
            "6a1c1d44b3fd471ca1a5eaad111513f3",
            "dd0cf790b642414cbd5fade8914691e2",
            "379f4cb6ef6649288773604ef7c5c28d",
            "a85f69008f7e4043848ab947dfdf29d0",
            "a1cbd31bcb3e479fa5ea28caab06ed3a"
          ]
        },
        "id": "FEVfM5sDXBMD",
        "outputId": "d24c88eb-5f12-42b5-e043-5ee61fd917d7",
        "execution": {
          "iopub.status.busy": "2023-06-02T07:27:40.475207Z",
          "iopub.execute_input": "2023-06-02T07:27:40.475608Z",
          "iopub.status.idle": "2023-06-02T07:27:45.225068Z",
          "shell.execute_reply.started": "2023-06-02T07:27:40.475575Z",
          "shell.execute_reply": "2023-06-02T07:27:45.223882Z"
        },
        "trusted": true
      },
      "execution_count": null,
      "outputs": [
        {
          "output_type": "display_data",
          "data": {
            "text/plain": "  0%|          | 0/6 [00:00<?, ?ba/s]",
            "application/vnd.jupyter.widget-view+json": {
              "version_major": 2,
              "version_minor": 0,
              "model_id": "efbda220f5b246fdbd8a189d1e5ca5e7"
            }
          },
          "metadata": {}
        },
        {
          "output_type": "display_data",
          "data": {
            "text/plain": "  0%|          | 0/1 [00:00<?, ?ba/s]",
            "application/vnd.jupyter.widget-view+json": {
              "version_major": 2,
              "version_minor": 0,
              "model_id": "a8aa9450a6384c468f5e804a7efcc18b"
            }
          },
          "metadata": {}
        },
        {
          "output_type": "display_data",
          "data": {
            "text/plain": "  0%|          | 0/1 [00:00<?, ?ba/s]",
            "application/vnd.jupyter.widget-view+json": {
              "version_major": 2,
              "version_minor": 0,
              "model_id": "ecc254f0eff8462aa496ddd93be0d5c1"
            }
          },
          "metadata": {}
        },
        {
          "output_type": "display_data",
          "data": {
            "text/plain": "  0%|          | 0/4655 [00:00<?, ?ex/s]",
            "application/vnd.jupyter.widget-view+json": {
              "version_major": 2,
              "version_minor": 0,
              "model_id": "beec929b4f1243f8bab0da56ffd194f3"
            }
          },
          "metadata": {}
        },
        {
          "output_type": "display_data",
          "data": {
            "text/plain": "  0%|          | 0/274 [00:00<?, ?ex/s]",
            "application/vnd.jupyter.widget-view+json": {
              "version_major": 2,
              "version_minor": 0,
              "model_id": "6a1c1d44b3fd471ca1a5eaad111513f3"
            }
          },
          "metadata": {}
        },
        {
          "output_type": "display_data",
          "data": {
            "text/plain": "  0%|          | 0/262 [00:00<?, ?ex/s]",
            "application/vnd.jupyter.widget-view+json": {
              "version_major": 2,
              "version_minor": 0,
              "model_id": "dd0cf790b642414cbd5fade8914691e2"
            }
          },
          "metadata": {}
        },
        {
          "output_type": "display_data",
          "data": {
            "text/plain": "  0%|          | 0/5 [00:00<?, ?ba/s]",
            "application/vnd.jupyter.widget-view+json": {
              "version_major": 2,
              "version_minor": 0,
              "model_id": "379f4cb6ef6649288773604ef7c5c28d"
            }
          },
          "metadata": {}
        },
        {
          "output_type": "display_data",
          "data": {
            "text/plain": "  0%|          | 0/1 [00:00<?, ?ba/s]",
            "application/vnd.jupyter.widget-view+json": {
              "version_major": 2,
              "version_minor": 0,
              "model_id": "a85f69008f7e4043848ab947dfdf29d0"
            }
          },
          "metadata": {}
        },
        {
          "output_type": "display_data",
          "data": {
            "text/plain": "  0%|          | 0/1 [00:00<?, ?ba/s]",
            "application/vnd.jupyter.widget-view+json": {
              "version_major": 2,
              "version_minor": 0,
              "model_id": "a1cbd31bcb3e479fa5ea28caab06ed3a"
            }
          },
          "metadata": {}
        },
        {
          "execution_count": 50,
          "output_type": "execute_result",
          "data": {
            "text/plain": "DatasetDict({\n    train: Dataset({\n        features: ['id', 'title', 'context', 'question', 'answers', 'input_text', 'target_text', 'input_ids', 'attention_mask', 'labels'],\n        num_rows: 4655\n    })\n    validation: Dataset({\n        features: ['id', 'title', 'context', 'question', 'answers', 'input_text', 'target_text', 'input_ids', 'attention_mask', 'labels'],\n        num_rows: 274\n    })\n    test: Dataset({\n        features: ['id', 'title', 'context', 'question', 'answers', 'input_text', 'target_text', 'input_ids', 'attention_mask', 'labels'],\n        num_rows: 262\n    })\n})"
          },
          "metadata": {}
        }
      ]
    },
    {
      "cell_type": "code",
      "source": [
        "qa_tokenized_datasets['validation'][0]['input_text'], qa_tokenized_datasets['validation'][0]['labels'], qa_tokenized_datasets['validation'][0]['target_text'] "
      ],
      "metadata": {
        "colab": {
          "base_uri": "https://localhost:8080/"
        },
        "id": "EDXcytNrWv-D",
        "outputId": "05424639-f6df-4ad1-fac7-b2a973581784",
        "execution": {
          "iopub.status.busy": "2023-06-02T06:49:14.100163Z",
          "iopub.execute_input": "2023-06-02T06:49:14.100888Z",
          "iopub.status.idle": "2023-06-02T06:49:14.110017Z",
          "shell.execute_reply.started": "2023-06-02T06:49:14.100853Z",
          "shell.execute_reply": "2023-06-02T06:49:14.108979Z"
        },
        "trusted": true
      },
      "execution_count": null,
      "outputs": [
        {
          "execution_count": 14,
          "output_type": "execute_result",
          "data": {
            "text/plain": "(\"question: Who defeated the rebels at the Battle of Frankenhausen?  context: Without Luther's backing for the uprising, many rebels laid down their weapons; others felt betrayed. Their defeat by the Swabian League at the Battle of Frankenhausen on 15 May 1525, followed by Müntzer's execution, brought the revolutionary stage of the Reformation to a close. Thereafter, radicalism found a refuge in the anabaptist movement and other religious movements, while Luther's Reformation flourished under the wing of the secular powers.\",\n [17085, 12032, 3815, 1],\n 'Swabian League')"
          },
          "metadata": {}
        }
      ]
    },
    {
      "cell_type": "markdown",
      "source": [
        "## Fine-tune T5"
      ],
      "metadata": {
        "id": "8Xc_wx8WbtJ4"
      }
    },
    {
      "cell_type": "code",
      "source": [
        "!pip uninstall -y transformers accelerate\n",
        "!pip install transformers accelerate"
      ],
      "metadata": {
        "colab": {
          "base_uri": "https://localhost:8080/",
          "height": 792
        },
        "id": "g1UB4pqwKoXL",
        "outputId": "98ef2745-ba9c-4fb8-9fff-fdb53c53fe99",
        "trusted": true
      },
      "execution_count": null,
      "outputs": [
        {
          "output_type": "stream",
          "name": "stdout",
          "text": [
            "Found existing installation: transformers 4.29.2\n",
            "Uninstalling transformers-4.29.2:\n",
            "  Successfully uninstalled transformers-4.29.2\n",
            "\u001b[33mWARNING: Skipping accelerate as it is not installed.\u001b[0m\u001b[33m\n",
            "\u001b[0mLooking in indexes: https://pypi.org/simple, https://us-python.pkg.dev/colab-wheels/public/simple/\n",
            "Collecting transformers\n",
            "  Using cached transformers-4.29.2-py3-none-any.whl (7.1 MB)\n",
            "Collecting accelerate\n",
            "  Downloading accelerate-0.19.0-py3-none-any.whl (219 kB)\n",
            "\u001b[2K     \u001b[90m━━━━━━━━━━━━━━━━━━━━━━━━━━━━━━━━━━━━━━\u001b[0m \u001b[32m219.1/219.1 kB\u001b[0m \u001b[31m22.7 MB/s\u001b[0m eta \u001b[36m0:00:00\u001b[0m\n",
            "\u001b[?25hRequirement already satisfied: filelock in /usr/local/lib/python3.10/dist-packages (from transformers) (3.12.0)\n",
            "Requirement already satisfied: huggingface-hub<1.0,>=0.14.1 in /usr/local/lib/python3.10/dist-packages (from transformers) (0.15.1)\n",
            "Requirement already satisfied: numpy>=1.17 in /usr/local/lib/python3.10/dist-packages (from transformers) (1.22.4)\n",
            "Requirement already satisfied: packaging>=20.0 in /usr/local/lib/python3.10/dist-packages (from transformers) (23.1)\n",
            "Requirement already satisfied: pyyaml>=5.1 in /usr/local/lib/python3.10/dist-packages (from transformers) (6.0)\n",
            "Requirement already satisfied: regex!=2019.12.17 in /usr/local/lib/python3.10/dist-packages (from transformers) (2022.10.31)\n",
            "Requirement already satisfied: requests in /usr/local/lib/python3.10/dist-packages (from transformers) (2.27.1)\n",
            "Requirement already satisfied: tokenizers!=0.11.3,<0.14,>=0.11.1 in /usr/local/lib/python3.10/dist-packages (from transformers) (0.13.3)\n",
            "Requirement already satisfied: tqdm>=4.27 in /usr/local/lib/python3.10/dist-packages (from transformers) (4.65.0)\n",
            "Requirement already satisfied: psutil in /usr/local/lib/python3.10/dist-packages (from accelerate) (5.9.5)\n",
            "Requirement already satisfied: torch>=1.6.0 in /usr/local/lib/python3.10/dist-packages (from accelerate) (2.0.1+cu118)\n",
            "Requirement already satisfied: fsspec in /usr/local/lib/python3.10/dist-packages (from huggingface-hub<1.0,>=0.14.1->transformers) (2023.4.0)\n",
            "Requirement already satisfied: typing-extensions>=3.7.4.3 in /usr/local/lib/python3.10/dist-packages (from huggingface-hub<1.0,>=0.14.1->transformers) (4.5.0)\n",
            "Requirement already satisfied: sympy in /usr/local/lib/python3.10/dist-packages (from torch>=1.6.0->accelerate) (1.11.1)\n",
            "Requirement already satisfied: networkx in /usr/local/lib/python3.10/dist-packages (from torch>=1.6.0->accelerate) (3.1)\n",
            "Requirement already satisfied: jinja2 in /usr/local/lib/python3.10/dist-packages (from torch>=1.6.0->accelerate) (3.1.2)\n",
            "Requirement already satisfied: triton==2.0.0 in /usr/local/lib/python3.10/dist-packages (from torch>=1.6.0->accelerate) (2.0.0)\n",
            "Requirement already satisfied: cmake in /usr/local/lib/python3.10/dist-packages (from triton==2.0.0->torch>=1.6.0->accelerate) (3.25.2)\n",
            "Requirement already satisfied: lit in /usr/local/lib/python3.10/dist-packages (from triton==2.0.0->torch>=1.6.0->accelerate) (16.0.5)\n",
            "Requirement already satisfied: urllib3<1.27,>=1.21.1 in /usr/local/lib/python3.10/dist-packages (from requests->transformers) (1.26.15)\n",
            "Requirement already satisfied: certifi>=2017.4.17 in /usr/local/lib/python3.10/dist-packages (from requests->transformers) (2022.12.7)\n",
            "Requirement already satisfied: charset-normalizer~=2.0.0 in /usr/local/lib/python3.10/dist-packages (from requests->transformers) (2.0.12)\n",
            "Requirement already satisfied: idna<4,>=2.5 in /usr/local/lib/python3.10/dist-packages (from requests->transformers) (3.4)\n",
            "Requirement already satisfied: MarkupSafe>=2.0 in /usr/local/lib/python3.10/dist-packages (from jinja2->torch>=1.6.0->accelerate) (2.1.2)\n",
            "Requirement already satisfied: mpmath>=0.19 in /usr/local/lib/python3.10/dist-packages (from sympy->torch>=1.6.0->accelerate) (1.3.0)\n",
            "Installing collected packages: transformers, accelerate\n",
            "Successfully installed accelerate-0.19.0 transformers-4.29.2\n"
          ]
        },
        {
          "output_type": "display_data",
          "data": {
            "application/vnd.colab-display-data+json": {
              "pip_warning": {
                "packages": [
                  "transformers"
                ]
              }
            }
          },
          "metadata": {}
        }
      ]
    },
    {
      "cell_type": "code",
      "source": [
        "from transformers import AutoModelForSeq2SeqLM, DataCollatorForSeq2Seq, Seq2SeqTrainingArguments, Seq2SeqTrainer"
      ],
      "metadata": {
        "id": "m0SW4HFx4wzG",
        "execution": {
          "iopub.status.busy": "2023-06-02T06:48:43.212149Z",
          "iopub.execute_input": "2023-06-02T06:48:43.212521Z",
          "iopub.status.idle": "2023-06-02T06:48:49.228136Z",
          "shell.execute_reply.started": "2023-06-02T06:48:43.212490Z",
          "shell.execute_reply": "2023-06-02T06:48:49.227085Z"
        },
        "trusted": true
      },
      "execution_count": null,
      "outputs": []
    },
    {
      "cell_type": "code",
      "source": [
        "def get_args(model, monitoring_metric):\n",
        "    model_dir = f\"drive/MyDrive/Models/{model}\"\n",
        "    args = Seq2SeqTrainingArguments(\n",
        "        model_dir,\n",
        "        evaluation_strategy=\"steps\",\n",
        "        eval_steps=50,\n",
        "        logging_strategy=\"steps\",\n",
        "        logging_steps=50,\n",
        "        save_strategy=\"steps\",\n",
        "        save_steps=200,\n",
        "        learning_rate=4e-5,\n",
        "        per_device_train_batch_size=8,\n",
        "        per_device_eval_batch_size=8,\n",
        "        weight_decay=0.01,\n",
        "        save_total_limit=3,\n",
        "        num_train_epochs=1,\n",
        "        predict_with_generate=True,\n",
        "        fp16=True,\n",
        "        load_best_model_at_end=True,\n",
        "        metric_for_best_model=monitoring_metric,\n",
        "        report_to=\"tensorboard\"\n",
        "    )\n",
        "    return args"
      ],
      "metadata": {
        "id": "HjLfz7b6cVHJ",
        "execution": {
          "iopub.status.busy": "2023-06-02T09:11:26.242585Z",
          "iopub.execute_input": "2023-06-02T09:11:26.242991Z",
          "iopub.status.idle": "2023-06-02T09:11:26.250332Z",
          "shell.execute_reply.started": "2023-06-02T09:11:26.242957Z",
          "shell.execute_reply": "2023-06-02T09:11:26.249403Z"
        },
        "trusted": true
      },
      "execution_count": null,
      "outputs": []
    },
    {
      "cell_type": "code",
      "source": [
        "data_collator = DataCollatorForSeq2Seq(tokenizer)"
      ],
      "metadata": {
        "id": "joWGLoZ8dOIS",
        "execution": {
          "iopub.status.busy": "2023-06-02T06:49:26.903150Z",
          "iopub.execute_input": "2023-06-02T06:49:26.903546Z",
          "iopub.status.idle": "2023-06-02T06:49:26.908852Z",
          "shell.execute_reply.started": "2023-06-02T06:49:26.903516Z",
          "shell.execute_reply": "2023-06-02T06:49:26.907783Z"
        },
        "trusted": true
      },
      "execution_count": null,
      "outputs": []
    },
    {
      "cell_type": "code",
      "source": [
        "import numpy as np\n",
        "import nltk\n",
        "import string\n",
        "import re\n",
        "from collections import Counter\n",
        "\n",
        "metric_sum = load_metric(\"rouge\")\n",
        "\n",
        "def compute_metrics_sum(eval_pred):\n",
        "    predictions, labels = eval_pred\n",
        "    decoded_preds = tokenizer.batch_decode(predictions, skip_special_tokens=True)\n",
        "    \n",
        "    labels = np.where(labels != -100, labels, tokenizer.pad_token_id)\n",
        "    decoded_labels = tokenizer.batch_decode(labels, skip_special_tokens=True)\n",
        "\n",
        "\n",
        "    decoded_preds = [\"\\n\".join(nltk.sent_tokenize(pred.strip()))\n",
        "                      for pred in decoded_preds]\n",
        "    decoded_labels = [\"\\n\".join(nltk.sent_tokenize(label.strip())) \n",
        "                      for label in decoded_labels]\n",
        "    \n",
        "    result = metric_sum.compute(predictions=decoded_preds, references=decoded_labels,\n",
        "                            use_stemmer=True)\n",
        "\n",
        "    result = {key: value.mid.fmeasure * 100 for key, value in result.items()}\n",
        "\n",
        "    prediction_lens = [np.count_nonzero(pred != tokenizer.pad_token_id)\n",
        "                      for pred in predictions]\n",
        "    result[\"gen_len\"] = np.mean(prediction_lens)\n",
        "\n",
        "    return {k: round(v, 4) for k, v in result.items()}\n",
        "\n",
        "def normalize_answer(s):\n",
        "    def remove_articles(text):\n",
        "        return re.sub(r'\\b(a|an|the)\\b', ' ', text)\n",
        "    def white_space_fix(text):\n",
        "        return ' '.join(text.split())\n",
        "    def remove_punc(text):\n",
        "        exclude = set(string.punctuation)\n",
        "        return ''.join(ch for ch in text if ch not in exclude)\n",
        "    def lower(text):\n",
        "        return text.lower()\n",
        "    return white_space_fix(remove_articles(remove_punc(lower(s))))\n",
        "\n",
        "\n",
        "def f1_score(prediction, ground_truth):\n",
        "    prediction_tokens = normalize_answer(prediction).split()\n",
        "    ground_truth_tokens = normalize_answer(ground_truth).split()\n",
        "\n",
        "    common = Counter(prediction_tokens) & Counter(ground_truth_tokens)\n",
        "    num_same = sum(common.values())\n",
        "    if num_same == 0:\n",
        "        return 0\n",
        "    precision = 1.0 * num_same / len(prediction_tokens)\n",
        "    recall = 1.0 * num_same / len(ground_truth_tokens)\n",
        "    f1 = (2 * precision * recall) / (precision + recall)\n",
        "    return f1\n",
        "\n",
        "\n",
        "def exact_match_score(prediction, ground_truth):\n",
        "    return (normalize_answer(prediction) == normalize_answer(ground_truth))\n",
        "\n",
        "def evaluate(gold_answers, predictions):\n",
        "    f1 = exact_match = total = 0\n",
        "\n",
        "    for ground_truth, prediction in zip(gold_answers, predictions):\n",
        "        total += 1\n",
        "        exact_match += exact_match_score(prediction, ground_truth)\n",
        "        f1 += f1_score(prediction, ground_truth)\n",
        "    \n",
        "    exact_match = 100.0 * exact_match / total\n",
        "    f1 = 100.0 * f1 / total\n",
        "\n",
        "    return {'exact_match': exact_match, 'f1': f1}\n",
        "\n",
        "def compute_metrics_qa(eval_pred):\n",
        "    predictions, labels = eval_pred\n",
        "    decoded_preds = tokenizer.batch_decode(predictions, skip_special_tokens=True)\n",
        "    \n",
        "    labels = np.where(labels != -100, labels, tokenizer.pad_token_id)\n",
        "    decoded_labels = tokenizer.batch_decode(labels, skip_special_tokens=True)\n",
        "    \n",
        "    return evaluate(decoded_labels, decoded_preds)"
      ],
      "metadata": {
        "id": "qYq_4DWjdXYa",
        "execution": {
          "iopub.status.busy": "2023-06-02T06:49:29.143137Z",
          "iopub.execute_input": "2023-06-02T06:49:29.143487Z",
          "iopub.status.idle": "2023-06-02T06:49:30.438195Z",
          "shell.execute_reply.started": "2023-06-02T06:49:29.143460Z",
          "shell.execute_reply": "2023-06-02T06:49:30.437246Z"
        },
        "trusted": true,
        "colab": {
          "base_uri": "https://localhost:8080/"
        },
        "outputId": "51d4de43-ff7e-4335-dbdf-19da9917d4af"
      },
      "execution_count": null,
      "outputs": [
        {
          "output_type": "stream",
          "name": "stderr",
          "text": [
            "<ipython-input-15-e2dc92b4773d>:7: FutureWarning: load_metric is deprecated and will be removed in the next major version of datasets. Use 'evaluate.load' instead, from the new library 🤗 Evaluate: https://huggingface.co/docs/evaluate\n",
            "  metric_sum = load_metric(\"rouge\")\n"
          ]
        }
      ]
    },
    {
      "cell_type": "markdown",
      "source": [
        "### **Text summarization task**"
      ],
      "metadata": {
        "id": "ZsJt1-UD4Oc6"
      }
    },
    {
      "cell_type": "code",
      "source": [
        "def model_init():\n",
        "    model = AutoModelForSeq2SeqLM.from_pretrained(model_checkpoint)\n",
        "    return model\n",
        "\n",
        "model_name = \"t5-base-medium-title-generation\"\n",
        "args = get_args(model_name, 'rouge1')\n",
        "trainer = Seq2SeqTrainer(\n",
        "    model_init=model_init,\n",
        "    args=args,\n",
        "    train_dataset=summarize_tokenized_datasets[\"train\"],\n",
        "    eval_dataset=summarize_tokenized_datasets[\"validation\"],\n",
        "    data_collator=data_collator,\n",
        "    tokenizer=tokenizer,\n",
        "    compute_metrics=compute_metrics_sum\n",
        ")"
      ],
      "metadata": {
        "id": "ODp1f0ZkdadY",
        "execution": {
          "iopub.status.busy": "2023-06-02T09:11:32.508905Z",
          "iopub.execute_input": "2023-06-02T09:11:32.509271Z",
          "iopub.status.idle": "2023-06-02T09:11:32.567823Z",
          "shell.execute_reply.started": "2023-06-02T09:11:32.509241Z",
          "shell.execute_reply": "2023-06-02T09:11:32.566278Z"
        },
        "trusted": true
      },
      "execution_count": null,
      "outputs": []
    },
    {
      "cell_type": "code",
      "source": [
        "trainer.train()"
      ],
      "metadata": {
        "id": "XOeZoPmudwiv",
        "colab": {
          "base_uri": "https://localhost:8080/",
          "height": 861
        },
        "outputId": "e9f27f3f-6501-4038-cdd6-b0ff38b1e802"
      },
      "execution_count": null,
      "outputs": [
        {
          "output_type": "stream",
          "name": "stderr",
          "text": [
            "/usr/local/lib/python3.10/dist-packages/transformers/optimization.py:407: FutureWarning: This implementation of AdamW is deprecated and will be removed in a future version. Use the PyTorch implementation torch.optim.AdamW instead, or set `no_deprecation_warning=True` to disable this warning\n",
            "  warnings.warn(\n",
            "You're using a T5TokenizerFast tokenizer. Please note that with a fast tokenizer, using the `__call__` method is faster than using a method to encode the text followed by a call to the `pad` method to get a padded encoding.\n"
          ]
        },
        {
          "output_type": "display_data",
          "data": {
            "text/plain": [
              "<IPython.core.display.HTML object>"
            ],
            "text/html": [
              "\n",
              "    <div>\n",
              "      \n",
              "      <progress value='1070' max='1070' style='width:300px; height:20px; vertical-align: middle;'></progress>\n",
              "      [1070/1070 32:14, Epoch 1/1]\n",
              "    </div>\n",
              "    <table border=\"1\" class=\"dataframe\">\n",
              "  <thead>\n",
              " <tr style=\"text-align: left;\">\n",
              "      <th>Step</th>\n",
              "      <th>Training Loss</th>\n",
              "      <th>Validation Loss</th>\n",
              "      <th>Rouge1</th>\n",
              "      <th>Rouge2</th>\n",
              "      <th>Rougel</th>\n",
              "      <th>Rougelsum</th>\n",
              "      <th>Gen Len</th>\n",
              "    </tr>\n",
              "  </thead>\n",
              "  <tbody>\n",
              "    <tr>\n",
              "      <td>50</td>\n",
              "      <td>3.340300</td>\n",
              "      <td>2.614455</td>\n",
              "      <td>25.167500</td>\n",
              "      <td>12.469800</td>\n",
              "      <td>22.967000</td>\n",
              "      <td>22.999900</td>\n",
              "      <td>15.046900</td>\n",
              "    </tr>\n",
              "    <tr>\n",
              "      <td>100</td>\n",
              "      <td>2.746400</td>\n",
              "      <td>2.494493</td>\n",
              "      <td>29.052000</td>\n",
              "      <td>14.839900</td>\n",
              "      <td>26.582500</td>\n",
              "      <td>26.612300</td>\n",
              "      <td>12.613300</td>\n",
              "    </tr>\n",
              "    <tr>\n",
              "      <td>150</td>\n",
              "      <td>2.799700</td>\n",
              "      <td>2.446431</td>\n",
              "      <td>30.121800</td>\n",
              "      <td>15.823200</td>\n",
              "      <td>28.058100</td>\n",
              "      <td>28.157000</td>\n",
              "      <td>12.097700</td>\n",
              "    </tr>\n",
              "    <tr>\n",
              "      <td>200</td>\n",
              "      <td>2.592500</td>\n",
              "      <td>2.437168</td>\n",
              "      <td>30.904000</td>\n",
              "      <td>16.630600</td>\n",
              "      <td>28.746600</td>\n",
              "      <td>28.862700</td>\n",
              "      <td>11.293000</td>\n",
              "    </tr>\n",
              "    <tr>\n",
              "      <td>250</td>\n",
              "      <td>2.766900</td>\n",
              "      <td>2.408926</td>\n",
              "      <td>29.803800</td>\n",
              "      <td>15.825400</td>\n",
              "      <td>27.482200</td>\n",
              "      <td>27.649200</td>\n",
              "      <td>11.988300</td>\n",
              "    </tr>\n",
              "    <tr>\n",
              "      <td>300</td>\n",
              "      <td>2.650900</td>\n",
              "      <td>2.397045</td>\n",
              "      <td>31.384800</td>\n",
              "      <td>16.262100</td>\n",
              "      <td>29.135900</td>\n",
              "      <td>29.230800</td>\n",
              "      <td>11.269500</td>\n",
              "    </tr>\n",
              "    <tr>\n",
              "      <td>350</td>\n",
              "      <td>2.433300</td>\n",
              "      <td>2.397474</td>\n",
              "      <td>31.208500</td>\n",
              "      <td>16.650900</td>\n",
              "      <td>28.821200</td>\n",
              "      <td>29.079000</td>\n",
              "      <td>12.078100</td>\n",
              "    </tr>\n",
              "    <tr>\n",
              "      <td>400</td>\n",
              "      <td>2.603400</td>\n",
              "      <td>2.397527</td>\n",
              "      <td>31.709500</td>\n",
              "      <td>16.603800</td>\n",
              "      <td>29.278700</td>\n",
              "      <td>29.464100</td>\n",
              "      <td>11.710900</td>\n",
              "    </tr>\n",
              "    <tr>\n",
              "      <td>450</td>\n",
              "      <td>2.635600</td>\n",
              "      <td>2.384417</td>\n",
              "      <td>30.822000</td>\n",
              "      <td>16.198300</td>\n",
              "      <td>28.746700</td>\n",
              "      <td>28.912500</td>\n",
              "      <td>11.988300</td>\n",
              "    </tr>\n",
              "    <tr>\n",
              "      <td>500</td>\n",
              "      <td>2.657700</td>\n",
              "      <td>2.376637</td>\n",
              "      <td>31.683900</td>\n",
              "      <td>16.512800</td>\n",
              "      <td>29.733800</td>\n",
              "      <td>29.868800</td>\n",
              "      <td>11.433600</td>\n",
              "    </tr>\n",
              "    <tr>\n",
              "      <td>550</td>\n",
              "      <td>2.685000</td>\n",
              "      <td>2.372484</td>\n",
              "      <td>31.299000</td>\n",
              "      <td>16.454900</td>\n",
              "      <td>29.646400</td>\n",
              "      <td>29.808900</td>\n",
              "      <td>11.277300</td>\n",
              "    </tr>\n",
              "    <tr>\n",
              "      <td>600</td>\n",
              "      <td>2.536400</td>\n",
              "      <td>2.371745</td>\n",
              "      <td>31.452000</td>\n",
              "      <td>16.194700</td>\n",
              "      <td>29.540800</td>\n",
              "      <td>29.648500</td>\n",
              "      <td>11.429700</td>\n",
              "    </tr>\n",
              "    <tr>\n",
              "      <td>650</td>\n",
              "      <td>2.609400</td>\n",
              "      <td>2.369704</td>\n",
              "      <td>32.160300</td>\n",
              "      <td>16.089800</td>\n",
              "      <td>29.934200</td>\n",
              "      <td>30.030500</td>\n",
              "      <td>11.660200</td>\n",
              "    </tr>\n",
              "    <tr>\n",
              "      <td>700</td>\n",
              "      <td>2.653000</td>\n",
              "      <td>2.367228</td>\n",
              "      <td>31.932800</td>\n",
              "      <td>16.607900</td>\n",
              "      <td>30.041500</td>\n",
              "      <td>30.169000</td>\n",
              "      <td>11.933600</td>\n",
              "    </tr>\n",
              "    <tr>\n",
              "      <td>750</td>\n",
              "      <td>2.761500</td>\n",
              "      <td>2.359710</td>\n",
              "      <td>32.175200</td>\n",
              "      <td>16.623400</td>\n",
              "      <td>30.162800</td>\n",
              "      <td>30.274300</td>\n",
              "      <td>11.519500</td>\n",
              "    </tr>\n",
              "    <tr>\n",
              "      <td>800</td>\n",
              "      <td>2.566600</td>\n",
              "      <td>2.359250</td>\n",
              "      <td>32.852100</td>\n",
              "      <td>16.869400</td>\n",
              "      <td>30.633200</td>\n",
              "      <td>30.795000</td>\n",
              "      <td>11.679700</td>\n",
              "    </tr>\n",
              "    <tr>\n",
              "      <td>850</td>\n",
              "      <td>2.645700</td>\n",
              "      <td>2.354802</td>\n",
              "      <td>32.267200</td>\n",
              "      <td>16.538600</td>\n",
              "      <td>30.111000</td>\n",
              "      <td>30.207800</td>\n",
              "      <td>11.699200</td>\n",
              "    </tr>\n",
              "    <tr>\n",
              "      <td>900</td>\n",
              "      <td>2.649600</td>\n",
              "      <td>2.352839</td>\n",
              "      <td>32.140200</td>\n",
              "      <td>16.522700</td>\n",
              "      <td>30.052700</td>\n",
              "      <td>30.138300</td>\n",
              "      <td>11.812500</td>\n",
              "    </tr>\n",
              "    <tr>\n",
              "      <td>950</td>\n",
              "      <td>2.595400</td>\n",
              "      <td>2.353215</td>\n",
              "      <td>32.230800</td>\n",
              "      <td>16.539200</td>\n",
              "      <td>30.091200</td>\n",
              "      <td>30.165600</td>\n",
              "      <td>11.773400</td>\n",
              "    </tr>\n",
              "    <tr>\n",
              "      <td>1000</td>\n",
              "      <td>2.528000</td>\n",
              "      <td>2.353395</td>\n",
              "      <td>32.116100</td>\n",
              "      <td>16.673800</td>\n",
              "      <td>30.018100</td>\n",
              "      <td>30.068300</td>\n",
              "      <td>11.621100</td>\n",
              "    </tr>\n",
              "    <tr>\n",
              "      <td>1050</td>\n",
              "      <td>2.486300</td>\n",
              "      <td>2.352520</td>\n",
              "      <td>32.225600</td>\n",
              "      <td>16.667500</td>\n",
              "      <td>30.057200</td>\n",
              "      <td>30.132500</td>\n",
              "      <td>11.679700</td>\n",
              "    </tr>\n",
              "  </tbody>\n",
              "</table><p>"
            ]
          },
          "metadata": {}
        },
        {
          "output_type": "execute_result",
          "data": {
            "text/plain": [
              "TrainOutput(global_step=1070, training_loss=2.6624976969210903, metrics={'train_runtime': 1935.6157, 'train_samples_per_second': 4.419, 'train_steps_per_second': 0.553, 'total_flos': 8135868906593280.0, 'train_loss': 2.6624976969210903, 'epoch': 1.0})"
            ]
          },
          "metadata": {},
          "execution_count": 17
        }
      ]
    },
    {
      "cell_type": "code",
      "source": [
        "history = pd.DataFrame(transformers.modelcard.parse_log_history(trainer.state.log_history)[1])\n",
        "\n",
        "def plot_history(history):\n",
        "    fig, axes = plt.subplots(3, 2, figsize=(12, 8))\n",
        "\n",
        "    axes[0, 0].plot(history['Step'], history['Training Loss'], label='Training Loss')\n",
        "    axes[0, 0].plot(history['Step'], history['Validation Loss'], label='Validation Loss')\n",
        "    axes[0, 0].set_xlabel('Step')\n",
        "    axes[0, 0].set_ylabel('Loss')\n",
        "    axes[0, 0].set_title('Training and Validation Loss')\n",
        "    axes[0, 0].legend()\n",
        "\n",
        "    metrics = ['Gen Len', 'Rouge1', 'Rouge2', 'Rougel', 'Rougelsum']\n",
        "\n",
        "    for i, metric in enumerate(metrics, start=1):\n",
        "        ax = axes[i // 2, i % 2]\n",
        "        ax.plot(history['Step'], history[metric])\n",
        "        ax.set_xlabel('Step')\n",
        "        ax.set_ylabel(metric)\n",
        "        ax.set_title(metric)\n",
        "\n",
        "    plt.tight_layout()\n",
        "    plt.show()\n",
        "\n",
        "plot_history(history)"
      ],
      "metadata": {
        "colab": {
          "base_uri": "https://localhost:8080/",
          "height": 642
        },
        "id": "Oizyc7TgH6Gx",
        "outputId": "72280f9b-6abc-45c3-cfe8-469a4ffb85f7"
      },
      "execution_count": null,
      "outputs": [
        {
          "output_type": "display_data",
          "data": {
            "text/plain": [
              "<Figure size 1200x800 with 6 Axes>"
            ],
            "image/png": "[encoded data removed]"
          },
          "metadata": {}
        }
      ]
    },
    {
      "cell_type": "code",
      "source": [
        "history.columns"
      ],
      "metadata": {
        "colab": {
          "base_uri": "https://localhost:8080/"
        },
        "id": "3mnNvv5hREs8",
        "outputId": "9a358ad5-4dd1-4374-d869-055943b371ad"
      },
      "execution_count": null,
      "outputs": [
        {
          "output_type": "execute_result",
          "data": {
            "text/plain": [
              "Index(['Training Loss', 'Epoch', 'Step', 'Validation Loss', 'Rouge1', 'Rouge2',\n",
              "       'Rougel', 'Rougelsum', 'Gen Len'],\n",
              "      dtype='object')"
            ]
          },
          "metadata": {},
          "execution_count": 19
        }
      ]
    },
    {
      "cell_type": "code",
      "source": [
        "trainer.save_model()"
      ],
      "metadata": {
        "id": "_4PIcpIeoDW7"
      },
      "execution_count": null,
      "outputs": []
    },
    {
      "cell_type": "markdown",
      "source": [
        "### **QA task**"
      ],
      "metadata": {
        "id": "9SPMyZM2eiki"
      }
    },
    {
      "cell_type": "code",
      "source": [
        "def model_init():\n",
        "    model = AutoModelForSeq2SeqLM.from_pretrained(model_checkpoint)\n",
        "    return model\n",
        "\n",
        "model_name = \"t5-base-qa-task\"\n",
        "args = get_args(model_name, 'f1')\n",
        "trainer = Seq2SeqTrainer(\n",
        "    model_init=model_init,\n",
        "    args=args,\n",
        "    train_dataset=qa_tokenized_datasets[\"train\"],\n",
        "    eval_dataset=qa_tokenized_datasets[\"validation\"],\n",
        "    data_collator=data_collator,\n",
        "    tokenizer=tokenizer,\n",
        "    compute_metrics=compute_metrics_qa\n",
        ")"
      ],
      "metadata": {
        "id": "kWlOja67ehke",
        "execution": {
          "iopub.status.busy": "2023-06-02T06:49:35.307819Z",
          "iopub.execute_input": "2023-06-02T06:49:35.308162Z",
          "iopub.status.idle": "2023-06-02T06:50:14.583565Z",
          "shell.execute_reply.started": "2023-06-02T06:49:35.308136Z",
          "shell.execute_reply": "2023-06-02T06:50:14.582570Z"
        },
        "trusted": true,
        "colab": {
          "referenced_widgets": [
            "5f1483d0c2e044e2923aa72a693c5fe7",
            "16e288fd07e54459880165bfe9784d54"
          ]
        },
        "outputId": "36b551c5-add5-4062-90c9-f1286fe6e58d"
      },
      "execution_count": null,
      "outputs": [
        {
          "output_type": "display_data",
          "data": {
            "text/plain": "Downloading model.safetensors:   0%|          | 0.00/892M [00:00<?, ?B/s]",
            "application/vnd.jupyter.widget-view+json": {
              "version_major": 2,
              "version_minor": 0,
              "model_id": "5f1483d0c2e044e2923aa72a693c5fe7"
            }
          },
          "metadata": {}
        },
        {
          "output_type": "display_data",
          "data": {
            "text/plain": "Downloading (…)neration_config.json:   0%|          | 0.00/147 [00:00<?, ?B/s]",
            "application/vnd.jupyter.widget-view+json": {
              "version_major": 2,
              "version_minor": 0,
              "model_id": "16e288fd07e54459880165bfe9784d54"
            }
          },
          "metadata": {}
        }
      ]
    },
    {
      "cell_type": "code",
      "source": [
        "trainer.train()"
      ],
      "metadata": {
        "colab": {
          "base_uri": "https://localhost:8080/",
          "height": 1000
        },
        "id": "EUqFoJFaetPA",
        "outputId": "cb531e44-c2aa-4f42-858e-3ca030e07a3f",
        "execution": {
          "iopub.status.busy": "2023-06-02T06:50:14.585648Z",
          "iopub.execute_input": "2023-06-02T06:50:14.586084Z",
          "iopub.status.idle": "2023-06-02T06:55:47.755282Z",
          "shell.execute_reply.started": "2023-06-02T06:50:14.586046Z",
          "shell.execute_reply": "2023-06-02T06:55:47.754215Z"
        },
        "trusted": true
      },
      "execution_count": null,
      "outputs": [
        {
          "name": "stderr",
          "text": "/opt/conda/lib/python3.10/site-packages/transformers/optimization.py:407: FutureWarning: This implementation of AdamW is deprecated and will be removed in a future version. Use the PyTorch implementation torch.optim.AdamW instead, or set `no_deprecation_warning=True` to disable this warning\n  warnings.warn(\nYou're using a T5TokenizerFast tokenizer. Please note that with a fast tokenizer, using the `__call__` method is faster than using a method to encode the text followed by a call to the `pad` method to get a padded encoding.\n",
          "output_type": "stream"
        },
        {
          "output_type": "display_data",
          "data": {
            "text/plain": "<IPython.core.display.HTML object>",
            "text/html": "\n    <div>\n      \n      <progress value='582' max='582' style='width:300px; height:20px; vertical-align: middle;'></progress>\n      [582/582 05:27, Epoch 1/1]\n    </div>\n    <table border=\"1\" class=\"dataframe\">\n  <thead>\n <tr style=\"text-align: left;\">\n      <th>Step</th>\n      <th>Training Loss</th>\n      <th>Validation Loss</th>\n      <th>Exact Match</th>\n      <th>F1</th>\n    </tr>\n  </thead>\n  <tbody>\n    <tr>\n      <td>100</td>\n      <td>0.251300</td>\n      <td>0.406584</td>\n      <td>66.058394</td>\n      <td>80.358206</td>\n    </tr>\n    <tr>\n      <td>200</td>\n      <td>0.240700</td>\n      <td>0.385958</td>\n      <td>66.058394</td>\n      <td>79.946974</td>\n    </tr>\n    <tr>\n      <td>300</td>\n      <td>0.250200</td>\n      <td>0.389894</td>\n      <td>66.788321</td>\n      <td>80.190983</td>\n    </tr>\n    <tr>\n      <td>400</td>\n      <td>0.248100</td>\n      <td>0.382872</td>\n      <td>67.153285</td>\n      <td>80.339180</td>\n    </tr>\n    <tr>\n      <td>500</td>\n      <td>0.244000</td>\n      <td>0.389262</td>\n      <td>66.788321</td>\n      <td>80.305444</td>\n    </tr>\n  </tbody>\n</table><p>"
          },
          "metadata": {}
        },
        {
          "execution_count": 20,
          "output_type": "execute_result",
          "data": {
            "text/plain": "TrainOutput(global_step=582, training_loss=0.24449724020417204, metrics={'train_runtime': 329.9241, 'train_samples_per_second': 14.109, 'train_steps_per_second': 1.764, 'total_flos': 1790066211056640.0, 'train_loss': 0.24449724020417204, 'epoch': 1.0})"
          },
          "metadata": {}
        }
      ]
    },
    {
      "cell_type": "code",
      "source": [
        "history = pd.DataFrame(transformers.modelcard.parse_log_history(trainer.state.log_history)[1])\n",
        "def plot_history(history):\n",
        "    fig, axes = plt.subplots(2, 2, figsize=(10, 6))\n",
        "\n",
        "    axes[0, 0].plot(history['Step'], history['Training Loss'], label='Training Loss')\n",
        "    axes[0, 1].plot(history['Step'], history['Validation Loss'], label='Validation Loss')\n",
        "    axes[0, 0].set_xlabel('Step')\n",
        "    axes[0, 0].set_ylabel('Loss')\n",
        "    axes[0, 1].set_xlabel('Step')\n",
        "    axes[0, 1].set_ylabel('Loss')\n",
        "    axes[0, 0].set_title('Training Loss')\n",
        "    axes[0, 1].set_title('Validation Loss')\n",
        "\n",
        "    metrics = ['Exact Match', 'F1']\n",
        "\n",
        "    for i, metric in enumerate(metrics):\n",
        "        ax = axes[i // 2+1, i % 2]\n",
        "        ax.plot(history['Step'], history[metric])\n",
        "        ax.set_xlabel('Step')\n",
        "        ax.set_ylabel(metric)\n",
        "        ax.set_title(metric)\n",
        "\n",
        "    plt.tight_layout()\n",
        "    plt.show()\n",
        "\n",
        "plot_history(history)"
      ],
      "metadata": {
        "id": "m2WFQUdHe0pP",
        "execution": {
          "iopub.status.busy": "2023-06-02T07:16:35.939099Z",
          "iopub.execute_input": "2023-06-02T07:16:35.939475Z",
          "iopub.status.idle": "2023-06-02T07:16:36.887675Z",
          "shell.execute_reply.started": "2023-06-02T07:16:35.939445Z",
          "shell.execute_reply": "2023-06-02T07:16:36.886595Z"
        },
        "trusted": true,
        "outputId": "d07def5a-e9a6-442e-8e8c-3e2f34236950"
      },
      "execution_count": null,
      "outputs": [
        {
          "output_type": "display_data",
          "data": {
            "text/plain": "<Figure size 1000x600 with 4 Axes>",
            "image/png": "[encoded data removed]"
          },
          "metadata": {}
        }
      ]
    },
    {
      "cell_type": "code",
      "source": [
        "history.columns"
      ],
      "metadata": {
        "execution": {
          "iopub.status.busy": "2023-06-02T07:15:17.736011Z",
          "iopub.execute_input": "2023-06-02T07:15:17.736379Z",
          "iopub.status.idle": "2023-06-02T07:15:17.743481Z",
          "shell.execute_reply.started": "2023-06-02T07:15:17.736349Z",
          "shell.execute_reply": "2023-06-02T07:15:17.742569Z"
        },
        "trusted": true,
        "id": "hv-gbqAYEj2r",
        "outputId": "09796596-3ad0-4200-da3e-6ea88dac3b1d"
      },
      "execution_count": null,
      "outputs": [
        {
          "execution_count": 39,
          "output_type": "execute_result",
          "data": {
            "text/plain": "Index(['Training Loss', 'Epoch', 'Step', 'Validation Loss', 'Exact Match',\n       'F1'],\n      dtype='object')"
          },
          "metadata": {}
        }
      ]
    },
    {
      "cell_type": "code",
      "source": [
        "trainer.save_model()"
      ],
      "metadata": {
        "execution": {
          "iopub.status.busy": "2023-06-02T07:15:21.033040Z",
          "iopub.execute_input": "2023-06-02T07:15:21.033415Z",
          "iopub.status.idle": "2023-06-02T07:15:22.333062Z",
          "shell.execute_reply.started": "2023-06-02T07:15:21.033384Z",
          "shell.execute_reply": "2023-06-02T07:15:22.332056Z"
        },
        "trusted": true,
        "id": "U_2dVP7sEj2s"
      },
      "execution_count": null,
      "outputs": []
    },
    {
      "cell_type": "markdown",
      "source": [
        "**Text summarization model uploading**"
      ],
      "metadata": {
        "id": "i1TS2TmrEj2s"
      }
    },
    {
      "cell_type": "code",
      "source": [
        "model_name = \"t5-base-medium-title-generation/checkpoint-1000\"\n",
        "model_dir = f\"drive/MyDrive/Models/{model_name}\"\n",
        "\n",
        "tokenizer = AutoTokenizer.from_pretrained(model_dir)\n",
        "model = AutoModelForSeq2SeqLM.from_pretrained(model_dir)\n",
        "\n",
        "max_input_length = 512"
      ],
      "metadata": {
        "id": "bqUkSVKsEj2s"
      },
      "execution_count": null,
      "outputs": []
    },
    {
      "cell_type": "markdown",
      "source": [
        "**QA model uploading**"
      ],
      "metadata": {
        "id": "aN2HN-hHEj2s"
      }
    },
    {
      "cell_type": "code",
      "source": [
        "model_name = \"t5-base-qa-task/checkpoint-400\"\n",
        "model_dir = f\"drive/MyDrive/Models/{model_name}\"\n",
        "\n",
        "tokenizer = AutoTokenizer.from_pretrained(model_dir)\n",
        "model = AutoModelForSeq2SeqLM.from_pretrained(model_dir)\n",
        "\n",
        "max_input_length = 512"
      ],
      "metadata": {
        "execution": {
          "iopub.status.busy": "2023-06-02T08:51:49.141151Z",
          "iopub.execute_input": "2023-06-02T08:51:49.141509Z",
          "iopub.status.idle": "2023-06-02T08:51:52.181755Z",
          "shell.execute_reply.started": "2023-06-02T08:51:49.141480Z",
          "shell.execute_reply": "2023-06-02T08:51:52.180755Z"
        },
        "trusted": true,
        "id": "AAk7nRwOEj2s"
      },
      "execution_count": null,
      "outputs": []
    },
    {
      "cell_type": "markdown",
      "source": [
        "## Evaluation"
      ],
      "metadata": {
        "id": "-_WaVGKccca9"
      }
    },
    {
      "cell_type": "code",
      "source": [
        "device = torch.device('cuda' if torch.cuda.is_available() else 'cpu')\n",
        "model = model.to(device)\n",
        "device"
      ],
      "metadata": {
        "execution": {
          "iopub.status.busy": "2023-06-02T08:47:35.203865Z",
          "iopub.execute_input": "2023-06-02T08:47:35.204259Z",
          "iopub.status.idle": "2023-06-02T08:47:35.225972Z",
          "shell.execute_reply.started": "2023-06-02T08:47:35.204228Z",
          "shell.execute_reply": "2023-06-02T08:47:35.224708Z"
        },
        "trusted": true,
        "colab": {
          "base_uri": "https://localhost:8080/"
        },
        "id": "eyLvEG2BEj2t",
        "outputId": "7c134f97-3298-4566-e4c5-a231127aa3a2"
      },
      "execution_count": null,
      "outputs": [
        {
          "output_type": "execute_result",
          "data": {
            "text/plain": [
              "device(type='cuda')"
            ]
          },
          "metadata": {},
          "execution_count": 35
        }
      ]
    },
    {
      "cell_type": "markdown",
      "source": [
        "**Summarization task**"
      ],
      "metadata": {
        "id": "GgW0h9RuEj2t"
      }
    },
    {
      "cell_type": "code",
      "source": [
        "test_sum_tokenized_dataset = summarize_tokenized_datasets[\"test\"]\n",
        "\n",
        "def preprocess_test_sum(examples):\n",
        "    inputs = [prefix + text for text in examples[\"text\"]]\n",
        "    model_inputs = tokenizer(inputs, max_length=max_input_length, truncation=True,\n",
        "                           padding=\"max_length\")\n",
        "    return model_inputs\n",
        "\n",
        "test_sum_tokenized_dataset = test_sum_tokenized_dataset.map(preprocess_test_sum, batched=True)\n",
        "\n",
        "test_sum_tokenized_dataset.set_format(type='torch', columns=['input_ids', 'attention_mask'])\n",
        "dataloader = torch.utils.data.DataLoader(test_sum_tokenized_dataset, batch_size=32)\n",
        "\n",
        "all_predictions = []\n",
        "for i,batch in enumerate(dataloader):\n",
        "    batch = {key: value.to(device) for key, value in batch.items()}\n",
        "    predictions = model.generate(**batch)\n",
        "    all_predictions.append(predictions)\n",
        "\n",
        "all_predictions_flattened = [pred for preds in all_predictions for pred in preds]\n",
        "\n",
        "all_titles = tokenizer(test_sum_tokenized_dataset[\"title\"], max_length=max_target_length,\n",
        "                       truncation=True, padding=\"max_length\")[\"input_ids\"]\n",
        "\n",
        "predictions_labels = [all_predictions_flattened, all_titles]\n",
        "compute_metrics_sum(predictions_labels)"
      ],
      "metadata": {
        "id": "LsPh50j4qdFd",
        "colab": {
          "base_uri": "https://localhost:8080/",
          "height": 107,
          "referenced_widgets": [
            "07965d481ef8441496cf4fc128e42e71",
            "13ee727e51044eea84a2841958b4e957",
            "5f452786ec2b4a1c8b1ee552749187a9",
            "3762508e992e41e7979c0fa59e4122d6",
            "ef328cb911cb4a57a1c1c437d43d0a37",
            "0a86720bf9914a4d9007be0c85354845",
            "d889e4d97c3943bdb64c840f7555f96a",
            "5f0aa944f14049bb844daa1d3bd0d76d",
            "189266d642584d1a9491b1139a657728",
            "36502836751d49c586ee8c890e3ae38d",
            "a2183c178ad542b5875d82a0ae97623a"
          ]
        },
        "outputId": "22637f42-2b19-4d54-c4d8-5f6595eedb37"
      },
      "execution_count": null,
      "outputs": [
        {
          "output_type": "display_data",
          "data": {
            "text/plain": [
              "Map:   0%|          | 0/258 [00:00<?, ? examples/s]"
            ],
            "application/vnd.jupyter.widget-view+json": {
              "version_major": 2,
              "version_minor": 0,
              "model_id": "07965d481ef8441496cf4fc128e42e71"
            }
          },
          "metadata": {}
        },
        {
          "output_type": "execute_result",
          "data": {
            "text/plain": [
              "{'rouge1': 42.359,\n",
              " 'rouge2': 29.7362,\n",
              " 'rougeL': 40.4393,\n",
              " 'rougeLsum': 40.5822,\n",
              " 'gen_len': 12.0853}"
            ]
          },
          "metadata": {},
          "execution_count": 26
        }
      ]
    },
    {
      "cell_type": "code",
      "source": [
        "def get_lowest_articles(predictions_labels, compute_metrics, n=5, metric='rougeLsum'):\n",
        "    predictions, labels = predictions_labels\n",
        "    metric_values = []\n",
        "\n",
        "    for i, (pred, label) in enumerate(zip(predictions, labels)):\n",
        "        if i % 20 == 0:\n",
        "            print(f'{i}/{len(labels)}...')\n",
        "        eval_pred = [[pred], [label]]\n",
        "        metrics = compute_metrics(eval_pred)\n",
        "        metric_value = metrics[metric]\n",
        "        metric_values.append(metric_value)\n",
        "\n",
        "    lowest_indices = sorted(range(len(metric_values)), key=lambda i: metric_values[i])[:n]\n",
        "    lowest_articles = [labels[i] for i in lowest_indices]\n",
        "\n",
        "    return lowest_articles, lowest_indices\n",
        "\n",
        "lowest_articles, lowest_indices = get_lowest_articles(predictions_labels, compute_metrics_sum)\n",
        "\n",
        "lowest_indices"
      ],
      "metadata": {
        "colab": {
          "base_uri": "https://localhost:8080/"
        },
        "id": "9g_DWqZDU6xL",
        "outputId": "d06902c8-5d8a-4749-c933-769f4ab54a24",
        "execution": {
          "iopub.status.busy": "2023-06-02T08:31:12.462067Z",
          "iopub.execute_input": "2023-06-02T08:31:12.462435Z",
          "iopub.status.idle": "2023-06-02T08:31:12.605877Z",
          "shell.execute_reply.started": "2023-06-02T08:31:12.462405Z",
          "shell.execute_reply": "2023-06-02T08:31:12.604342Z"
        },
        "trusted": true
      },
      "execution_count": null,
      "outputs": [
        {
          "output_type": "stream",
          "name": "stdout",
          "text": [
            "0/258...\n",
            "20/258...\n",
            "40/258...\n",
            "60/258...\n",
            "80/258...\n",
            "100/258...\n",
            "120/258...\n",
            "140/258...\n",
            "160/258...\n",
            "180/258...\n",
            "200/258...\n",
            "220/258...\n",
            "240/258...\n"
          ]
        },
        {
          "output_type": "execute_result",
          "data": {
            "text/plain": [
              "[7, 11, 17, 20, 21]"
            ]
          },
          "metadata": {},
          "execution_count": 27
        }
      ]
    },
    {
      "cell_type": "code",
      "source": [
        "def predict_result(text, model, flag=False):\n",
        "    if flag:\n",
        "        inputs = text\n",
        "    else:\n",
        "        inputs = [\"summarize: \" + text]\n",
        "    inputs = tokenizer(inputs, max_length=max_input_length, truncation=True, return_tensors=\"pt\")\n",
        "    inputs = {key: value.to(device) for key, value in inputs.items()} \n",
        "\n",
        "    output = model.generate(**inputs, num_beams=8, do_sample=True, min_length=10, max_length=64)\n",
        "    decoded_output = tokenizer.batch_decode(output, skip_special_tokens=True)[0]\n",
        "    predicted_title = nltk.sent_tokenize(decoded_output.strip())[0]\n",
        "\n",
        "    return predicted_title\n"
      ],
      "metadata": {
        "id": "ml9SoINacD9x",
        "execution": {
          "iopub.status.busy": "2023-06-02T08:40:09.846262Z",
          "iopub.execute_input": "2023-06-02T08:40:09.846679Z",
          "iopub.status.idle": "2023-06-02T08:40:09.856569Z",
          "shell.execute_reply.started": "2023-06-02T08:40:09.846647Z",
          "shell.execute_reply": "2023-06-02T08:40:09.855455Z"
        },
        "trusted": true
      },
      "execution_count": null,
      "outputs": []
    },
    {
      "cell_type": "code",
      "source": [
        "text, title = summarize_tokenized_datasets[\"test\"][11]['text'], summarize_tokenized_datasets[\"test\"][11]['title']\n",
        "text, title"
      ],
      "metadata": {
        "colab": {
          "base_uri": "https://localhost:8080/"
        },
        "id": "TCZ9vZTTZ_HV",
        "outputId": "6428ea8f-8d86-4c01-f187-e5f537844ed6"
      },
      "execution_count": null,
      "outputs": [
        {
          "output_type": "execute_result",
          "data": {
            "text/plain": [
              "(\"Uber’s Manifold\\n\\nPhoto by Dan Gold on Unsplash\\n\\nFor my project, I am creating an Ensemble. An Ensemble is a collection of machine learning algorithms that each individually train and predict on the same data. The advantage of an Ensemble is that it provides a range of different strategies for finding a solution and utilizes a majority vote that democratizes the classification by all the models. This is useful because whilst an individual model may predict some portions well, it may struggle on other portions of the data. Hence, an ensemble is just the machine learning version of the strength in numbers adage. In order for an ensemble to perform well, the individual models that make it up must have diversity of prediction. Diversity of prediction is a fancy way of saying that the models can’t all be predicting exactly same for the exact points, rather they should be performing well on different selections of points. This raises the question however, how do you know if the parts of your ensemble are diversifying their predictions? This is where the transportation tech giant Uber’s Manifold comes in.\\n\\nUber’s Manifold is an open-source long-term project that aims to provide a model-agnostic visual debugging tool for machine learning. In layman's terms Manifold allows you to visualize which subset of the data your model or models are underperforming on and which features are causing ambiguity.\\n\\nAs you can imagine this is very useful when working on ensembles. The tool creates a widget output that can be interacted with within your notebook for quick analysis. It is important to note, however, that this tool currently only works in classic Jupyter notebooks. It doesn’t function on Jupyter Lab or Google’s Colab.\\n\\nManifold works by using k-means clustering, a neighbor grouping technique, to separate the prediction data into performance similarity segments. You can imagine this as splitting the data into subcategories of similarity. The models are then plotted along each segment, where the further to the left the model is the better it performed on that segment, you can see this on a randomly generated example below:\\n\\nManifold’s performance comparison widget within my Jupyter Notebook. Mousing over the lines provides values and insight into the results. Image by Author.\\n\\nIn the example above we have three models and the input data has been split into four segments. Using log-loss as our performance metric we can see that model_1 performs poorly on segment_0, whereas model_2 performs poorly on segment_2. The shape of the lines represents the performance distribution and the height of the lines represents the relative data point count at that log-loss. So again, for example, on model_1 in segment_1, we can see that there is a low but intense concentration of points with a log loss of 1.5.\\n\\nManifold also offers a feature attribution view:\\n\\nManifold’s feature attribution widget within my Jupyter Notebook. Mousing over the lines provides values and insight into the results. Image by Author.\\n\\nThe feature attribution view highlights the distribution of features for each segmentation. In the example above data group 0 includes clusters two and three, and we are comparing them to data group 1 which includes clusters zero and one. Along the x-axis is the feature values and the y-axis is the intensity of the cause. Feature_0 highlights these differences at small intervals whereas feature_1 highlights the histogram of feature values. Because this is an interactive widget the values aren’t shown unless moused over. If you are interested in a closer look check out the example here.\\n\\nSo how do we integrate Manifold in our project?\\n\\nManifold is still in the early stages of development and there are still some bugs and nuances to the tool, however, this should not discourage you from trying to use it in your own project. In my circumstances, I needed to install a few packages to get it to work in my Jupyter notebook. This required some trial and error but eventually resulted in the following commands:\\n\\n!jupyter nbextension install --py --sys-prefix widgetsnbextension\\n\\n!jupyter nbextension enable --py --sys-prefix widgetsnbextension\\n\\n!pip install mlvis\\n\\n!jupyter nbextension install --py --symlink --sys-prefix mlvis\\n\\n!jupyter nbextension enable --py --sys-prefix mlvis\\n\\nIt wasn’t sufficient to just install the nbextention packages, I also had to enable the packages. From here we can import a few tools for our demo:\\n\\nfrom mlvis import Manifold\\n\\nimport sys, json, math\\n\\nfrom random import uniform\\n\\nTo use the Manifold framework your data needs to grouped into three specific formats. The first group is all of your x-values, which must be in a list of dictionaries:\\n\\n#Example of x-values\\n\\nx = [\\n\\n{'feature_0': 21, 'feature_1': 'B'},\\n\\n{'feature_0': 36, 'feature_1': 'A'}\\n\\n]\\n\\nThe second group is your different model predictions, which must be a list of a list where each list is a different model’s predictions:\\n\\n#Example of model predictions\\n\\nyPred = [\\n\\n[{'false': 0.1, 'true': 0.9}, {'false': 0.8, 'true': 0.2}],\\n\\n[{'false': 0.3, 'true': 0.7}, {'false': 0.9, 'true': 0.1}],\\n\\n[{'false': 0.6, 'true': 0.4}, {'false': 0.4, 'true': 0.6}]\\n\\n]\\n\\nThe final group is the ground truth values or actual correct y-values, which are in a list of values:\\n\\n#Example of ground truth\\n\\nyTrue = [\\n\\n'true',\\n\\n'false'\\n\\n]\\n\\nOnce your data is in this format we can pass the values into the Manifold object and execute to get the widget, which looks like the examples above:\\n\\nManifold(props={'data': {\\n\\n'x': x,\\n\\n'yPred': yPred,\\n\\n'yTrue': yTrue\\n\\n}})\\n\\nUsing the Manifold tool you can then visually evaluate how your different models are performing on the same data. In my case, this was very helpful for building the ensemble because it allowed for me to understand which models performed where, and which data clusters were the hardest for the models to classify. Manifold also helped me evaluate the diversity of prediction for each model within the ensemble allowing me to construct a more robust apparatus that was able to classify over a range of different inputs.\",\n",
              " 'Two Tools Every Data Scientist Should Use for Their Next ML Project')"
            ]
          },
          "metadata": {},
          "execution_count": 29
        }
      ]
    },
    {
      "cell_type": "code",
      "source": [
        "predict_result(text, model)"
      ],
      "metadata": {
        "colab": {
          "base_uri": "https://localhost:8080/",
          "height": 36
        },
        "id": "LvmYGY0VbnBk",
        "outputId": "103af2d3-5fa5-4e34-a147-4106a22493e9"
      },
      "execution_count": null,
      "outputs": [
        {
          "output_type": "execute_result",
          "data": {
            "text/plain": [
              "'Uber’s Manifold Photo by Dan Gold on Unsplash'"
            ],
            "application/vnd.google.colaboratory.intrinsic+json": {
              "type": "string"
            }
          },
          "metadata": {},
          "execution_count": 30
        }
      ]
    },
    {
      "cell_type": "code",
      "source": [
        "text, title = summarize_tokenized_datasets[\"test\"][17]['text'], summarize_tokenized_datasets[\"test\"][41]['title']\n",
        "text, title"
      ],
      "metadata": {
        "colab": {
          "base_uri": "https://localhost:8080/"
        },
        "id": "K_Kn597OcGlO",
        "outputId": "cec6bbfd-e429-468e-b97d-dd125049c5aa"
      },
      "execution_count": null,
      "outputs": [
        {
          "output_type": "execute_result",
          "data": {
            "text/plain": [
              "('Saving is not enough. If we want to be smart from a financial point of view, it is not enough to just save, but also to invest our money purposefully. Investing is no longer reserved for the elite, with the internet hitting scale, we can now make money work for us with a click and, in this way, our savings start creating wealth for ourselves over time. If you have never invested, you may have certain doubts or fears. This is normal for small savers: they fear losing their savings in a bad investment. However, this situation not only does not have to occur, but it is also unlikely if you follow these investment tips.\\n\\nSaving is not enough. If we want to be smart from a financial point of view, it is not enough to just save, but also to invest our money purposefully. Investing is no longer reserved for the elite, with the internet hitting scale, we can now make money work for us with a click and, in this way, our savings start creating wealth for ourselves over time. If you have never invested, you may have certain doubts or fears. This is normal for small savers: they fear losing their savings in a bad investment. However, this situation not only does not have to occur, but it is also unlikely if you follow these investment tips.\\n\\nInvestors like Farah C. Jaber have talked about investing for quite a while. Farah has written a book entitled “Becoming an Investor: The First 100 Days” and hosts The New Investor Podcast to exactly tackle that subject for young and new investors\\n\\nFarah is a hospitality management leader, author, investor and podcast host, he is the founder of Investors Media LLC, a company he based out of Delaware, United States designed to support young and new investors to start their journey to Financial Freedom. He holds a Master’s degree from Paris Graduate School of Management and a Bachelor’s degree from Glion Institute of Higher Education in Switzerland\\n\\nIf you aspire to start investing, here are some of his simple tips that will help you out.\\n\\nDetermine the time horizon of the investment.\\n\\nIt is essential that you know for how long you are ready to commit to your investment strategy. A short-term investment is not as effective, looking for a small return on your savings that you may soon need and cashing out will not place you on the path of Financial Freedom. However, making a commitment towards a long-term one with consistent and monthly injection into your capital for investment will certainly place you in a very good position to build wealth\\n\\nDefine your risk profile.\\n\\nFinancial advisors usually do questionnaires to define the risk profile of investors. There are investors who prefer safer returns with hardly any risk and there are those who choose to assume a higher risk to aim for higher returns. In any case, should you still be blessed with the most valuable commodity in investing: Time, such will significantly influence your risk profile, since in the long term, a greater risk can be assumed and the markets have always recovered stronger than ever over time.\\n\\nDecide how much you want to invest.\\n\\nThe next step before investing is deciding how much you are ready to invest. It seems like a simple decision, but it is not at all. Keep in mind that the money invested, except in the unlikely event of the world economy melting overnight, will not be cashed out until you have build enough wealth to set you free. If you are thinking about investing for your retirement, then you must be ready to stay invested until then. The money invested must be forgotten, so it is important that you do the math well before deciding the ideal amount of wealth you are aiming at and engineer your investment strategy backwards\\n\\nDo not invest in anything you do not understand.\\n\\nIt is not enough to listen and follow financial news and base your investment strategy or decision making on an investment on such a medium. Even if you may trust what is being said on these major news channels, you should read the fine prints by doing your own research and not invest in companies and sectors you are not passionate about or don’t understand.\\n\\nBeware of investments that are “too good to be true.”\\n\\nIf an investment opportunity offers you a 15% return, be sure that it is a high-risk investment, it is imperative that your investment strategy avoids being based upon a “get rich fast” model. Building wealth over time can be achieved through investing into companies that are the pillars of economies, paying dividends and unlikely to disappear within the next decade.\\n\\nFlee from fashion businesses and gurus.\\n\\nHandle your money with caution and do not trust that trendy company that seems to devour the market or that financial guru who is on television all day giving investment advice. The idea, as explained in the previous point is to have a personal and methodical approach to your investing strategy focused on the long term.\\n\\nStart investing as soon as possible.\\n\\nThis is the basic premise. It is not the same to invest 20,000 euros when you are 25 years old than when you are 40. Compound interest brings great long-term benefits, so you have to start investing as soon as possible since the profitability of your savings will be much higher over time the earlier you get into it.',\n",
              " '©[Sledujte] Rychle a zběsile 9 2021 (Filmy) Celý Film Online CZ a Zdarma')"
            ]
          },
          "metadata": {},
          "execution_count": 31
        }
      ]
    },
    {
      "cell_type": "code",
      "source": [
        "predict_result(text, model)"
      ],
      "metadata": {
        "colab": {
          "base_uri": "https://localhost:8080/",
          "height": 36
        },
        "id": "Y3eKSyKrcOOz",
        "outputId": "96e9e899-70a3-4aba-edf0-1a2ba102811a"
      },
      "execution_count": null,
      "outputs": [
        {
          "output_type": "execute_result",
          "data": {
            "text/plain": [
              "'Saving is not enough.'"
            ],
            "application/vnd.google.colaboratory.intrinsic+json": {
              "type": "string"
            }
          },
          "metadata": {},
          "execution_count": 32
        }
      ]
    },
    {
      "cell_type": "markdown",
      "source": [
        "**QA task**"
      ],
      "metadata": {
        "id": "-AVQUaeDEj2u"
      }
    },
    {
      "cell_type": "code",
      "source": [
        "test_qa_dataset_en = qa_tokenized_datasets_en['test']\n",
        "\n",
        "def preprocess_test_qa(example_batch):\n",
        "    \n",
        "    model_inputs = tokenizer(example_batch['input_text'], max_length=max_input_length, truncation=True,\n",
        "                           padding=\"max_length\")\n",
        "    return model_inputs\n",
        "\n",
        "test_qa_tokenized_dataset = test_qa_dataset_en.map(preprocess_test_qa, batched=True)\n",
        "\n",
        "test_qa_tokenized_dataset.set_format(type='torch', columns=['input_ids', 'attention_mask'])\n",
        "dataloader = torch.utils.data.DataLoader(test_qa_tokenized_dataset, batch_size=32)\n",
        "\n",
        "all_predictions = []\n",
        "for i,batch in enumerate(dataloader):\n",
        "    batch = {key: value.to(device) for key, value in batch.items()}\n",
        "    predictions = model.generate(**batch)\n",
        "    all_predictions.append(predictions)\n",
        "\n",
        "all_predictions_flattened = [pred for preds in all_predictions for pred in preds]\n",
        "\n",
        "all_titles = tokenizer(test_qa_tokenized_dataset[\"target_text\"], max_length=max_target_length,\n",
        "                       truncation=True, padding=\"max_length\")[\"input_ids\"]\n",
        "\n",
        "predictions_labels = [all_predictions_flattened, all_titles]\n",
        "compute_metrics_qa(predictions_labels)"
      ],
      "metadata": {
        "execution": {
          "iopub.status.busy": "2023-06-02T07:57:01.495396Z",
          "iopub.execute_input": "2023-06-02T07:57:01.495789Z",
          "iopub.status.idle": "2023-06-02T07:57:09.671639Z",
          "shell.execute_reply.started": "2023-06-02T07:57:01.495735Z",
          "shell.execute_reply": "2023-06-02T07:57:09.670558Z"
        },
        "trusted": true,
        "colab": {
          "referenced_widgets": [
            "4aebd46a1b404051a0823a5628273d09"
          ]
        },
        "id": "M5IfIYLzEj2u",
        "outputId": "98b12a78-2bc4-4e95-e66c-b128e920588b"
      },
      "execution_count": null,
      "outputs": [
        {
          "output_type": "display_data",
          "data": {
            "text/plain": "  0%|          | 0/1 [00:00<?, ?ba/s]",
            "application/vnd.jupyter.widget-view+json": {
              "version_major": 2,
              "version_minor": 0,
              "model_id": "4aebd46a1b404051a0823a5628273d09"
            }
          },
          "metadata": {}
        },
        {
          "execution_count": 64,
          "output_type": "execute_result",
          "data": {
            "text/plain": "{'exact_match': 78.62595419847328, 'f1': 89.68044610684964}"
          },
          "metadata": {}
        }
      ]
    },
    {
      "cell_type": "code",
      "source": [
        "lowest_articles, lowest_indices = get_lowest_articles(predictions_labels, compute_metrics_qa, metric='f1')\n",
        "\n",
        "lowest_indices"
      ],
      "metadata": {
        "execution": {
          "iopub.status.busy": "2023-06-02T08:31:32.650045Z",
          "iopub.execute_input": "2023-06-02T08:31:32.650399Z",
          "iopub.status.idle": "2023-06-02T08:31:32.702015Z",
          "shell.execute_reply.started": "2023-06-02T08:31:32.650371Z",
          "shell.execute_reply": "2023-06-02T08:31:32.700952Z"
        },
        "trusted": true,
        "id": "8nuGfzyVEj2v",
        "outputId": "5901c22c-de82-4ffe-f237-5fbcf27b4bb9"
      },
      "execution_count": null,
      "outputs": [
        {
          "name": "stdout",
          "text": "0/262...\n20/262...\n40/262...\n60/262...\n80/262...\n100/262...\n120/262...\n140/262...\n160/262...\n180/262...\n200/262...\n220/262...\n240/262...\n260/262...\n",
          "output_type": "stream"
        },
        {
          "execution_count": 70,
          "output_type": "execute_result",
          "data": {
            "text/plain": "[21, 37, 128, 155, 169]"
          },
          "metadata": {}
        }
      ]
    },
    {
      "cell_type": "code",
      "source": [
        "text, title = qa_tokenized_datasets['test'][21]['input_text'], qa_tokenized_datasets['test'][21]['target_text']\n",
        "text, title"
      ],
      "metadata": {
        "execution": {
          "iopub.status.busy": "2023-06-02T08:34:23.819942Z",
          "iopub.execute_input": "2023-06-02T08:34:23.820484Z",
          "iopub.status.idle": "2023-06-02T08:34:23.837232Z",
          "shell.execute_reply.started": "2023-06-02T08:34:23.820436Z",
          "shell.execute_reply": "2023-06-02T08:34:23.836338Z"
        },
        "trusted": true,
        "id": "Lw1k2A2hEj2v",
        "outputId": "36e56bb1-092e-4111-97f8-ebda5ff04670"
      },
      "execution_count": null,
      "outputs": [
        {
          "execution_count": 74,
          "output_type": "execute_result",
          "data": {
            "text/plain": "('question: What establishment today contains what was known as the Warsaw Lyceum during that time?  context: In 1817 the Saxon Palace was requisitioned by Warsaw\\'s Russian governor for military use, and the Warsaw Lyceum was reestablished in the Kazimierz Palace (today the rectorate of Warsaw University). Fryderyk and his family moved to a building, which still survives, adjacent to the Kazimierz Palace. During this period, Fryderyk was sometimes invited to the Belweder Palace as playmate to the son of the ruler of Russian Poland, Grand Duke Constantine; he played the piano for the Duke and composed a march for him. Julian Ursyn Niemcewicz, in his dramatic eclogue, \"Nasze Przebiegi\" (\"Our Discourses\", 1818), attested to \"little Chopin\\'s\" popularity.',\n 'Warsaw University')"
          },
          "metadata": {}
        }
      ]
    },
    {
      "cell_type": "code",
      "source": [
        "predict_result(text, model, flag=True)"
      ],
      "metadata": {
        "execution": {
          "iopub.status.busy": "2023-06-02T08:40:12.761587Z",
          "iopub.execute_input": "2023-06-02T08:40:12.762590Z",
          "iopub.status.idle": "2023-06-02T08:40:13.199371Z",
          "shell.execute_reply.started": "2023-06-02T08:40:12.762553Z",
          "shell.execute_reply": "2023-06-02T08:40:13.198413Z"
        },
        "trusted": true,
        "id": "U3iN-fK5Ej2v",
        "outputId": "28b4b0b9-73a6-4051-dbe8-b6d4ca3e88ad"
      },
      "execution_count": null,
      "outputs": [
        {
          "execution_count": 84,
          "output_type": "execute_result",
          "data": {
            "text/plain": "'Kazimierz Palace (today the rectorate of Warsaw University).'"
          },
          "metadata": {}
        }
      ]
    },
    {
      "cell_type": "code",
      "source": [
        "text, title = qa_tokenized_datasets['test'][100]['input_text'], qa_tokenized_datasets['test'][100]['target_text']\n",
        "text, title"
      ],
      "metadata": {
        "execution": {
          "iopub.status.busy": "2023-06-02T08:41:41.732379Z",
          "iopub.execute_input": "2023-06-02T08:41:41.732776Z",
          "iopub.status.idle": "2023-06-02T08:41:41.741400Z",
          "shell.execute_reply.started": "2023-06-02T08:41:41.732726Z",
          "shell.execute_reply": "2023-06-02T08:41:41.740498Z"
        },
        "trusted": true,
        "id": "cQ2kINCaEj2v",
        "outputId": "dd3530a9-a9e7-463b-b4b8-860ab08d7dcc"
      },
      "execution_count": null,
      "outputs": [
        {
          "execution_count": 89,
          "output_type": "execute_result",
          "data": {
            "text/plain": "('question: What code eventually became neglected?  context: Probably the most influential single device on the interpretation of these characters was the Teletype Model 33 ASR, which was a printing terminal with an available paper tape reader/punch option. Paper tape was a very popular medium for long-term program storage until the 1980s, less costly and in some ways less fragile than magnetic tape. In particular, the Teletype Model 33 machine assignments for codes 17 (Control-Q, DC1, also known as XON), 19 (Control-S, DC3, also known as XOFF), and 127 (Delete) became de facto standards. The Model 33 was also notable for taking the description of Control-G (BEL, meaning audibly alert the operator) literally as the unit contained an actual bell which it rang when it received a BEL character. Because the keytop for the O key also showed a left-arrow symbol (from ASCII-1963, which had this character instead of underscore), a noncompliant use of code 15 (Control-O, Shift In) interpreted as \"delete previous character\" was also adopted by many early timesharing systems but eventually became neglected.',\n 'code 15 (Control-O, Shift In)')"
          },
          "metadata": {}
        }
      ]
    },
    {
      "cell_type": "code",
      "source": [
        "predict_result(text, model, flag=True)"
      ],
      "metadata": {
        "execution": {
          "iopub.status.busy": "2023-06-02T08:41:42.061396Z",
          "iopub.execute_input": "2023-06-02T08:41:42.061777Z",
          "iopub.status.idle": "2023-06-02T08:41:42.351114Z",
          "shell.execute_reply.started": "2023-06-02T08:41:42.061726Z",
          "shell.execute_reply": "2023-06-02T08:41:42.350005Z"
        },
        "trusted": true,
        "id": "yB3-dY0YEj2v",
        "outputId": "cc70cdaf-c2c9-426d-ac7d-030455231a92"
      },
      "execution_count": null,
      "outputs": [
        {
          "execution_count": 90,
          "output_type": "execute_result",
          "data": {
            "text/plain": "'code 15 (Control-O, Shift In)'"
          },
          "metadata": {}
        }
      ]
    },
    {
      "cell_type": "markdown",
      "source": [
        "## Test"
      ],
      "metadata": {
        "id": "QmWDJOhnTEmu"
      }
    },
    {
      "cell_type": "code",
      "source": [
        "text = \"\"\"\n",
        "The Applied Sciences Faculty at Ukrainian Catholic University (UCU) is a dynamic \n",
        "and innovative academic hub that fosters excellence in practical education and research.\n",
        "With a strong emphasis on bridging the gap between theory and practice, the faculty \n",
        "equips students with the skills and knowledge needed to thrive in today's rapidly \n",
        "evolving technological landscape. Through its diverse range of programs, including \n",
        "computer science, engineering, data analytics, and information systems, the faculty \n",
        "empowers students to become problem solvers and innovators in their respective fields. \n",
        "Faculty members, renowned for their expertise and industry experience, provide personalized \n",
        "attention and mentorship to students, ensuring a nurturing and engaging learning environment. \n",
        "With state-of-the-art facilities and cutting-edge laboratories, the faculty at UCU offers a \n",
        "vibrant platform for students to explore, experiment, and collaborate on real-world projects. \n",
        "Graduates from the Applied Sciences Faculty emerge as highly sought-after professionals, \n",
        "equipped with the practical skills and academic foundation to excel in their careers and \n",
        "make a positive impact on society.\n",
        "\"\"\"\n",
        "\n",
        "print(predict_result(text, model))"
      ],
      "metadata": {
        "id": "COdutSc1Oel9",
        "colab": {
          "base_uri": "https://localhost:8080/"
        },
        "outputId": "50e447fe-d9de-40e2-9d78-b41d96ad4518"
      },
      "execution_count": null,
      "outputs": [
        {
          "output_type": "stream",
          "name": "stdout",
          "text": [
            "The Applied Sciences Faculty at Ukrainian Catholic University (UCU)\n"
          ]
        }
      ]
    },
    {
      "cell_type": "code",
      "source": [
        "text = \"\"\"\n",
        "Ukraine is a country that captivates with its stunning natural beauty and rich cultural \n",
        "heritage. From the picturesque Carpathian Mountains in the west to the serene beaches of \n",
        "the Black Sea coast in the south, Ukraine offers diverse landscapes that leave visitors in \n",
        "awe. The country is adorned with charming villages, vibrant cities, and architectural marvels, \n",
        "such as the golden-domed cathedrals of Kyiv and the historic castles of Lviv. Moreover, Ukraine's \n",
        "warm-hearted people, delicious cuisine, and colorful traditions add an extra layer of charm to \n",
        "this enchanting land, making it a truly captivating destination for travelers.\n",
        "\"\"\"\n",
        "\n",
        "print(predict_result(text, model))"
      ],
      "metadata": {
        "id": "MqH3hlZg_3HE",
        "colab": {
          "base_uri": "https://localhost:8080/"
        },
        "outputId": "36d62176-fd45-458d-95d0-9cc8c1995caf"
      },
      "execution_count": null,
      "outputs": [
        {
          "output_type": "stream",
          "name": "stdout",
          "text": [
            "Ukraine: A Country that captivates with its stunning natural beauty and rich cultural heritage\n"
          ]
        }
      ]
    },
    {
      "cell_type": "code",
      "source": [
        "text = \"\"\"\n",
        "question: When did Ukraine gain its independence?\n",
        "context:  Ukraine declared its independence on August 24, 1991.\n",
        "This marked a significant moment in the country's history and paved the way for its\n",
        "development as an independent nation..\n",
        "\"\"\"\n",
        "print(predict_result(text, model, False))"
      ],
      "metadata": {
        "id": "SSxfvdu1fXS2",
        "execution": {
          "iopub.status.busy": "2023-06-02T09:05:03.290622Z",
          "iopub.execute_input": "2023-06-02T09:05:03.291661Z",
          "iopub.status.idle": "2023-06-02T09:05:03.935964Z",
          "shell.execute_reply.started": "2023-06-02T09:05:03.291625Z",
          "shell.execute_reply": "2023-06-02T09:05:03.934812Z"
        },
        "trusted": true,
        "outputId": "8da5c5be-fc73-4cf4-964d-f11dffe1e2b5"
      },
      "execution_count": null,
      "outputs": [
        {
          "name": "stdout",
          "text": "August 24, 1991.\n",
          "output_type": "stream"
        }
      ]
    },
    {
      "cell_type": "code",
      "source": [
        "text=\"\"\"\n",
        "question: What are the main industries in Ukraine?\n",
        "context: Ukraine has a diverse economy withvarious industries contributing to its growth.\n",
        "Some of the main industries in Ukraine include agriculture, manufacturing, energy, information\n",
        "technology, and services. The country is known for its fertile agricultural land, producing crops \n",
        "such as wheat, corn, and sunflower seeds.\n",
        "\"\"\"\n",
        "print(predict_result(text, model, False))"
      ],
      "metadata": {
        "execution": {
          "iopub.status.busy": "2023-06-02T09:06:37.278219Z",
          "iopub.execute_input": "2023-06-02T09:06:37.278596Z",
          "iopub.status.idle": "2023-06-02T09:06:37.535535Z",
          "shell.execute_reply.started": "2023-06-02T09:06:37.278566Z",
          "shell.execute_reply": "2023-06-02T09:06:37.534456Z"
        },
        "trusted": true,
        "id": "cb1kCLKAEj2w",
        "outputId": "7fada30a-66a1-433a-e21f-6265c5356bba"
      },
      "execution_count": null,
      "outputs": [
        {
          "name": "stdout",
          "text": "agriculture, manufacturing, energy, information technology, and services\n",
          "output_type": "stream"
        }
      ]
    }
  ]
}